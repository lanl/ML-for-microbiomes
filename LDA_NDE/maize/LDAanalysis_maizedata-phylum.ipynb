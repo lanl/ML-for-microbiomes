{
 "cells": [
  {
   "cell_type": "code",
   "execution_count": 21,
   "metadata": {},
   "outputs": [],
   "source": [
    "import numpy as np\n",
    "import pandas as pd\n",
    "\n",
    "from sklearn.metrics.pairwise import cosine_similarity\n",
    "from matplotlib.collections import PatchCollection\n",
    "from matplotlib import cm\n",
    "\n",
    "import matplotlib.pyplot as plt\n",
    "import seaborn as sns\n",
    "\n",
    "import plotly.express as px\n",
    "import warnings\n",
    "warnings.filterwarnings('ignore')\n",
    "\n",
    "from IPython.core.interactiveshell import InteractiveShell\n",
    "InteractiveShell.ast_node_interactivity = \"all\"\n",
    "from scipy import stats\n",
    " \n",
    "from matplotlib.lines import Line2D\n",
    "from collections import defaultdict\n",
    "\n",
    "\n",
    "def load_topic_word_distributions(taxa_prob):\n",
    "    topic_word_prob_dict = defaultdict(lambda: defaultdict(float))\n",
    "    topic_sum_dict = defaultdict(float)\n",
    "    with open(taxa_prob,'r') as f:       \n",
    "        for _line in f:        \n",
    "            t, w, p = _line.split('\\t')\n",
    "            topic_word_prob_dict[t][w] = float(p)\n",
    "            topic_sum_dict[t] += float(p)\n",
    "\n",
    "    topic_word_probability_dict = defaultdict(lambda: defaultdict(float))\n",
    "    for t, wp_dict in topic_word_prob_dict.items():\n",
    "        for i, j in wp_dict.items():\n",
    "            topic_word_probability_dict[int(t)][i] = j / topic_sum_dict[t]\n",
    "    return topic_word_probability_dict\n",
    "  \n",
    "\n",
    "def get_df(tax_level, thrs):\n",
    "    list_taxonomies = df_gen0_gen1_mb.columns[2:9]\n",
    "    temp = df_gen0_gen1_mb.groupby([tax_level]).agg(np.sum)\n",
    "    X = temp.T\n",
    "    X = X.loc[:, (X != 0).any(axis=0)]\n",
    "    X = np.round(X.div(X.sum(axis=1), axis=0)*100000).astype(int)\n",
    "    pot_names = X.index\n",
    "    \n",
    "    if (tax_level != 'Phylum' or tax_level != 'Sequence'):\n",
    "        abc = df_gen0_gen1_mb[df_gen0_gen1_mb[tax_level].isnull()]\n",
    "        new_names = []\n",
    "        if (tax_level == 'Class'):        \n",
    "            for i in range(abc.shape[0]):\n",
    "                new_names.append(str(abc.iloc[i, abc.columns.get_loc('Phylum')]))\n",
    "        if (tax_level == 'Order'):        \n",
    "            for i in range(abc.shape[0]):\n",
    "                new_names.append(str(abc.iloc[i, abc.columns.get_loc('Phylum')]) + str('_') + str(abc.iloc[i, abc.columns.get_loc('Class')]))\n",
    "        if (tax_level == 'Family'):        \n",
    "            for i in range(abc.shape[0]):\n",
    "                new_names.append(str(abc.iloc[i, abc.columns.get_loc('Phylum')]) + str('_') + str(abc.iloc[i, abc.columns.get_loc('Class')]) + str('_') + str(abc.iloc[i, abc.columns.get_loc('Order')]))\n",
    "        if (tax_level == 'Genus'):        \n",
    "            for i in range(abc.shape[0]):\n",
    "                new_names.append(str(abc.iloc[i, abc.columns.get_loc('Phylum')]) + str('_') + str(abc.iloc[i, abc.columns.get_loc('Class')]) + str('_') + str(abc.iloc[i, abc.columns.get_loc('Order')]) + str('_') + str(abc.iloc[i, abc.columns.get_loc('Family')]))\n",
    "        if (tax_level == 'Species'):        \n",
    "            for i in range(abc.shape[0]):\n",
    "                new_names.append(str(abc.iloc[i, abc.columns.get_loc('Phylum')]) + str('_') + str(abc.iloc[i, abc.columns.get_loc('Class')]) + str('_') + str(abc.iloc[i, abc.columns.get_loc('Order')]) + str('_') + str(abc.iloc[i, abc.columns.get_loc('Family')]) + str('_') + str(abc.iloc[i, abc.columns.get_loc('Genus')]))\n",
    "          \n",
    "        \n",
    "        abc[tax_level] = new_names\n",
    "        abc.index = abc[tax_level]\n",
    "        del abc[tax_level]\n",
    "        abc = abc.groupby([tax_level]).agg(np.sum)\n",
    "\n",
    "        new_names = []\n",
    "        for i in range(abc.shape[0]):\n",
    "            new_names.append(abc.index[i] + str('_NA') + str(i+1))\n",
    "        abc[tax_level] = new_names\n",
    "        abc.index = abc[tax_level]\n",
    "        del abc[tax_level]\n",
    "        abc = abc.T\n",
    "\n",
    "        X = pd.concat([X, abc], axis = 1)\n",
    "        X = X.reindex(sorted(X.columns), axis=1)\n",
    "\n",
    "    \n",
    "    X = X.T\n",
    "    excl_all = X[X.astype(bool).sum(axis=1) < thrs].index\n",
    "    X = X.T\n",
    "\n",
    "    X.drop(excl_all, axis=1, inplace=True)\n",
    "    return X\n",
    "\n",
    "def spearmanr_topic_vs_trait_holmbonf(cur_response, ntopics, alpha, m):\n",
    "    res_df = pd.concat([pd.DataFrame(sub_data), pd.DataFrame(df_gen0_gen1[\"SoilSource\"]).reset_index(), pd.DataFrame(df_gen0_gen1[\"Watering\"]).reset_index(), pd.DataFrame(df_gen0_gen1[\"WateringStability\"]).reset_index(), pd.DataFrame(df_gen0_gen1[cur_response]).reset_index()], axis = 1)\n",
    "    del res_df['ID']\n",
    "    res_df = pd.concat([res_df, pd.DataFrame(df_gen0_gen1[\"Generation\"]).reset_index()], axis = 1)\n",
    "    res_df = res_df[res_df[cur_response].notna()]\n",
    "    res_df.columns = topic_names + ['SoilSource', 'Watering', 'WateringStability', cur_response, 'ID', 'Generation']\n",
    "    store_pval = []\n",
    "    store_cor = []\n",
    "    for i in range(ntopics):\n",
    "        temp = 'Topic ' + str(i+1)\n",
    "        temp_sp = stats.spearmanr(res_df[cur_response], res_df[temp])\n",
    "        store_cor.append(temp_sp[0])\n",
    "        store_pval.append(temp_sp[1])\n",
    "    return store_cor, store_pval\n"
   ]
  },
  {
   "cell_type": "code",
   "execution_count": 22,
   "metadata": {
    "scrolled": false
   },
   "outputs": [
    {
     "name": "stdout",
     "output_type": "stream",
     "text": [
      "gen0 #mb  (9707, 66)  gen1 #mb  (9707, 73)\n",
      "Species:  9033 NAs out of 9707   93.05655712372514 % NAs\n",
      "Genus:  4966 NAs out of 9707   51.158957453384154 % NAs\n",
      "Family:  2090 NAs out of 9707   21.530854022870095 % NAs\n",
      "Order:  872 NAs out of 9707   8.983207994230966 % NAs\n",
      "Class:  169 NAs out of 9707   1.7410116410837542 % NAs\n",
      "Phylum:  0 NAs out of 9707   0.0 % NAs\n",
      "Kingdom:  0 NAs out of 9707   0.0 % NAs\n",
      "DNA:  0 NAs out of 9707   0.0 % NAs\n",
      "\n",
      "\n",
      "Species:  424 unique names out of 674\n",
      "Genus:  536 unique names out of 4741\n",
      "Family:  275 unique names out of 7617\n",
      "Order:  200 unique names out of 8835\n",
      "Class:  95 unique names out of 9538\n",
      "Phylum:  38 unique names out of 9707\n",
      "Kingdom:  2 unique names out of 9707\n",
      "DNA:  9707 unique names out of 9707\n",
      "Spearman correlations between topic abundances and  ['Amax', 'Cond', 'WUEi', 'Height_cm', 'Stem_Diam', 'RootDry_g', 'LWC', 'LMA', 'DroughtTime']\n",
      "-------------------------\n",
      "\\begin{tabular}{llrr}\n",
      "\\toprule\n",
      "       individual &    response &  correlation &      p-value \\\\\n",
      "\\midrule\n",
      "    Crenarchaeota &   Stem\\_Diam &    -0.496454 & 9.354124e-09 \\\\\n",
      " Thermoplasmatota &   Stem\\_Diam &     0.469794 & 7.038374e-08 \\\\\n",
      " Actinobacteriota & DroughtTime &    -0.462793 & 1.162851e-07 \\\\\n",
      "    Crenarchaeota &   RootDry\\_g &    -0.446124 & 3.677013e-07 \\\\\n",
      "            WPS-2 &   Stem\\_Diam &     0.443348 & 4.427962e-07 \\\\\n",
      "  Gemmatimonadota &   Stem\\_Diam &     0.416235 & 2.500134e-06 \\\\\n",
      "  Gemmatimonadota & DroughtTime &     0.414275 & 2.817134e-06 \\\\\n",
      "  Elusimicrobiota &   Height\\_cm &    -0.402450 & 5.699123e-06 \\\\\n",
      "Verrucomicrobiota &   Stem\\_Diam &     0.394602 & 8.964858e-06 \\\\\n",
      "Verrucomicrobiota & DroughtTime &     0.389987 & 1.163888e-05 \\\\\n",
      "      Sumerlaeota &   Stem\\_Diam &     0.380931 & 1.920937e-05 \\\\\n",
      " Bdellovibrionota &   Stem\\_Diam &    -0.380843 & 1.930135e-05 \\\\\n",
      " Thermoplasmatota &   RootDry\\_g &     0.372435 & 3.032923e-05 \\\\\n",
      "     Dependentiae &   Stem\\_Diam &     0.368467 & 3.738000e-05 \\\\\n",
      " Bdellovibrionota &   Height\\_cm &     0.365381 & 4.389347e-05 \\\\\n",
      "     Deinococcota &   RootDry\\_g &     0.354928 & 7.473403e-05 \\\\\n",
      " Thermoplasmatota &   Height\\_cm &    -0.337332 & 1.757123e-04 \\\\\n",
      "\\bottomrule\n",
      "\\end{tabular}\n",
      "\n"
     ]
    },
    {
     "data": {
      "text/plain": [
       "Thermoplasmatota     3\n",
       "Crenarchaeota        2\n",
       "Gemmatimonadota      2\n",
       "Verrucomicrobiota    2\n",
       "Bdellovibrionota     2\n",
       "Actinobacteriota     1\n",
       "WPS-2                1\n",
       "Elusimicrobiota      1\n",
       "Sumerlaeota          1\n",
       "Dependentiae         1\n",
       "Deinococcota         1\n",
       "Name: individual, dtype: int64"
      ]
     },
     "execution_count": 22,
     "metadata": {},
     "output_type": "execute_result"
    },
    {
     "data": {
      "text/plain": [
       "11"
      ]
     },
     "execution_count": 22,
     "metadata": {},
     "output_type": "execute_result"
    },
    {
     "name": "stdout",
     "output_type": "stream",
     "text": [
      "-------------------------\n",
      "ASVs\n"
     ]
    },
    {
     "data": {
      "text/html": [
       "<div>\n",
       "<style scoped>\n",
       "    .dataframe tbody tr th:only-of-type {\n",
       "        vertical-align: middle;\n",
       "    }\n",
       "\n",
       "    .dataframe tbody tr th {\n",
       "        vertical-align: top;\n",
       "    }\n",
       "\n",
       "    .dataframe thead th {\n",
       "        text-align: right;\n",
       "    }\n",
       "</style>\n",
       "<table border=\"1\" class=\"dataframe\">\n",
       "  <thead>\n",
       "    <tr style=\"text-align: right;\">\n",
       "      <th></th>\n",
       "      <th>individual</th>\n",
       "      <th>response</th>\n",
       "      <th>correlation</th>\n",
       "      <th>p-value</th>\n",
       "    </tr>\n",
       "  </thead>\n",
       "  <tbody>\n",
       "    <tr>\n",
       "      <th>0</th>\n",
       "      <td>Bacteroidota__Bacteroidia__Sphingobacteriales_...</td>\n",
       "      <td>Height_cm</td>\n",
       "      <td>0.767264</td>\n",
       "      <td>2.559071e-24</td>\n",
       "    </tr>\n",
       "    <tr>\n",
       "      <th>1</th>\n",
       "      <td>Proteobacteria__Gammaproteobacteria__Burkholde...</td>\n",
       "      <td>Height_cm</td>\n",
       "      <td>0.735327</td>\n",
       "      <td>1.697101e-21</td>\n",
       "    </tr>\n",
       "    <tr>\n",
       "      <th>2</th>\n",
       "      <td>Proteobacteria__Gammaproteobacteria__Cellvibri...</td>\n",
       "      <td>Height_cm</td>\n",
       "      <td>0.729798</td>\n",
       "      <td>4.754105e-21</td>\n",
       "    </tr>\n",
       "    <tr>\n",
       "      <th>3</th>\n",
       "      <td>Planctomycetota__Planctomycetes__Gemmatales__G...</td>\n",
       "      <td>Height_cm</td>\n",
       "      <td>0.714902</td>\n",
       "      <td>6.751725e-20</td>\n",
       "    </tr>\n",
       "    <tr>\n",
       "      <th>4</th>\n",
       "      <td>Bacteroidota__Bacteroidia__Sphingobacteriales_...</td>\n",
       "      <td>Height_cm</td>\n",
       "      <td>0.708021</td>\n",
       "      <td>2.173802e-19</td>\n",
       "    </tr>\n",
       "    <tr>\n",
       "      <th>...</th>\n",
       "      <td>...</td>\n",
       "      <td>...</td>\n",
       "      <td>...</td>\n",
       "      <td>...</td>\n",
       "    </tr>\n",
       "    <tr>\n",
       "      <th>207</th>\n",
       "      <td>Proteobacteria__Alphaproteobacteria__Sphingomo...</td>\n",
       "      <td>Stem_Diam</td>\n",
       "      <td>-0.426705</td>\n",
       "      <td>1.304234e-06</td>\n",
       "    </tr>\n",
       "    <tr>\n",
       "      <th>208</th>\n",
       "      <td>Proteobacteria__Gammaproteobacteria__Salinisph...</td>\n",
       "      <td>Height_cm</td>\n",
       "      <td>-0.426522</td>\n",
       "      <td>1.319435e-06</td>\n",
       "    </tr>\n",
       "    <tr>\n",
       "      <th>209</th>\n",
       "      <td>Proteobacteria__Alphaproteobacteria__Acetobact...</td>\n",
       "      <td>Height_cm</td>\n",
       "      <td>0.426168</td>\n",
       "      <td>1.349245e-06</td>\n",
       "    </tr>\n",
       "    <tr>\n",
       "      <th>210</th>\n",
       "      <td>Bacteroidota__nan__nan__nan__nan__nan_</td>\n",
       "      <td>LMA</td>\n",
       "      <td>-0.425907</td>\n",
       "      <td>1.371670e-06</td>\n",
       "    </tr>\n",
       "    <tr>\n",
       "      <th>211</th>\n",
       "      <td>Actinobacteriota__Actinobacteria__Pseudonocard...</td>\n",
       "      <td>RootDry_g</td>\n",
       "      <td>-0.425575</td>\n",
       "      <td>1.400612e-06</td>\n",
       "    </tr>\n",
       "  </tbody>\n",
       "</table>\n",
       "<p>212 rows × 4 columns</p>\n",
       "</div>"
      ],
      "text/plain": [
       "                                            individual   response  \\\n",
       "0    Bacteroidota__Bacteroidia__Sphingobacteriales_...  Height_cm   \n",
       "1    Proteobacteria__Gammaproteobacteria__Burkholde...  Height_cm   \n",
       "2    Proteobacteria__Gammaproteobacteria__Cellvibri...  Height_cm   \n",
       "3    Planctomycetota__Planctomycetes__Gemmatales__G...  Height_cm   \n",
       "4    Bacteroidota__Bacteroidia__Sphingobacteriales_...  Height_cm   \n",
       "..                                                 ...        ...   \n",
       "207  Proteobacteria__Alphaproteobacteria__Sphingomo...  Stem_Diam   \n",
       "208  Proteobacteria__Gammaproteobacteria__Salinisph...  Height_cm   \n",
       "209  Proteobacteria__Alphaproteobacteria__Acetobact...  Height_cm   \n",
       "210             Bacteroidota__nan__nan__nan__nan__nan_        LMA   \n",
       "211  Actinobacteriota__Actinobacteria__Pseudonocard...  RootDry_g   \n",
       "\n",
       "     correlation       p-value  \n",
       "0       0.767264  2.559071e-24  \n",
       "1       0.735327  1.697101e-21  \n",
       "2       0.729798  4.754105e-21  \n",
       "3       0.714902  6.751725e-20  \n",
       "4       0.708021  2.173802e-19  \n",
       "..           ...           ...  \n",
       "207    -0.426705  1.304234e-06  \n",
       "208    -0.426522  1.319435e-06  \n",
       "209     0.426168  1.349245e-06  \n",
       "210    -0.425907  1.371670e-06  \n",
       "211    -0.425575  1.400612e-06  \n",
       "\n",
       "[212 rows x 4 columns]"
      ]
     },
     "execution_count": 22,
     "metadata": {},
     "output_type": "execute_result"
    },
    {
     "data": {
      "text/html": [
       "<div>\n",
       "<style scoped>\n",
       "    .dataframe tbody tr th:only-of-type {\n",
       "        vertical-align: middle;\n",
       "    }\n",
       "\n",
       "    .dataframe tbody tr th {\n",
       "        vertical-align: top;\n",
       "    }\n",
       "\n",
       "    .dataframe thead th {\n",
       "        text-align: right;\n",
       "    }\n",
       "</style>\n",
       "<table border=\"1\" class=\"dataframe\">\n",
       "  <thead>\n",
       "    <tr style=\"text-align: right;\">\n",
       "      <th></th>\n",
       "      <th>Bacteroidota__Bacteroidia__Cytophagales__Microscillaceae__nan__nan</th>\n",
       "      <th>Bacteroidota__Bacteroidia__Cytophagales__Microscillaceae__Ohtaekwangia__nan</th>\n",
       "      <th>Actinobacteriota__Actinobacteria__Propionibacteriales__Propionibacteriaceae__Cutibacterium__acnes/avidum_</th>\n",
       "      <th>Actinobacteriota__Actinobacteria__Micrococcales__Intrasporangiaceae__Aquipuribacter__nan_</th>\n",
       "      <th>Actinobacteriota__Actinobacteria__Micrococcales__Microbacteriaceae__Microbacterium__nan_</th>\n",
       "      <th>Actinobacteriota__Actinobacteria__Micrococcales__Microbacteriaceae__Microbacterium__nan_</th>\n",
       "      <th>Actinobacteriota__Actinobacteria__Micrococcales__Microbacteriaceae__Microbacterium__nan_</th>\n",
       "      <th>Actinobacteriota__Actinobacteria__Micrococcales__Microbacteriaceae__Microbacterium__nan_</th>\n",
       "      <th>Actinobacteriota__Actinobacteria__Micrococcales__Microbacteriaceae__Microbacterium__nan_</th>\n",
       "      <th>Actinobacteriota__Actinobacteria__Micrococcales__Microbacteriaceae__Microbacterium__nan_</th>\n",
       "      <th>...</th>\n",
       "      <th>Cyanobacteria__Cyanobacteriia__nan__nan__nan__nan__</th>\n",
       "      <th>Cyanobacteria__Cyanobacteriia__nan__nan__nan__nan__</th>\n",
       "      <th>Cyanobacteria__Cyanobacteriia__Chloroplast__nan__nan__nan__</th>\n",
       "      <th>Cyanobacteria__Cyanobacteriia__Chloroplast__nan__nan__nan__</th>\n",
       "      <th>Cyanobacteria__Cyanobacteriia__Chloroplast__nan__nan__nan__</th>\n",
       "      <th>Proteobacteria__Alphaproteobacteria__Rickettsiales__Mitochondria__nan__n</th>\n",
       "      <th>Verrucomicrobiota__Verrucomicrobiae__Opitutales__Puniceicoccaceae__nan__nan_</th>\n",
       "      <th>Cyanobacteria__Cyanobacteriia__Chloroplast__nan__nan__nan_</th>\n",
       "      <th>Cyanobacteria__Cyanobacteriia__Chloroplast__nan__nan__nan_</th>\n",
       "      <th>Cyanobacteria__Cyanobacteriia__Chloroplast__nan__nan__nan__</th>\n",
       "    </tr>\n",
       "  </thead>\n",
       "  <tbody>\n",
       "    <tr>\n",
       "      <th>N00001</th>\n",
       "      <td>0</td>\n",
       "      <td>0</td>\n",
       "      <td>0</td>\n",
       "      <td>0</td>\n",
       "      <td>0</td>\n",
       "      <td>0</td>\n",
       "      <td>0</td>\n",
       "      <td>0</td>\n",
       "      <td>0</td>\n",
       "      <td>0</td>\n",
       "      <td>...</td>\n",
       "      <td>0</td>\n",
       "      <td>0</td>\n",
       "      <td>0</td>\n",
       "      <td>0</td>\n",
       "      <td>6225</td>\n",
       "      <td>0</td>\n",
       "      <td>0</td>\n",
       "      <td>0</td>\n",
       "      <td>0</td>\n",
       "      <td>0</td>\n",
       "    </tr>\n",
       "    <tr>\n",
       "      <th>N00010</th>\n",
       "      <td>0</td>\n",
       "      <td>0</td>\n",
       "      <td>0</td>\n",
       "      <td>0</td>\n",
       "      <td>0</td>\n",
       "      <td>0</td>\n",
       "      <td>0</td>\n",
       "      <td>0</td>\n",
       "      <td>0</td>\n",
       "      <td>206</td>\n",
       "      <td>...</td>\n",
       "      <td>0</td>\n",
       "      <td>0</td>\n",
       "      <td>0</td>\n",
       "      <td>30</td>\n",
       "      <td>0</td>\n",
       "      <td>0</td>\n",
       "      <td>0</td>\n",
       "      <td>17</td>\n",
       "      <td>0</td>\n",
       "      <td>0</td>\n",
       "    </tr>\n",
       "    <tr>\n",
       "      <th>N00011</th>\n",
       "      <td>0</td>\n",
       "      <td>0</td>\n",
       "      <td>0</td>\n",
       "      <td>0</td>\n",
       "      <td>0</td>\n",
       "      <td>0</td>\n",
       "      <td>0</td>\n",
       "      <td>0</td>\n",
       "      <td>0</td>\n",
       "      <td>123</td>\n",
       "      <td>...</td>\n",
       "      <td>0</td>\n",
       "      <td>0</td>\n",
       "      <td>0</td>\n",
       "      <td>0</td>\n",
       "      <td>0</td>\n",
       "      <td>0</td>\n",
       "      <td>0</td>\n",
       "      <td>0</td>\n",
       "      <td>0</td>\n",
       "      <td>0</td>\n",
       "    </tr>\n",
       "    <tr>\n",
       "      <th>N00012</th>\n",
       "      <td>0</td>\n",
       "      <td>0</td>\n",
       "      <td>0</td>\n",
       "      <td>0</td>\n",
       "      <td>0</td>\n",
       "      <td>0</td>\n",
       "      <td>0</td>\n",
       "      <td>0</td>\n",
       "      <td>0</td>\n",
       "      <td>0</td>\n",
       "      <td>...</td>\n",
       "      <td>259</td>\n",
       "      <td>0</td>\n",
       "      <td>0</td>\n",
       "      <td>0</td>\n",
       "      <td>0</td>\n",
       "      <td>0</td>\n",
       "      <td>0</td>\n",
       "      <td>0</td>\n",
       "      <td>0</td>\n",
       "      <td>0</td>\n",
       "    </tr>\n",
       "    <tr>\n",
       "      <th>N00013</th>\n",
       "      <td>0</td>\n",
       "      <td>0</td>\n",
       "      <td>0</td>\n",
       "      <td>0</td>\n",
       "      <td>0</td>\n",
       "      <td>0</td>\n",
       "      <td>0</td>\n",
       "      <td>0</td>\n",
       "      <td>0</td>\n",
       "      <td>0</td>\n",
       "      <td>...</td>\n",
       "      <td>10</td>\n",
       "      <td>0</td>\n",
       "      <td>0</td>\n",
       "      <td>0</td>\n",
       "      <td>0</td>\n",
       "      <td>0</td>\n",
       "      <td>0</td>\n",
       "      <td>0</td>\n",
       "      <td>0</td>\n",
       "      <td>0</td>\n",
       "    </tr>\n",
       "  </tbody>\n",
       "</table>\n",
       "<p>5 rows × 3946 columns</p>\n",
       "</div>"
      ],
      "text/plain": [
       "        Bacteroidota__Bacteroidia__Cytophagales__Microscillaceae__nan__nan  \\\n",
       "N00001                                                  0                    \n",
       "N00010                                                  0                    \n",
       "N00011                                                  0                    \n",
       "N00012                                                  0                    \n",
       "N00013                                                  0                    \n",
       "\n",
       "        Bacteroidota__Bacteroidia__Cytophagales__Microscillaceae__Ohtaekwangia__nan  \\\n",
       "N00001                                                  0                             \n",
       "N00010                                                  0                             \n",
       "N00011                                                  0                             \n",
       "N00012                                                  0                             \n",
       "N00013                                                  0                             \n",
       "\n",
       "        Actinobacteriota__Actinobacteria__Propionibacteriales__Propionibacteriaceae__Cutibacterium__acnes/avidum_  \\\n",
       "N00001                                                  0                                                           \n",
       "N00010                                                  0                                                           \n",
       "N00011                                                  0                                                           \n",
       "N00012                                                  0                                                           \n",
       "N00013                                                  0                                                           \n",
       "\n",
       "        Actinobacteriota__Actinobacteria__Micrococcales__Intrasporangiaceae__Aquipuribacter__nan_  \\\n",
       "N00001                                                  0                                           \n",
       "N00010                                                  0                                           \n",
       "N00011                                                  0                                           \n",
       "N00012                                                  0                                           \n",
       "N00013                                                  0                                           \n",
       "\n",
       "        Actinobacteriota__Actinobacteria__Micrococcales__Microbacteriaceae__Microbacterium__nan_  \\\n",
       "N00001                                                  0                                          \n",
       "N00010                                                  0                                          \n",
       "N00011                                                  0                                          \n",
       "N00012                                                  0                                          \n",
       "N00013                                                  0                                          \n",
       "\n",
       "        Actinobacteriota__Actinobacteria__Micrococcales__Microbacteriaceae__Microbacterium__nan_  \\\n",
       "N00001                                                  0                                          \n",
       "N00010                                                  0                                          \n",
       "N00011                                                  0                                          \n",
       "N00012                                                  0                                          \n",
       "N00013                                                  0                                          \n",
       "\n",
       "        Actinobacteriota__Actinobacteria__Micrococcales__Microbacteriaceae__Microbacterium__nan_  \\\n",
       "N00001                                                  0                                          \n",
       "N00010                                                  0                                          \n",
       "N00011                                                  0                                          \n",
       "N00012                                                  0                                          \n",
       "N00013                                                  0                                          \n",
       "\n",
       "        Actinobacteriota__Actinobacteria__Micrococcales__Microbacteriaceae__Microbacterium__nan_  \\\n",
       "N00001                                                  0                                          \n",
       "N00010                                                  0                                          \n",
       "N00011                                                  0                                          \n",
       "N00012                                                  0                                          \n",
       "N00013                                                  0                                          \n",
       "\n",
       "        Actinobacteriota__Actinobacteria__Micrococcales__Microbacteriaceae__Microbacterium__nan_  \\\n",
       "N00001                                                  0                                          \n",
       "N00010                                                  0                                          \n",
       "N00011                                                  0                                          \n",
       "N00012                                                  0                                          \n",
       "N00013                                                  0                                          \n",
       "\n",
       "        Actinobacteriota__Actinobacteria__Micrococcales__Microbacteriaceae__Microbacterium__nan_  \\\n",
       "N00001                                                  0                                          \n",
       "N00010                                                206                                          \n",
       "N00011                                                123                                          \n",
       "N00012                                                  0                                          \n",
       "N00013                                                  0                                          \n",
       "\n",
       "        ...  Cyanobacteria__Cyanobacteriia__nan__nan__nan__nan__  \\\n",
       "N00001  ...                                                  0     \n",
       "N00010  ...                                                  0     \n",
       "N00011  ...                                                  0     \n",
       "N00012  ...                                                259     \n",
       "N00013  ...                                                 10     \n",
       "\n",
       "        Cyanobacteria__Cyanobacteriia__nan__nan__nan__nan__  \\\n",
       "N00001                                                  0     \n",
       "N00010                                                  0     \n",
       "N00011                                                  0     \n",
       "N00012                                                  0     \n",
       "N00013                                                  0     \n",
       "\n",
       "        Cyanobacteria__Cyanobacteriia__Chloroplast__nan__nan__nan__  \\\n",
       "N00001                                                  0             \n",
       "N00010                                                  0             \n",
       "N00011                                                  0             \n",
       "N00012                                                  0             \n",
       "N00013                                                  0             \n",
       "\n",
       "        Cyanobacteria__Cyanobacteriia__Chloroplast__nan__nan__nan__  \\\n",
       "N00001                                                  0             \n",
       "N00010                                                 30             \n",
       "N00011                                                  0             \n",
       "N00012                                                  0             \n",
       "N00013                                                  0             \n",
       "\n",
       "        Cyanobacteria__Cyanobacteriia__Chloroplast__nan__nan__nan__  \\\n",
       "N00001                                               6225             \n",
       "N00010                                                  0             \n",
       "N00011                                                  0             \n",
       "N00012                                                  0             \n",
       "N00013                                                  0             \n",
       "\n",
       "        Proteobacteria__Alphaproteobacteria__Rickettsiales__Mitochondria__nan__n  \\\n",
       "N00001                                                  0                          \n",
       "N00010                                                  0                          \n",
       "N00011                                                  0                          \n",
       "N00012                                                  0                          \n",
       "N00013                                                  0                          \n",
       "\n",
       "        Verrucomicrobiota__Verrucomicrobiae__Opitutales__Puniceicoccaceae__nan__nan_  \\\n",
       "N00001                                                  0                              \n",
       "N00010                                                  0                              \n",
       "N00011                                                  0                              \n",
       "N00012                                                  0                              \n",
       "N00013                                                  0                              \n",
       "\n",
       "        Cyanobacteria__Cyanobacteriia__Chloroplast__nan__nan__nan_  \\\n",
       "N00001                                                  0            \n",
       "N00010                                                 17            \n",
       "N00011                                                  0            \n",
       "N00012                                                  0            \n",
       "N00013                                                  0            \n",
       "\n",
       "        Cyanobacteria__Cyanobacteriia__Chloroplast__nan__nan__nan_  \\\n",
       "N00001                                                  0            \n",
       "N00010                                                  0            \n",
       "N00011                                                  0            \n",
       "N00012                                                  0            \n",
       "N00013                                                  0            \n",
       "\n",
       "        Cyanobacteria__Cyanobacteriia__Chloroplast__nan__nan__nan__  \n",
       "N00001                                                  0            \n",
       "N00010                                                  0            \n",
       "N00011                                                  0            \n",
       "N00012                                                  0            \n",
       "N00013                                                  0            \n",
       "\n",
       "[5 rows x 3946 columns]"
      ]
     },
     "execution_count": 22,
     "metadata": {},
     "output_type": "execute_result"
    }
   ],
   "source": [
    "#read data from GEN 0-1\n",
    "df_gen0_mb = pd.read_csv(\"data/MASTER_NDGen0_SoilBacteria.csv\")\n",
    "df_gen1_mb = pd.read_csv(\"data/MASTER_NDGen1_SoilBacteria.csv\")\n",
    "print('gen0 #mb ', df_gen0_mb.shape, \" gen1 #mb \", df_gen1_mb.shape)\n",
    "\n",
    "df_gen0_gen1_mb = pd.merge(df_gen0_mb, df_gen1_mb, on=['Kingdom', 'Phylum', 'Class', 'Order', 'Family', 'Genus', 'Species', 'Sequence'], how='outer')\n",
    "df = df_gen0_gen1_mb\n",
    "\n",
    "# how many unidentified\n",
    "print(\"Species: \", (len(df)-df.iloc[:,7].count()), \"NAs out of\", len(df), \" \", (len(df)-df.iloc[:,7].count())/len(df)*100, \"% NAs\")\n",
    "print(\"Genus: \", (len(df)-df.iloc[:,6].count()), \"NAs out of\", len(df), \" \", (len(df)-df.iloc[:,6].count())/len(df)*100, \"% NAs\")\n",
    "print(\"Family: \", (len(df)-df.iloc[:,5].count()), \"NAs out of\", len(df), \" \", (len(df)-df.iloc[:,5].count())/len(df)*100, \"% NAs\")\n",
    "print(\"Order: \", (len(df)-df.iloc[:,4].count()), \"NAs out of\", len(df), \" \", (len(df)-df.iloc[:,4].count())/len(df)*100, \"% NAs\")\n",
    "print(\"Class: \", (len(df)-df.iloc[:,3].count()), \"NAs out of\", len(df), \" \", (len(df)-df.iloc[:,3].count())/len(df)*100, \"% NAs\")\n",
    "print(\"Phylum: \", (len(df)-df.iloc[:,2].count()), \"NAs out of\", len(df), \" \", (len(df)-df.iloc[:,2].count())/len(df)*100, \"% NAs\")\n",
    "print(\"Kingdom: \", (len(df)-df.iloc[:,1].count()), \"NAs out of\", len(df), \" \", (len(df)-df.iloc[:,1].count())/len(df)*100, \"% NAs\")\n",
    "print(\"DNA: \", (len(df)-df.iloc[:,0].count()), \"NAs out of\", len(df), \" \", (len(df)-df.iloc[:,0].count())/len(df)*100, \"% NAs\")\n",
    "\n",
    "print('\\n')\n",
    "print(\"Species: \", df.iloc[:,7].nunique(), \"unique names out of\", df.iloc[:,7].count())\n",
    "print(\"Genus: \", df.iloc[:,6].nunique(), \"unique names out of\", df.iloc[:,6].count())\n",
    "print(\"Family: \", df.iloc[:,5].nunique(), \"unique names out of\", df.iloc[:,5].count())\n",
    "print(\"Order: \", df.iloc[:,4].nunique(), \"unique names out of\", df.iloc[:,4].count())\n",
    "print(\"Class: \", df.iloc[:,3].nunique(), \"unique names out of\", df.iloc[:,3].count())\n",
    "print(\"Phylum: \", df.iloc[:,2].nunique(), \"unique names out of\", df.iloc[:,2].count())\n",
    "print(\"Kingdom: \", df.iloc[:,1].nunique(), \"unique names out of\", df.iloc[:,1].count())\n",
    "print(\"DNA: \", df.iloc[:,0].nunique(), \"unique names out of\", df.iloc[:,0].count())\n",
    "\n",
    "#aggregation\n",
    "df_gen0_gen1_mb = pd.merge(df_gen0_mb, df_gen1_mb, on=['ASV_number', 'Kingdom', 'Phylum', 'Class', 'Order', 'Family', 'Genus', 'Species', 'Sequence'], how='outer')\n",
    "df_gen0_gen1_mb = df_gen0_gen1_mb.groupby(['Phylum']).agg(np.sum)\n",
    "df_gen0_gen1_mb = df_gen0_gen1_mb.T\n",
    "df_gen0_gen1_mb_full = df_gen0_gen1_mb.copy()\n",
    "df_gen0_gen1_mb = df_gen0_gen1_mb.drop(['N00030', 'N00050'])\n",
    "#gen0-1 source, treatment\n",
    "df_gen0_id = pd.ExcelFile(\"data/MASTER_NDGen0_CornID.xlsx\")\n",
    "df_gen0_id = df_gen0_id.parse('ID', header=0, index_col = 0)\n",
    "df_gen0_id = pd.DataFrame(df_gen0_id)\n",
    "\n",
    "df_gen1_id = pd.ExcelFile(\"data/MASTER_NDGen1_CornID.xlsx\")\n",
    "df_gen1_id = df_gen1_id.parse('ID', header=0, index_col = 0)\n",
    "df_gen1_id = pd.DataFrame(df_gen1_id)\n",
    "df_gen0_gen1_id = pd.concat([df_gen0_id, df_gen1_id], axis=0)\n",
    "\n",
    "df_gen0_gen1 = pd.merge(df_gen0_gen1_mb, df_gen0_gen1_id, right_on='ID', left_index=True)\n",
    "\n",
    "#create treatment_stable column; stable(same watering as in gen0), switched(switched watering)\n",
    "#Treatment_Source isn't avail for gen0\n",
    "df_gen0_gen1['Treatment_Source'].fillna('None', inplace=True) \n",
    "df_gen0_gen1['Treatment_Stable'] = np.nan\n",
    "source_index = df_gen0_gen1.columns.get_loc('Treatment_Source')\n",
    "stable_index = df_gen0_gen1.columns.get_loc('Treatment_Stable')\n",
    "water_index = df_gen0_gen1.columns.get_loc('Treatment')\n",
    "\n",
    "idx_water_stability_none = []\n",
    "idx_water_stability_stable = []\n",
    "idx_water_stability_switched = []\n",
    "for i in range(df_gen0_gen1.shape[0]):\n",
    "    if (df_gen0_gen1.iloc[i, source_index] == 'None'):\n",
    "        idx_water_stability_none.append(i)\n",
    "    elif (df_gen0_gen1.iloc[i, source_index] != 'None' and df_gen0_gen1.iloc[i, source_index] == df_gen0_gen1.iloc[i, water_index]):\n",
    "        idx_water_stability_stable.append(i)\n",
    "    else:\n",
    "        idx_water_stability_switched.append(i)\n",
    "\n",
    "df_gen0_gen1.iloc[idx_water_stability_none, stable_index] = 'None'\n",
    "df_gen0_gen1.iloc[idx_water_stability_stable, stable_index] = 'Stable'\n",
    "df_gen0_gen1.iloc[idx_water_stability_switched, stable_index] = 'Switched'\n",
    "\n",
    "\n",
    "df_gen0_gen1.columns = df_gen0_gen1.columns.str.replace('Microbiome_Parent', 'SoilSource')\n",
    "df_gen0_gen1.columns = df_gen0_gen1.columns.str.replace('Treatment_Stable', 'WateringStability')\n",
    "df_gen0_gen1.columns = df_gen0_gen1.columns.str.replace('Treatment', 'Watering')\n",
    "gen_index = df_gen0_gen1.columns.get_loc('Generation')\n",
    "source_index = df_gen0_gen1.columns.get_loc('SoilSource')\n",
    "stability_index = df_gen0_gen1.columns.get_loc('WateringStability')\n",
    "water_index = df_gen0_gen1.columns.get_loc('Watering')\n",
    "\n",
    "\n",
    "df_gen0_gen1.iloc[:, source_index] = pd.Categorical(df_gen0_gen1.iloc[:, source_index])\n",
    "df_gen0_gen1.iloc[:, source_index] = df_gen0_gen1.iloc[:, source_index].cat.codes\n",
    "df_gen0_gen1.iloc[:, water_index] = pd.Categorical(df_gen0_gen1.iloc[:, water_index])\n",
    "df_gen0_gen1.iloc[:, water_index] = df_gen0_gen1.iloc[:, water_index].cat.codes\n",
    "df_gen0_gen1.iloc[:, stability_index] = pd.Categorical(df_gen0_gen1.iloc[:, stability_index])\n",
    "df_gen0_gen1.iloc[:, stability_index] = df_gen0_gen1.iloc[:, stability_index].cat.codes\n",
    "\n",
    "\n",
    "df_gen0_gen1_mb = pd.merge(df_gen0_mb, df_gen1_mb, on=['ASV_number', 'Kingdom', 'Phylum', 'Class', 'Order', 'Family', 'Genus', 'Species', 'Sequence'], how='outer')\n",
    "df_gen0_gen1_mb_full = df_gen0_gen1_mb.copy()\n",
    "df_gen0_gen1_mb = df_gen0_gen1_mb.drop(['N00030', 'N00050'], axis=1)\n",
    "\n",
    "#gen0-1 physical \n",
    "df_gen0_phys = pd.ExcelFile(\"data/MASTER_NDGen0_PlantPhys.xlsx\")\n",
    "df_gen0_phys = df_gen0_phys.parse('Data', header=0, index_col = 0)\n",
    "df_gen0_phys = pd.DataFrame(df_gen0_phys)\n",
    "\n",
    "df_gen1_phys = pd.ExcelFile(\"data/MASTER_NDGen1_PlantPhys.xlsx\")\n",
    "df_gen1_phys = df_gen1_phys.parse('Data', header=0, index_col = 0)\n",
    "df_gen1_phys = pd.DataFrame(df_gen1_phys)\n",
    "df_gen0_gen1_phys = pd.concat([df_gen0_phys, df_gen1_phys], axis=0)\n",
    "\n",
    "\n",
    "del df_gen0_gen1_phys['SCP_End']\n",
    "del df_gen0_gen1_phys['GasLeaf']\n",
    "del df_gen0_gen1_phys['LiCor']\n",
    "del df_gen0_gen1_phys['GasEx_Date']\n",
    "del df_gen0_gen1_phys['Gs_rate']\n",
    "del df_gen0_gen1_phys['VWC_rate']\n",
    "del df_gen0_gen1_phys['Gs.VWC_slope']\n",
    "del df_gen0_gen1_phys['AboveDry_g']\n",
    "\n",
    "df_gen0_gen1 = pd.merge(df_gen0_gen1, df_gen0_gen1_phys, right_on='ID', left_index=True)\n",
    "\n",
    "X_phylum = get_df('Phylum', 4)\n",
    "df_gen0_gen1['LMA'] = df_gen0_gen1['LMA'].fillna(df_gen0_gen1['LMA']. mean())\n",
    "\n",
    "selected_mb_indicies = []\n",
    "for i in range(X_phylum.shape[1]):\n",
    "    if X_phylum.iloc[:, i][X_phylum.iloc[:, i] != 0].count() >= 0*X_phylum.shape[0]:\n",
    "        selected_mb_indicies.append(i)\n",
    "\n",
    "norm_by_pot_X_phylum = X_phylum.div(X_phylum.sum(axis=1), axis = 0)\n",
    "response_list = ['Amax', 'Cond',\n",
    "       'WUEi', 'Height_cm', 'Stem_Diam',\n",
    "       'RootDry_g', 'LWC', 'LMA', 'DroughtTime']\n",
    "\n",
    "print(\"Spearman correlations between topic abundances and \", response_list)\n",
    "#print(\"shapes: \", norm_by_pot_X_phylum.shape, df_gen0_gen1.shape)\n",
    "\n",
    "def spearmanr_individual_vs_trait_holmbonf_ph(cur_response, alpha, m):\n",
    "    store_pval = []\n",
    "    store_cor = []\n",
    "    for i in range(len(selected_mb_indicies)):\n",
    "        temp_sp = stats.spearmanr(norm_by_pot_X_phylum.iloc[:, selected_mb_indicies[i]], df_gen0_gen1[cur_response])\n",
    "        store_cor.append(temp_sp[0])\n",
    "        store_pval.append(temp_sp[1])\n",
    "    return store_cor, store_pval\n",
    "\n",
    "store_cor = []\n",
    "store_pval = []\n",
    "for i in response_list:\n",
    "    store_cor.append(spearmanr_individual_vs_trait_holmbonf_ph(i, 0.05, len(selected_mb_indicies)*len(response_list))[0])\n",
    "    store_pval.append(spearmanr_individual_vs_trait_holmbonf_ph(i, 0.05, len(selected_mb_indicies)*len(response_list))[1])\n",
    "\n",
    "print(\"-------------------------\")\n",
    "indiv_list = norm_by_pot_X_phylum.iloc[:, selected_mb_indicies].columns\n",
    "store_pval = [item for sublist in store_pval for item in sublist]\n",
    "store_cor = [item for sublist in store_cor for item in sublist]\n",
    "store_names = [item for item in response_list for i in range(len(selected_mb_indicies))]\n",
    "store_indivs = list(indiv_list)*len(response_list)\n",
    "df_p = pd.DataFrame(\n",
    "    {'individual': store_indivs,\n",
    "     'response': store_names,   \n",
    "     'correlation': store_cor,\n",
    "     'p-value': store_pval\n",
    "    })\n",
    "cor_alpha = len(df_p.sort_values(\"p-value\"))\n",
    "alpha = 0.05\n",
    "df_p = df_p.sort_values(\"p-value\", ascending=True).reset_index()\n",
    "save_ix = []\n",
    "for i in range(len(df_p)):\n",
    "    if (df_p['p-value'][i] <= alpha/cor_alpha):\n",
    "        cor_alpha -= 1\n",
    "        save_ix.append(df_p.index[i])\n",
    "\n",
    "df_p = df_p.iloc[save_ix, 1:5]\n",
    "print(df_p.to_latex(index=False))  \n",
    "df_p.iloc[:, 0].value_counts()\n",
    "df_p.iloc[:, 0].nunique()\n",
    "df_gen0_gen1['LMA'] = df_gen0_gen1['LMA'].fillna(df_gen0_gen1['LMA']. mean())\n",
    "\n",
    "\n",
    "\n",
    "X_seq = get_df('Sequence', 0)\n",
    "df_norm = X_seq\n",
    "col_names = []\n",
    "for i in range(len(df_norm.columns)):\n",
    "    col_names.append( str(str(df_gen0_gen1_mb['Phylum'].loc[df_gen0_gen1_mb['Sequence'] == str(df_norm.columns[i])].iloc[0,]) + \"__\" +\n",
    "    str(df_gen0_gen1_mb['Class'].loc[df_gen0_gen1_mb['Sequence'] == str(df_norm.columns[i])].iloc[0,]) + \"__\" +\n",
    "    str(df_gen0_gen1_mb['Order'].loc[df_gen0_gen1_mb['Sequence'] == str(df_norm.columns[i])].iloc[0,]) + \"__\" +\n",
    "    str(df_gen0_gen1_mb['Family'].loc[df_gen0_gen1_mb['Sequence'] == str(df_norm.columns[i])].iloc[0,]) + \"__\" +\n",
    "    str(df_gen0_gen1_mb['Genus'].loc[df_gen0_gen1_mb['Sequence'] == str(df_norm.columns[i])].iloc[0,])  + \"__\" +\n",
    "    str(df_gen0_gen1_mb['Species'].loc[df_gen0_gen1_mb['Sequence'] == str(df_norm.columns[i])].iloc[0,]) + \"__\" + \n",
    "    str(df_gen0_gen1_mb['Sequence'].loc[df_gen0_gen1_mb['Sequence'] == str(df_norm.columns[i])].iloc[0,]) ))\n",
    "nontruncated_col_names = col_names\n",
    "trim = 254\n",
    "col_names = [z[:-trim] for z in col_names]\n",
    "df_norm.columns = col_names\n",
    "df_norm = df_norm.T\n",
    "    \n",
    "    \n",
    "selected_mb_indicies = []\n",
    "for i in range(X_seq.shape[1]):\n",
    "    if X_seq.iloc[:, i][X_seq.iloc[:, i] != 0].count() >= 0*X_seq.shape[0]:\n",
    "        selected_mb_indicies.append(i)\n",
    "\n",
    "norm_by_pot_X_seq = X_seq.div(X_seq.sum(axis=1), axis = 0)\n",
    "response_list = ['Amax', 'Cond',\n",
    "       'WUEi', 'Height_cm', 'Stem_Diam',\n",
    "       'RootDry_g', 'LWC', 'LMA', 'DroughtTime']\n",
    "\n",
    "\n",
    "\n",
    "def spearmanr_individual_vs_trait_holmbonf_sq(cur_response, alpha, m):\n",
    "    store_pval = []\n",
    "    store_cor = []\n",
    "    for i in range(len(selected_mb_indicies)):\n",
    "        temp_sp = stats.spearmanr(norm_by_pot_X_seq.iloc[:, selected_mb_indicies[i]], df_gen0_gen1[cur_response])\n",
    "        store_cor.append(temp_sp[0])\n",
    "        store_pval.append(temp_sp[1])\n",
    "    return store_cor, store_pval\n",
    "\n",
    "store_cor = []\n",
    "store_pval = []\n",
    "for i in response_list:\n",
    "    store_cor.append(spearmanr_individual_vs_trait_holmbonf_sq(i, 0.05, len(selected_mb_indicies)*len(response_list))[0])\n",
    "    store_pval.append(spearmanr_individual_vs_trait_holmbonf_sq(i, 0.05, len(selected_mb_indicies)*len(response_list))[1])\n",
    "\n",
    "print(\"-------------------------\")\n",
    "indiv_list = norm_by_pot_X_seq.iloc[:, selected_mb_indicies].columns\n",
    "store_pval = [item for sublist in store_pval for item in sublist]\n",
    "store_cor = [item for sublist in store_cor for item in sublist]\n",
    "store_names = [item for item in response_list for i in range(len(selected_mb_indicies))]\n",
    "store_indivs = list(indiv_list)*len(response_list)\n",
    "df_p = pd.DataFrame(\n",
    "    {'individual': store_indivs,\n",
    "     'response': store_names,   \n",
    "     'correlation': store_cor,\n",
    "     'p-value': store_pval\n",
    "    })\n",
    "cor_alpha = len(df_p.sort_values(\"p-value\"))\n",
    "alpha = 0.05\n",
    "df_p = df_p.sort_values(\"p-value\", ascending=True).reset_index()\n",
    "save_ix = []\n",
    "for i in range(len(df_p)):\n",
    "    if (df_p['p-value'][i] <= alpha/cor_alpha):\n",
    "        cor_alpha -= 1\n",
    "        save_ix.append(df_p.index[i])\n",
    "\n",
    "\n",
    "df_p = df_p.iloc[save_ix, 1:5]\n",
    "#print(df_p.to_latex(index=False))  \n",
    "print(\"ASVs\")\n",
    "df_p\n",
    "#df_p.iloc[:, 0].value_counts()\n",
    "#df_p.iloc[:, 0].nunique()\n",
    "#df_p.sort_values(by = ['correlation', 'individual'], axis=0, ascending=[True, True], inplace=False,\n",
    "#               kind='quicksort', na_position='first', ignore_index=True, key=None)[0:30]\n",
    "\n",
    "#rename ASVs\n",
    "X_seq = get_df('Sequence', 0)\n",
    "df_norm = X_seq\n",
    "col_names = []\n",
    "for i in range(len(df_norm.columns)):\n",
    "    col_names.append( str(str(df_gen0_gen1_mb['Phylum'].loc[df_gen0_gen1_mb['Sequence'] == str(df_norm.columns[i])].iloc[0,]) + \"__\" +\n",
    "    str(df_gen0_gen1_mb['Class'].loc[df_gen0_gen1_mb['Sequence'] == str(df_norm.columns[i])].iloc[0,]) + \"__\" +\n",
    "    str(df_gen0_gen1_mb['Order'].loc[df_gen0_gen1_mb['Sequence'] == str(df_norm.columns[i])].iloc[0,]) + \"__\" +\n",
    "    str(df_gen0_gen1_mb['Family'].loc[df_gen0_gen1_mb['Sequence'] == str(df_norm.columns[i])].iloc[0,]) + \"__\" +\n",
    "    str(df_gen0_gen1_mb['Genus'].loc[df_gen0_gen1_mb['Sequence'] == str(df_norm.columns[i])].iloc[0,])  + \"__\" +\n",
    "    str(df_gen0_gen1_mb['Species'].loc[df_gen0_gen1_mb['Sequence'] == str(df_norm.columns[i])].iloc[0,]) + \"__\" + \n",
    "    str(df_gen0_gen1_mb['Sequence'].loc[df_gen0_gen1_mb['Sequence'] == str(df_norm.columns[i])].iloc[0,]) ))\n",
    "nontruncated_col_names = col_names\n",
    "trim = 254\n",
    "col_names = [z[:-trim] for z in col_names]\n",
    "df_norm.columns = col_names\n",
    "df_norm = df_norm.T\n",
    "X_seq = df_norm.T\n",
    "X_seq.head()"
   ]
  },
  {
   "cell_type": "code",
   "execution_count": 23,
   "metadata": {
    "scrolled": false
   },
   "outputs": [
    {
     "name": "stdout",
     "output_type": "stream",
     "text": [
      "X.shape:  (119, 27)\n",
      "The # topic pairs that have cosine similarity >= 0.9 is 0\n",
      "4 6 0.8186661262978733\n"
     ]
    }
   ],
   "source": [
    "#specify tax_level below\n",
    "tax_level = 'Phylum'#'Class', 'Order', 'Family', 'Sequence'\n",
    "    \n",
    "if (tax_level == 'Phylum'):\n",
    "    folder_main_name = 'nonde_data/'\n",
    "    folder_name = '_res'\n",
    "    path = '../gitlab/data/' + str(folder_main_name) + str(tax_level) + str(folder_name)\n",
    "    NTOPICS = 6\n",
    "    thrs = 4\n",
    "elif (tax_level == 'Class'):        \n",
    "    folder_main_name = 'nonde_data/'\n",
    "    folder_name = '_res'\n",
    "    path = '../gitlab/data/' + str(folder_main_name) + str(tax_level) + str(folder_name)\n",
    "    NTOPICS = 8\n",
    "    thrs = 4        \n",
    "elif (tax_level == 'Order'):        \n",
    "    folder_main_name = 'nonde_data/'\n",
    "    folder_name = '_res'\n",
    "    path = '../gitlab/data/' + str(folder_main_name) + str(tax_level) + str(folder_name)\n",
    "    NTOPICS = 10\n",
    "    thrs = 4\n",
    "elif (tax_level == 'Family'):\n",
    "    folder_main_name = 'nonde_data/'\n",
    "    folder_name = '_res'\n",
    "    path = '../gitlab/data/' + str(folder_main_name) + str(tax_level) + str(folder_name)\n",
    "    NTOPICS = 20\n",
    "    thrs = 4  \n",
    "elif (tax_level == 'Sequence'):\n",
    "    folder_main_name = 'nonde_data/'\n",
    "    folder_name = '_original_res10k'\n",
    "    path = '../gitlab/data/5cv_all_sequence'\n",
    "    NTOPICS = 25\n",
    "    thrs = 0        \n",
    "\n",
    "    \n",
    "\n",
    "X = get_df(tax_level, thrs)\n",
    "print(\"X.shape: \", X.shape)\n",
    "df = X.iloc[:, 0:].div(X.iloc[:, 0:].sum(axis=1), axis=0)\n",
    "df = pd.DataFrame(np.mean(df.iloc[:, :]))\n",
    "df = df.sort_values(0, ascending = False)\n",
    "df = df.T\n",
    "\n",
    "# uncomment to produce files for MALLET\n",
    "# for row_id in range(X.shape[0]):\n",
    "#     ts = []\n",
    "#     for col_id in range(X.shape[1]):\n",
    "#         ts = str(ts) + (X.iloc[row_id, :].index[col_id] + ' ') * X.iloc[row_id, col_id]\n",
    "\n",
    "#     textfile = open(str(str('../gitlab/data/nonde_data/sequence_less2/') + str(X.index[row_id]) + str('.txt')), 'w')\n",
    "#     textfile.write(ts[2:])\n",
    "#     textfile.close()\n",
    "    \n",
    "    \n",
    "topic_names = []\n",
    "for i in range(NTOPICS):\n",
    "    topic_names.append('Topic ' + str(i+1))\n",
    "    \n",
    "list_taxa = X.columns\n",
    "df_taxa = pd.DataFrame(list_taxa).T\n",
    "df_taxa.columns = df_taxa.iloc[0, :]\n",
    "twd = load_topic_word_distributions(path + '/topic-word-weights_'+str(NTOPICS)+'.dat')\n",
    "\n",
    "temp = pd.DataFrame([twd[0]])\n",
    "df_al = pd.merge(df_taxa.T, temp.T, left_index=True, right_index=True, how='inner').fillna(0)\n",
    "del df_al[tax_level]\n",
    "df_al = df_al.T\n",
    "df_al.reset_index(inplace=True)\n",
    "del df_al['index']\n",
    "df_fin = df_al\n",
    "for k in range(1, len(twd)):\n",
    "    temp = pd.DataFrame([twd[k]])\n",
    "    df_al = pd.merge(df_taxa.T, temp.T, left_index=True, right_index=True, how='inner').fillna(0)\n",
    "    del df_al[tax_level]\n",
    "    df_al = df_al.T\n",
    "    df_al.reset_index(inplace=True)\n",
    "    del df_al['index']\n",
    "    df_fin = pd.merge(df_fin.T, df_al.T, left_index=True, right_index=True, how='inner').fillna(0) \n",
    "    df_fin = df_fin.T\n",
    "    \n",
    "df_norm = df_fin.T\n",
    "df_norm.columns = topic_names\n",
    "g = df_norm\n",
    "aa = X.iloc[:, 0:].div(X.iloc[:, 0:].sum(axis=1), axis=0)\n",
    "df = pd.DataFrame(np.mean(aa.iloc[:, :]))\n",
    "df.index = np.sort(list_taxa)\n",
    "s = g.T\n",
    "df = df.T\n",
    "s = s / df.loc[0]\n",
    "s = s.T\n",
    "s = s.div(s.sum())\n",
    "\n",
    "if tax_level == 'Sequence':\n",
    "    df_norm = df_norm.T\n",
    "    col_names = []\n",
    "    for i in range(len(df_norm.columns)):\n",
    "        col_names.append( str(str(df_gen0_gen1_mb['Phylum'].loc[df_gen0_gen1_mb['Sequence'] == str(df_norm.columns[i])].iloc[0,]) + \"__\" +\n",
    "        str(df_gen0_gen1_mb['Class'].loc[df_gen0_gen1_mb['Sequence'] == str(df_norm.columns[i])].iloc[0,]) + \"__\" +\n",
    "        str(df_gen0_gen1_mb['Order'].loc[df_gen0_gen1_mb['Sequence'] == str(df_norm.columns[i])].iloc[0,]) + \"__\" +\n",
    "        str(df_gen0_gen1_mb['Family'].loc[df_gen0_gen1_mb['Sequence'] == str(df_norm.columns[i])].iloc[0,]) + \"__\" +\n",
    "        str(df_gen0_gen1_mb['Genus'].loc[df_gen0_gen1_mb['Sequence'] == str(df_norm.columns[i])].iloc[0,])  + \"__\" +\n",
    "        str(df_gen0_gen1_mb['Species'].loc[df_gen0_gen1_mb['Sequence'] == str(df_norm.columns[i])].iloc[0,]) + \"__\" + \n",
    "        str(df_gen0_gen1_mb['Sequence'].loc[df_gen0_gen1_mb['Sequence'] == str(df_norm.columns[i])].iloc[0,]) ))\n",
    "    nontruncated_col_names = col_names\n",
    "    trim = 254 #change # of chars to trim ASV names\n",
    "    col_names = [z[:-trim] for z in col_names]\n",
    "    df_norm.columns = col_names\n",
    "    df_norm = df_norm.T\n",
    "\n",
    "    s = s.T\n",
    "    col_names = []\n",
    "    for i in range(len(s.columns)):\n",
    "        col_names.append( str(str(df_gen0_gen1_mb['Phylum'].loc[df_gen0_gen1_mb['Sequence'] == str(s.columns[i])].iloc[0,]) + \"__\" +\n",
    "        str(df_gen0_gen1_mb['Class'].loc[df_gen0_gen1_mb['Sequence'] == str(s.columns[i])].iloc[0,]) + \"__\" +\n",
    "        str(df_gen0_gen1_mb['Order'].loc[df_gen0_gen1_mb['Sequence'] == str(s.columns[i])].iloc[0,]) + \"__\" +\n",
    "        str(df_gen0_gen1_mb['Family'].loc[df_gen0_gen1_mb['Sequence'] == str(s.columns[i])].iloc[0,]) + \"__\" +\n",
    "        str(df_gen0_gen1_mb['Genus'].loc[df_gen0_gen1_mb['Sequence'] == str(s.columns[i])].iloc[0,])  + \"__\" +\n",
    "        str(df_gen0_gen1_mb['Species'].loc[df_gen0_gen1_mb['Sequence'] == str(s.columns[i])].iloc[0,]) + \"__\" + \n",
    "        str(df_gen0_gen1_mb['Sequence'].loc[df_gen0_gen1_mb['Sequence'] == str(s.columns[i])].iloc[0,]) ))\n",
    "    nontruncated_col_names = col_names\n",
    "    trim = 254\n",
    "    col_names = [z[:-trim] for z in col_names]\n",
    "    s.columns = col_names\n",
    "    s = s.T\n",
    "    \n",
    "\n",
    "if tax_level == 'Class':\n",
    "    ylabels = df_norm.index\n",
    "    ylabels_ext = []\n",
    "    for i in range(0, len(ylabels)):\n",
    "        if ylabels[i].find(\"_NA\") == -1:\n",
    "            ylabels_ext.append(str(df_gen0_gen1_mb['Phylum'].loc[df_gen0_gen1_mb['Class'] == str(ylabels[i])].iloc[0,]) + \"_\" + ylabels[i])\n",
    "        else:\n",
    "            ylabels_ext.append(str(ylabels[i]))\n",
    "    df_norm.index = ylabels_ext\n",
    "    ylabels = s.index\n",
    "    ylabels_ext = []\n",
    "    for i in range(0, len(ylabels)):\n",
    "        if ylabels[i].find(\"_NA\") == -1:\n",
    "            ylabels_ext.append(str(df_gen0_gen1_mb['Phylum'].loc[df_gen0_gen1_mb['Class'] == str(ylabels[i])].iloc[0,]) + \"_\" + ylabels[i])\n",
    "        else:\n",
    "            ylabels_ext.append(str(ylabels[i]))\n",
    "    s.index = ylabels_ext\n",
    "\n",
    "if tax_level == 'Order':\n",
    "    ylabels = df_norm.index\n",
    "    ylabels_ext = []\n",
    "    for i in range(0, len(ylabels)):\n",
    "        if ylabels[i].find(\"_NA\") == -1:\n",
    "            ylabels_ext.append(str(df_gen0_gen1_mb['Phylum'].loc[df_gen0_gen1_mb['Order'] == str(ylabels[i])].iloc[0,]) + \"_\" + \n",
    "                               str(df_gen0_gen1_mb['Class'].loc[df_gen0_gen1_mb['Order'] == str(ylabels[i])].iloc[0,]) + \"_\" + ylabels[i])\n",
    "        else:\n",
    "            ylabels_ext.append(str(ylabels[i]))\n",
    "    df_norm.index = ylabels_ext\n",
    "    ylabels = s.index\n",
    "    ylabels_ext = []\n",
    "    for i in range(0, len(ylabels)):\n",
    "        if ylabels[i].find(\"_NA\") == -1:\n",
    "            ylabels_ext.append(str(df_gen0_gen1_mb['Phylum'].loc[df_gen0_gen1_mb['Order'] == str(ylabels[i])].iloc[0,]) + \"_\" + \n",
    "                               str(df_gen0_gen1_mb['Class'].loc[df_gen0_gen1_mb['Order'] == str(ylabels[i])].iloc[0,]) + \"_\" + ylabels[i])\n",
    "        else:\n",
    "            ylabels_ext.append(str(ylabels[i]))\n",
    "    s.index = ylabels_ext\n",
    "    \n",
    "if tax_level == 'Family':\n",
    "    ylabels = df_norm.index\n",
    "    ylabels_ext = []\n",
    "    for i in range(0, len(ylabels)):\n",
    "        if ylabels[i].find(\"_NA\") == -1:\n",
    "            ylabels_ext.append(str(df_gen0_gen1_mb['Phylum'].loc[df_gen0_gen1_mb['Family'] == str(ylabels[i])].iloc[0,]) + \"_\" + \n",
    "                               str(df_gen0_gen1_mb['Class'].loc[df_gen0_gen1_mb['Family'] == str(ylabels[i])].iloc[0,]) + \"_\" +\n",
    "                               str(df_gen0_gen1_mb['Order'].loc[df_gen0_gen1_mb['Family'] == str(ylabels[i])].iloc[0,]) + \"_\" + ylabels[i])\n",
    "        else:\n",
    "            ylabels_ext.append(str(ylabels[i]))\n",
    "    df_norm.index = ylabels_ext\n",
    "    ylabels = s.index\n",
    "    ylabels_ext = []\n",
    "    for i in range(0, len(ylabels)):\n",
    "        if ylabels[i].find(\"_NA\") == -1:\n",
    "            ylabels_ext.append(str(df_gen0_gen1_mb['Phylum'].loc[df_gen0_gen1_mb['Family'] == str(ylabels[i])].iloc[0,]) + \"_\" + \n",
    "                               str(df_gen0_gen1_mb['Class'].loc[df_gen0_gen1_mb['Family'] == str(ylabels[i])].iloc[0,]) + \"_\" +\n",
    "                               str(df_gen0_gen1_mb['Order'].loc[df_gen0_gen1_mb['Family'] == str(ylabels[i])].iloc[0,]) + \"_\" + ylabels[i])\n",
    "        else:\n",
    "            ylabels_ext.append(str(ylabels[i]))\n",
    "    s.index = ylabels_ext\n",
    "    \n",
    "twd = load_topic_word_distributions(path + '/topic-word-weights_'+str(NTOPICS)+'.dat')\n",
    "temp = pd.DataFrame([twd[0]])\n",
    "for i in range(1, len(twd)):\n",
    "    temp = pd.concat([temp, pd.DataFrame([twd[i]])])\n",
    "temp = temp.reset_index()\n",
    "del temp['index']\n",
    "mtx_topics = pd.DataFrame(cosine_similarity(temp))\n",
    "matrix = np.triu(mtx_topics)\n",
    "\n",
    "print(\"The # topic pairs that have cosine similarity >= 0.9 is\", matrix[matrix >= 0.90].shape[0] - NTOPICS)\n",
    "for i in range(NTOPICS-1):\n",
    "    for j in range(i+1, NTOPICS):\n",
    "        if (matrix[i][j] > 0.8):\n",
    "            print(i+1, j+1, matrix[i][j])"
   ]
  },
  {
   "cell_type": "code",
   "execution_count": 24,
   "metadata": {
    "scrolled": true
   },
   "outputs": [
    {
     "data": {
      "text/plain": [
       "(27, 6)"
      ]
     },
     "execution_count": 24,
     "metadata": {},
     "output_type": "execute_result"
    },
    {
     "data": {
      "text/plain": [
       "<matplotlib.collections.PatchCollection at 0x7fa151b003a0>"
      ]
     },
     "execution_count": 24,
     "metadata": {},
     "output_type": "execute_result"
    },
    {
     "data": {
      "text/plain": [
       "[[<matplotlib.axis.XTick at 0x7fa1514e0af0>,\n",
       "  <matplotlib.axis.XTick at 0x7fa1514e0a00>,\n",
       "  <matplotlib.axis.XTick at 0x7fa1518cabe0>,\n",
       "  <matplotlib.axis.XTick at 0x7fa14238b9d0>,\n",
       "  <matplotlib.axis.XTick at 0x7fa111a02df0>,\n",
       "  <matplotlib.axis.XTick at 0x7fa111a0c970>],\n",
       " [<matplotlib.axis.YTick at 0x7fa160a10a00>,\n",
       "  <matplotlib.axis.YTick at 0x7fa160a10d60>,\n",
       "  <matplotlib.axis.YTick at 0x7fa131d9c430>,\n",
       "  <matplotlib.axis.YTick at 0x7fa1228e2790>,\n",
       "  <matplotlib.axis.YTick at 0x7fa111a0cc40>,\n",
       "  <matplotlib.axis.YTick at 0x7fa14238b070>,\n",
       "  <matplotlib.axis.YTick at 0x7fa121ad8460>,\n",
       "  <matplotlib.axis.YTick at 0x7fa121ad8640>,\n",
       "  <matplotlib.axis.YTick at 0x7fa121c4de80>,\n",
       "  <matplotlib.axis.YTick at 0x7fa121c4d550>,\n",
       "  <matplotlib.axis.YTick at 0x7fa131ba8700>,\n",
       "  <matplotlib.axis.YTick at 0x7fa121c4d130>,\n",
       "  <matplotlib.axis.YTick at 0x7fa121ad8d30>,\n",
       "  <matplotlib.axis.YTick at 0x7fa1228e2490>,\n",
       "  <matplotlib.axis.YTick at 0x7fa1613e2070>,\n",
       "  <matplotlib.axis.YTick at 0x7fa1613e25e0>,\n",
       "  <matplotlib.axis.YTick at 0x7fa111faf1f0>,\n",
       "  <matplotlib.axis.YTick at 0x7fa1613dddf0>,\n",
       "  <matplotlib.axis.YTick at 0x7fa111faf0a0>,\n",
       "  <matplotlib.axis.YTick at 0x7fa1613e2340>,\n",
       "  <matplotlib.axis.YTick at 0x7fa121c4df40>,\n",
       "  <matplotlib.axis.YTick at 0x7fa1613dd4f0>,\n",
       "  <matplotlib.axis.YTick at 0x7fa1308f6ee0>,\n",
       "  <matplotlib.axis.YTick at 0x7fa1308f6070>,\n",
       "  <matplotlib.axis.YTick at 0x7fa13286cc70>,\n",
       "  <matplotlib.axis.YTick at 0x7fa1308f6370>,\n",
       "  <matplotlib.axis.YTick at 0x7fa1613ddc70>],\n",
       " [Text(0, 0, 'Topic 1'),\n",
       "  Text(1, 0, 'Topic 2'),\n",
       "  Text(2, 0, 'Topic 3'),\n",
       "  Text(3, 0, 'Topic 4'),\n",
       "  Text(4, 0, 'Topic 5'),\n",
       "  Text(5, 0, 'Topic 6')],\n",
       " [Text(0, 0, 'Abditibacteriota'),\n",
       "  Text(0, 1, 'Acidobacteriota'),\n",
       "  Text(0, 2, 'Actinobacteriota'),\n",
       "  Text(0, 3, 'Armatimonadota'),\n",
       "  Text(0, 4, 'Bacteroidota'),\n",
       "  Text(0, 5, 'Bdellovibrionota'),\n",
       "  Text(0, 6, 'Chloroflexi'),\n",
       "  Text(0, 7, 'Crenarchaeota'),\n",
       "  Text(0, 8, 'Cyanobacteria'),\n",
       "  Text(0, 9, 'Deinococcota'),\n",
       "  Text(0, 10, 'Dependentiae'),\n",
       "  Text(0, 11, 'Desulfobacterota'),\n",
       "  Text(0, 12, 'Elusimicrobiota'),\n",
       "  Text(0, 13, 'Fibrobacterota'),\n",
       "  Text(0, 14, 'Firmicutes'),\n",
       "  Text(0, 15, 'Gemmatimonadota'),\n",
       "  Text(0, 16, 'Methylomirabilota'),\n",
       "  Text(0, 17, 'Myxococcota'),\n",
       "  Text(0, 18, 'Nitrospirota'),\n",
       "  Text(0, 19, 'Patescibacteria'),\n",
       "  Text(0, 20, 'Planctomycetota'),\n",
       "  Text(0, 21, 'Proteobacteria'),\n",
       "  Text(0, 22, 'Spirochaetota'),\n",
       "  Text(0, 23, 'Sumerlaeota'),\n",
       "  Text(0, 24, 'Thermoplasmatota'),\n",
       "  Text(0, 25, 'Verrucomicrobiota'),\n",
       "  Text(0, 26, 'WPS-2')]]"
      ]
     },
     "execution_count": 24,
     "metadata": {},
     "output_type": "execute_result"
    },
    {
     "data": {
      "text/plain": [
       "[<matplotlib.axis.XTick at 0x7fa170d39040>,\n",
       " <matplotlib.axis.XTick at 0x7fa1228e2730>,\n",
       " <matplotlib.axis.XTick at 0x7fa13286c550>,\n",
       " <matplotlib.axis.XTick at 0x7fa132867910>,\n",
       " <matplotlib.axis.XTick at 0x7fa132867130>,\n",
       " <matplotlib.axis.XTick at 0x7fa131ea3490>,\n",
       " <matplotlib.axis.XTick at 0x7fa131ea3340>]"
      ]
     },
     "execution_count": 24,
     "metadata": {},
     "output_type": "execute_result"
    },
    {
     "data": {
      "text/plain": [
       "[<matplotlib.axis.YTick at 0x7fa12283a640>,\n",
       " <matplotlib.axis.YTick at 0x7fa131ea3520>,\n",
       " <matplotlib.axis.YTick at 0x7fa132867190>,\n",
       " <matplotlib.axis.YTick at 0x7fa131d9c8e0>,\n",
       " <matplotlib.axis.YTick at 0x7fa13287eee0>,\n",
       " <matplotlib.axis.YTick at 0x7fa13287e2e0>,\n",
       " <matplotlib.axis.YTick at 0x7fa132871a30>,\n",
       " <matplotlib.axis.YTick at 0x7fa132871310>,\n",
       " <matplotlib.axis.YTick at 0x7fa132871280>,\n",
       " <matplotlib.axis.YTick at 0x7fa13287e400>,\n",
       " <matplotlib.axis.YTick at 0x7fa132867af0>,\n",
       " <matplotlib.axis.YTick at 0x7fa132875a00>,\n",
       " <matplotlib.axis.YTick at 0x7fa132875160>,\n",
       " <matplotlib.axis.YTick at 0x7fa13287a910>,\n",
       " <matplotlib.axis.YTick at 0x7fa13287aa30>,\n",
       " <matplotlib.axis.YTick at 0x7fa13287aa00>,\n",
       " <matplotlib.axis.YTick at 0x7fa1328753d0>,\n",
       " <matplotlib.axis.YTick at 0x7fa132871cd0>,\n",
       " <matplotlib.axis.YTick at 0x7fa1328842e0>,\n",
       " <matplotlib.axis.YTick at 0x7fa132887f10>,\n",
       " <matplotlib.axis.YTick at 0x7fa132887460>,\n",
       " <matplotlib.axis.YTick at 0x7fa13289cfa0>,\n",
       " <matplotlib.axis.YTick at 0x7fa1328871f0>,\n",
       " <matplotlib.axis.YTick at 0x7fa1328847c0>,\n",
       " <matplotlib.axis.YTick at 0x7fa13289c0d0>,\n",
       " <matplotlib.axis.YTick at 0x7fa13289cdf0>,\n",
       " <matplotlib.axis.YTick at 0x7fa1328a0760>,\n",
       " <matplotlib.axis.YTick at 0x7fa1328a0f40>]"
      ]
     },
     "execution_count": 24,
     "metadata": {},
     "output_type": "execute_result"
    },
    {
     "data": {
      "text/plain": [
       "[Text(0, 0, 'Topic 1'),\n",
       " Text(1, 0, 'Topic 2'),\n",
       " Text(2, 0, 'Topic 3'),\n",
       " Text(3, 0, 'Topic 4'),\n",
       " Text(4, 0, 'Topic 5'),\n",
       " Text(5, 0, 'Topic 6')]"
      ]
     },
     "execution_count": 24,
     "metadata": {},
     "output_type": "execute_result"
    },
    {
     "data": {
      "text/plain": [
       "[Text(0, 0, 'Abditibacteriota'),\n",
       " Text(0, 1, 'Acidobacteriota'),\n",
       " Text(0, 2, 'Actinobacteriota'),\n",
       " Text(0, 3, 'Armatimonadota'),\n",
       " Text(0, 4, 'Bacteroidota'),\n",
       " Text(0, 5, 'Bdellovibrionota'),\n",
       " Text(0, 6, 'Chloroflexi'),\n",
       " Text(0, 7, 'Crenarchaeota'),\n",
       " Text(0, 8, 'Cyanobacteria'),\n",
       " Text(0, 9, 'Deinococcota'),\n",
       " Text(0, 10, 'Dependentiae'),\n",
       " Text(0, 11, 'Desulfobacterota'),\n",
       " Text(0, 12, 'Elusimicrobiota'),\n",
       " Text(0, 13, 'Fibrobacterota'),\n",
       " Text(0, 14, 'Firmicutes'),\n",
       " Text(0, 15, 'Gemmatimonadota'),\n",
       " Text(0, 16, 'Methylomirabilota'),\n",
       " Text(0, 17, 'Myxococcota'),\n",
       " Text(0, 18, 'Nitrospirota'),\n",
       " Text(0, 19, 'Patescibacteria'),\n",
       " Text(0, 20, 'Planctomycetota'),\n",
       " Text(0, 21, 'Proteobacteria'),\n",
       " Text(0, 22, 'Spirochaetota'),\n",
       " Text(0, 23, 'Sumerlaeota'),\n",
       " Text(0, 24, 'Thermoplasmatota'),\n",
       " Text(0, 25, 'Verrucomicrobiota'),\n",
       " Text(0, 26, 'WPS-2')]"
      ]
     },
     "execution_count": 24,
     "metadata": {},
     "output_type": "execute_result"
    },
    {
     "data": {
      "image/png": "[encoded data removed]",
      "text/plain": [
       "<Figure size 4000x4000 with 2 Axes>"
      ]
     },
     "metadata": {},
     "output_type": "display_data"
    }
   ],
   "source": [
    "#bubble plots\n",
    "if tax_level == \"Sequence\":\n",
    "    g_thrs = 0.025#0.01#.025\n",
    "    g = df_norm\n",
    "    g = g[g >= g_thrs].fillna(0)\n",
    "    g = g[(g.T != 0).any()]\n",
    "    g = g.sort_index()\n",
    "    g.shape\n",
    "    #seqwater \n",
    "    g = g[['Topic 9', 'Topic 13', 'Topic 17', 'Topic 5', 'Topic 18', 'Topic 12', 'Topic 1', 'Topic 3', 'Topic 20', 'Topic 24', 'Topic 11', 'Topic 10', 'Topic 25', 'Topic 8', 'Topic 15', 'Topic 7', 'Topic 14', 'Topic 22', 'Topic 21', 'Topic 16', 'Topic 19', 'Topic 23', 'Topic 2', 'Topic 6', 'Topic 4']]\n",
    "    #soil g = g[['Topic 1', 'Topic 4', 'Topic 15', 'Topic 24', 'Topic 3', 'Topic 12', 'Topic 19', 'Topic 9', 'Topic 14', 'Topic 20', 'Topic 6', 'Topic 13', 'Topic 21', 'Topic 11', 'Topic 17', 'Topic 23', 'Topic 7', 'Topic 18', 'Topic 5', 'Topic 2', 'Topic 8', 'Topic 16', 'Topic 10', 'Topic 22', 'Topic 25']]\n",
    "    #seqstability g = g[['Topic 9', 'Topic 14', 'Topic 7', 'Topic 13', 'Topic 4', 'Topic 3', 'Topic 12', 'Topic 22', 'Topic 21', 'Topic 11', 'Topic 6', 'Topic 8', 'Topic 15', 'Topic 18', 'Topic 23', 'Topic 24', 'Topic 19', 'Topic 1', 'Topic 2', 'Topic 16', 'Topic 25', 'Topic 5', 'Topic 10', 'Topic 17', 'Topic 20']]\n",
    "\n",
    "    ylabels = g.index\n",
    "    xlabels = g.columns\n",
    "    N = len(ylabels)\n",
    "    M = len(xlabels)\n",
    "\n",
    "    x, y = np.meshgrid(np.arange(M), np.arange(N))\n",
    "    c = np.random.rand(N, M)\n",
    "    sns.set_style(\"whitegrid\")\n",
    "    fig, ax = plt.subplots(figsize=(40,40))\n",
    "\n",
    "    R = g*4\n",
    "    circles = [plt.Circle((j,i), radius=r) for r, j, i in zip(np.array(R).flat, x.flat, y.flat)]\n",
    "    col = PatchCollection(circles, array=np.array(R).flatten(), cmap=\"RdYlGn\")\n",
    "    ax.add_collection(col)\n",
    "\n",
    "    y_order = sorted(ylabels)\n",
    "    ax.set(xticks=np.arange(M), yticks=np.arange(N),\n",
    "           xticklabels=xlabels, yticklabels=y_order)\n",
    "    ax.set_xticks(np.arange(M+1)-0.5, minor=True)\n",
    "    ax.set_yticks(np.arange(N+1)-0.5, minor=True)\n",
    "    ax.set_xticklabels(xlabels, rotation = 45, ha=\"right\", fontsize=30)\n",
    "\n",
    "    colors = [['red']*11, ['black']*4, ['blue']*10]\n",
    "    colors = [item for sublist in colors for item in sublist]\n",
    "    colors\n",
    "    for xtick, color in zip(ax.get_xticklabels(), colors):\n",
    "        xtick.set_color(color)\n",
    "\n",
    "\n",
    "    ax.set_yticklabels(y_order, fontsize=35)\n",
    "    ax.grid(which='both')\n",
    "    ax.set_aspect(\"equal\", \"box\")\n",
    "    cbar = plt.colorbar(col, aspect=50)\n",
    "    cbar.ax.tick_params(labelsize=35) \n",
    "\n",
    "    legend_elements2 = [Line2D([0], [0], color = 'red', label='Half-water',\n",
    "                              markerfacecolor='black', markersize=30),\n",
    "                       Line2D([0], [0], color = 'blue', label='Full-water',\n",
    "                              markerfacecolor='black', markersize=30),\n",
    "                       Line2D([0], [0], color = 'black', label='No association',\n",
    "                              markerfacecolor='black', markersize=30)]\n",
    "\n",
    "    leg2 = ax.legend(handles=legend_elements2, loc = 'upper right', fontsize = 33, title_fontsize = 35, bbox_to_anchor = (1.7, 1), ncol = 1, title = 'Topic Water Associations')\n",
    "    ax.add_artist(leg2)\n",
    "    #plt.savefig('./upd_images/plot_water_' + str(tax_level) + '.eps', format='eps', bbox_inches='tight')\n",
    "    plt.show();\n",
    "else:\n",
    "    g_thrs = 0 # change this threshold for plotting, put 0 for phylum and class; 0.025 for Sequence (ASV)\n",
    "    g = df_norm\n",
    "    g = g[g >= g_thrs].fillna(0)\n",
    "    g = g[(g.T != 0).any()]\n",
    "    g = g.sort_index()\n",
    "    g.shape\n",
    "    #family level, order topics g = g[['Topic 8', 'Topic 3', 'Topic 1', 'Topic 12', 'Topic 9', 'Topic 10', 'Topic 11', 'Topic 19', 'Topic 15', 'Topic 5', 'Topic 6', 'Topic 16', 'Topic 4', 'Topic 2', 'Topic 17', 'Topic 7', 'Topic 20', 'Topic 18', 'Topic 13', 'Topic 14']]\n",
    "    #ASV plot by water g = g[['Topic 9', 'Topic 13', 'Topic 17', 'Topic 5', 'Topic 18', 'Topic 12', 'Topic 1', 'Topic 3', 'Topic 20', 'Topic 24', 'Topic 11', 'Topic 10', 'Topic 25', 'Topic 8', 'Topic 15', 'Topic 7', 'Topic 14', 'Topic 22', 'Topic 21', 'Topic 16', 'Topic 19', 'Topic 23', 'Topic 2', 'Topic 6', 'Topic 4']]\n",
    "    #ASV plot by soil g = g[['Topic 1', 'Topic 4', 'Topic 15', 'Topic 24', 'Topic 3', 'Topic 12', 'Topic 19', 'Topic 9', 'Topic 14', 'Topic 20', 'Topic 6', 'Topic 13', 'Topic 21', 'Topic 11', 'Topic 17', 'Topic 23', 'Topic 7', 'Topic 18', 'Topic 5', 'Topic 2', 'Topic 8', 'Topic 16', 'Topic 10', 'Topic 22', 'Topic 25']]\n",
    "\n",
    "    ylabels = g.index\n",
    "    xlabels = g.columns\n",
    "    N = len(ylabels)\n",
    "    M = len(xlabels)\n",
    "\n",
    "    x, y = np.meshgrid(np.arange(M), np.arange(N))\n",
    "    c = np.random.rand(N, M)\n",
    "    sns.set_style(\"whitegrid\")\n",
    "    fig, ax = plt.subplots(figsize=(40,40))\n",
    "\n",
    "    R = g #phylum, R=g*4 for ASV, control size of the bubbles\n",
    "    circles = [plt.Circle((j,i), radius=r) for r, j, i in zip(np.array(R).flat, x.flat, y.flat)]\n",
    "    col = PatchCollection(circles, array=np.array(R).flatten(), cmap=\"RdYlGn\")\n",
    "    ax.add_collection(col)\n",
    "\n",
    "    y_order = sorted(ylabels)\n",
    "    ax.set(xticks=np.arange(M), yticks=np.arange(N),\n",
    "       xticklabels=xlabels, yticklabels=y_order)\n",
    "    ax.set_xticks(np.arange(M+1)-0.5, minor=True)\n",
    "    ax.set_yticks(np.arange(N+1)-0.5, minor=True)\n",
    "    ax.set_xticklabels(xlabels, rotation = 45, ha=\"right\", fontsize=20)\n",
    "    ax.set_yticklabels(y_order, fontsize=20)\n",
    "    ax.grid(which='both')\n",
    "    ax.set_aspect(\"equal\", \"box\")\n",
    "    cbar = plt.colorbar(col, aspect=50)\n",
    "    cbar.ax.tick_params(labelsize=20)\n",
    "    #plt.savefig('./upd_images/plot_' + str(tax_level) + '.eps', format='eps', bbox_inches='tight')\n",
    "    plt.show();\n",
    "\n"
   ]
  },
  {
   "cell_type": "code",
   "execution_count": 25,
   "metadata": {
    "scrolled": true
   },
   "outputs": [
    {
     "data": {
      "text/html": [
       "<div>\n",
       "<style scoped>\n",
       "    .dataframe tbody tr th:only-of-type {\n",
       "        vertical-align: middle;\n",
       "    }\n",
       "\n",
       "    .dataframe tbody tr th {\n",
       "        vertical-align: top;\n",
       "    }\n",
       "\n",
       "    .dataframe thead th {\n",
       "        text-align: right;\n",
       "    }\n",
       "</style>\n",
       "<table border=\"1\" class=\"dataframe\">\n",
       "  <thead>\n",
       "    <tr style=\"text-align: right;\">\n",
       "      <th></th>\n",
       "      <th>Topic 1</th>\n",
       "      <th>Topic 2</th>\n",
       "      <th>Topic 3</th>\n",
       "      <th>Topic 4</th>\n",
       "      <th>Topic 5</th>\n",
       "      <th>Topic 6</th>\n",
       "    </tr>\n",
       "  </thead>\n",
       "  <tbody>\n",
       "    <tr>\n",
       "      <th>Acidobacteriota</th>\n",
       "      <td>2.411</td>\n",
       "      <td>0.000</td>\n",
       "      <td>2.100</td>\n",
       "      <td>0.000</td>\n",
       "      <td>0.000</td>\n",
       "      <td>0.000</td>\n",
       "    </tr>\n",
       "    <tr>\n",
       "      <th>Actinobacteriota</th>\n",
       "      <td>0.000</td>\n",
       "      <td>71.042</td>\n",
       "      <td>11.867</td>\n",
       "      <td>1.369</td>\n",
       "      <td>5.523</td>\n",
       "      <td>0.000</td>\n",
       "    </tr>\n",
       "    <tr>\n",
       "      <th>Bacteroidota</th>\n",
       "      <td>67.467</td>\n",
       "      <td>14.689</td>\n",
       "      <td>0.000</td>\n",
       "      <td>7.447</td>\n",
       "      <td>0.000</td>\n",
       "      <td>10.704</td>\n",
       "    </tr>\n",
       "    <tr>\n",
       "      <th>Bdellovibrionota</th>\n",
       "      <td>0.000</td>\n",
       "      <td>0.000</td>\n",
       "      <td>0.000</td>\n",
       "      <td>0.436</td>\n",
       "      <td>0.000</td>\n",
       "      <td>0.000</td>\n",
       "    </tr>\n",
       "    <tr>\n",
       "      <th>Chloroflexi</th>\n",
       "      <td>2.274</td>\n",
       "      <td>0.000</td>\n",
       "      <td>0.000</td>\n",
       "      <td>0.000</td>\n",
       "      <td>0.000</td>\n",
       "      <td>0.000</td>\n",
       "    </tr>\n",
       "    <tr>\n",
       "      <th>Cyanobacteria</th>\n",
       "      <td>0.000</td>\n",
       "      <td>0.000</td>\n",
       "      <td>2.589</td>\n",
       "      <td>0.000</td>\n",
       "      <td>75.708</td>\n",
       "      <td>0.000</td>\n",
       "    </tr>\n",
       "    <tr>\n",
       "      <th>Deinococcota</th>\n",
       "      <td>0.000</td>\n",
       "      <td>0.000</td>\n",
       "      <td>69.236</td>\n",
       "      <td>0.000</td>\n",
       "      <td>0.000</td>\n",
       "      <td>0.000</td>\n",
       "    </tr>\n",
       "    <tr>\n",
       "      <th>Gemmatimonadota</th>\n",
       "      <td>0.000</td>\n",
       "      <td>0.000</td>\n",
       "      <td>0.000</td>\n",
       "      <td>0.000</td>\n",
       "      <td>0.000</td>\n",
       "      <td>1.412</td>\n",
       "    </tr>\n",
       "    <tr>\n",
       "      <th>Myxococcota</th>\n",
       "      <td>8.204</td>\n",
       "      <td>1.954</td>\n",
       "      <td>0.000</td>\n",
       "      <td>0.000</td>\n",
       "      <td>1.443</td>\n",
       "      <td>0.000</td>\n",
       "    </tr>\n",
       "    <tr>\n",
       "      <th>Nitrospirota</th>\n",
       "      <td>0.000</td>\n",
       "      <td>0.000</td>\n",
       "      <td>0.000</td>\n",
       "      <td>0.698</td>\n",
       "      <td>0.000</td>\n",
       "      <td>0.000</td>\n",
       "    </tr>\n",
       "    <tr>\n",
       "      <th>Patescibacteria</th>\n",
       "      <td>0.000</td>\n",
       "      <td>3.603</td>\n",
       "      <td>0.000</td>\n",
       "      <td>0.000</td>\n",
       "      <td>0.000</td>\n",
       "      <td>0.000</td>\n",
       "    </tr>\n",
       "    <tr>\n",
       "      <th>Planctomycetota</th>\n",
       "      <td>13.140</td>\n",
       "      <td>0.000</td>\n",
       "      <td>0.000</td>\n",
       "      <td>0.000</td>\n",
       "      <td>4.219</td>\n",
       "      <td>1.566</td>\n",
       "    </tr>\n",
       "    <tr>\n",
       "      <th>Proteobacteria</th>\n",
       "      <td>0.000</td>\n",
       "      <td>0.000</td>\n",
       "      <td>12.035</td>\n",
       "      <td>89.586</td>\n",
       "      <td>12.145</td>\n",
       "      <td>48.668</td>\n",
       "    </tr>\n",
       "    <tr>\n",
       "      <th>Verrucomicrobiota</th>\n",
       "      <td>0.000</td>\n",
       "      <td>2.586</td>\n",
       "      <td>0.000</td>\n",
       "      <td>0.000</td>\n",
       "      <td>0.000</td>\n",
       "      <td>33.929</td>\n",
       "    </tr>\n",
       "  </tbody>\n",
       "</table>\n",
       "</div>"
      ],
      "text/plain": [
       "                   Topic 1  Topic 2  Topic 3  Topic 4  Topic 5  Topic 6\n",
       "Acidobacteriota      2.411    0.000    2.100    0.000    0.000    0.000\n",
       "Actinobacteriota     0.000   71.042   11.867    1.369    5.523    0.000\n",
       "Bacteroidota        67.467   14.689    0.000    7.447    0.000   10.704\n",
       "Bdellovibrionota     0.000    0.000    0.000    0.436    0.000    0.000\n",
       "Chloroflexi          2.274    0.000    0.000    0.000    0.000    0.000\n",
       "Cyanobacteria        0.000    0.000    2.589    0.000   75.708    0.000\n",
       "Deinococcota         0.000    0.000   69.236    0.000    0.000    0.000\n",
       "Gemmatimonadota      0.000    0.000    0.000    0.000    0.000    1.412\n",
       "Myxococcota          8.204    1.954    0.000    0.000    1.443    0.000\n",
       "Nitrospirota         0.000    0.000    0.000    0.698    0.000    0.000\n",
       "Patescibacteria      0.000    3.603    0.000    0.000    0.000    0.000\n",
       "Planctomycetota     13.140    0.000    0.000    0.000    4.219    1.566\n",
       "Proteobacteria       0.000    0.000   12.035   89.586   12.145   48.668\n",
       "Verrucomicrobiota    0.000    2.586    0.000    0.000    0.000   33.929"
      ]
     },
     "execution_count": 25,
     "metadata": {},
     "output_type": "execute_result"
    },
    {
     "data": {
      "text/html": [
       "<div>\n",
       "<style scoped>\n",
       "    .dataframe tbody tr th:only-of-type {\n",
       "        vertical-align: middle;\n",
       "    }\n",
       "\n",
       "    .dataframe tbody tr th {\n",
       "        vertical-align: top;\n",
       "    }\n",
       "\n",
       "    .dataframe thead th {\n",
       "        text-align: right;\n",
       "    }\n",
       "</style>\n",
       "<table border=\"1\" class=\"dataframe\">\n",
       "  <thead>\n",
       "    <tr style=\"text-align: right;\">\n",
       "      <th></th>\n",
       "      <th>Topic 1</th>\n",
       "      <th>Topic 2</th>\n",
       "      <th>Topic 3</th>\n",
       "      <th>Topic 4</th>\n",
       "      <th>Topic 5</th>\n",
       "      <th>Topic 6</th>\n",
       "    </tr>\n",
       "  </thead>\n",
       "  <tbody>\n",
       "    <tr>\n",
       "      <th>Abditibacteriota</th>\n",
       "      <td>0.000</td>\n",
       "      <td>0.000</td>\n",
       "      <td>8.895</td>\n",
       "      <td>14.853</td>\n",
       "      <td>0.000</td>\n",
       "      <td>0.000</td>\n",
       "    </tr>\n",
       "    <tr>\n",
       "      <th>Acidobacteriota</th>\n",
       "      <td>0.000</td>\n",
       "      <td>0.000</td>\n",
       "      <td>10.365</td>\n",
       "      <td>0.000</td>\n",
       "      <td>7.756</td>\n",
       "      <td>0.000</td>\n",
       "    </tr>\n",
       "    <tr>\n",
       "      <th>Actinobacteriota</th>\n",
       "      <td>0.000</td>\n",
       "      <td>13.576</td>\n",
       "      <td>0.000</td>\n",
       "      <td>0.000</td>\n",
       "      <td>0.000</td>\n",
       "      <td>0.000</td>\n",
       "    </tr>\n",
       "    <tr>\n",
       "      <th>Bacteroidota</th>\n",
       "      <td>8.076</td>\n",
       "      <td>0.000</td>\n",
       "      <td>0.000</td>\n",
       "      <td>0.000</td>\n",
       "      <td>0.000</td>\n",
       "      <td>0.000</td>\n",
       "    </tr>\n",
       "    <tr>\n",
       "      <th>Bdellovibrionota</th>\n",
       "      <td>0.000</td>\n",
       "      <td>0.000</td>\n",
       "      <td>0.000</td>\n",
       "      <td>6.996</td>\n",
       "      <td>0.000</td>\n",
       "      <td>0.000</td>\n",
       "    </tr>\n",
       "    <tr>\n",
       "      <th>Chloroflexi</th>\n",
       "      <td>16.120</td>\n",
       "      <td>0.000</td>\n",
       "      <td>0.000</td>\n",
       "      <td>0.000</td>\n",
       "      <td>0.000</td>\n",
       "      <td>0.000</td>\n",
       "    </tr>\n",
       "    <tr>\n",
       "      <th>Crenarchaeota</th>\n",
       "      <td>0.000</td>\n",
       "      <td>14.947</td>\n",
       "      <td>0.000</td>\n",
       "      <td>0.000</td>\n",
       "      <td>0.000</td>\n",
       "      <td>0.000</td>\n",
       "    </tr>\n",
       "    <tr>\n",
       "      <th>Cyanobacteria</th>\n",
       "      <td>0.000</td>\n",
       "      <td>0.000</td>\n",
       "      <td>0.000</td>\n",
       "      <td>0.000</td>\n",
       "      <td>57.220</td>\n",
       "      <td>0.000</td>\n",
       "    </tr>\n",
       "    <tr>\n",
       "      <th>Deinococcota</th>\n",
       "      <td>0.000</td>\n",
       "      <td>0.000</td>\n",
       "      <td>33.802</td>\n",
       "      <td>0.000</td>\n",
       "      <td>0.000</td>\n",
       "      <td>0.000</td>\n",
       "    </tr>\n",
       "    <tr>\n",
       "      <th>Dependentiae</th>\n",
       "      <td>0.000</td>\n",
       "      <td>0.000</td>\n",
       "      <td>5.443</td>\n",
       "      <td>0.000</td>\n",
       "      <td>0.000</td>\n",
       "      <td>0.000</td>\n",
       "    </tr>\n",
       "    <tr>\n",
       "      <th>Desulfobacterota</th>\n",
       "      <td>0.000</td>\n",
       "      <td>0.000</td>\n",
       "      <td>0.000</td>\n",
       "      <td>0.000</td>\n",
       "      <td>0.000</td>\n",
       "      <td>12.239</td>\n",
       "    </tr>\n",
       "    <tr>\n",
       "      <th>Elusimicrobiota</th>\n",
       "      <td>0.000</td>\n",
       "      <td>0.000</td>\n",
       "      <td>0.000</td>\n",
       "      <td>19.976</td>\n",
       "      <td>5.367</td>\n",
       "      <td>0.000</td>\n",
       "    </tr>\n",
       "    <tr>\n",
       "      <th>Fibrobacterota</th>\n",
       "      <td>0.000</td>\n",
       "      <td>16.101</td>\n",
       "      <td>0.000</td>\n",
       "      <td>0.000</td>\n",
       "      <td>0.000</td>\n",
       "      <td>0.000</td>\n",
       "    </tr>\n",
       "    <tr>\n",
       "      <th>Firmicutes</th>\n",
       "      <td>0.000</td>\n",
       "      <td>11.992</td>\n",
       "      <td>0.000</td>\n",
       "      <td>0.000</td>\n",
       "      <td>0.000</td>\n",
       "      <td>0.000</td>\n",
       "    </tr>\n",
       "    <tr>\n",
       "      <th>Gemmatimonadota</th>\n",
       "      <td>0.000</td>\n",
       "      <td>0.000</td>\n",
       "      <td>0.000</td>\n",
       "      <td>0.000</td>\n",
       "      <td>0.000</td>\n",
       "      <td>10.736</td>\n",
       "    </tr>\n",
       "    <tr>\n",
       "      <th>Methylomirabilota</th>\n",
       "      <td>0.000</td>\n",
       "      <td>0.000</td>\n",
       "      <td>17.778</td>\n",
       "      <td>0.000</td>\n",
       "      <td>0.000</td>\n",
       "      <td>0.000</td>\n",
       "    </tr>\n",
       "    <tr>\n",
       "      <th>Myxococcota</th>\n",
       "      <td>9.070</td>\n",
       "      <td>0.000</td>\n",
       "      <td>0.000</td>\n",
       "      <td>0.000</td>\n",
       "      <td>5.903</td>\n",
       "      <td>0.000</td>\n",
       "    </tr>\n",
       "    <tr>\n",
       "      <th>Nitrospirota</th>\n",
       "      <td>0.000</td>\n",
       "      <td>0.000</td>\n",
       "      <td>0.000</td>\n",
       "      <td>18.152</td>\n",
       "      <td>0.000</td>\n",
       "      <td>0.000</td>\n",
       "    </tr>\n",
       "    <tr>\n",
       "      <th>Patescibacteria</th>\n",
       "      <td>0.000</td>\n",
       "      <td>15.099</td>\n",
       "      <td>0.000</td>\n",
       "      <td>0.000</td>\n",
       "      <td>0.000</td>\n",
       "      <td>0.000</td>\n",
       "    </tr>\n",
       "    <tr>\n",
       "      <th>Planctomycetota</th>\n",
       "      <td>10.631</td>\n",
       "      <td>0.000</td>\n",
       "      <td>0.000</td>\n",
       "      <td>0.000</td>\n",
       "      <td>12.628</td>\n",
       "      <td>0.000</td>\n",
       "    </tr>\n",
       "    <tr>\n",
       "      <th>Proteobacteria</th>\n",
       "      <td>0.000</td>\n",
       "      <td>0.000</td>\n",
       "      <td>0.000</td>\n",
       "      <td>20.630</td>\n",
       "      <td>0.000</td>\n",
       "      <td>0.000</td>\n",
       "    </tr>\n",
       "    <tr>\n",
       "      <th>Spirochaetota</th>\n",
       "      <td>15.270</td>\n",
       "      <td>0.000</td>\n",
       "      <td>0.000</td>\n",
       "      <td>0.000</td>\n",
       "      <td>0.000</td>\n",
       "      <td>0.000</td>\n",
       "    </tr>\n",
       "    <tr>\n",
       "      <th>Sumerlaeota</th>\n",
       "      <td>0.000</td>\n",
       "      <td>0.000</td>\n",
       "      <td>0.000</td>\n",
       "      <td>0.000</td>\n",
       "      <td>0.000</td>\n",
       "      <td>12.329</td>\n",
       "    </tr>\n",
       "    <tr>\n",
       "      <th>Verrucomicrobiota</th>\n",
       "      <td>0.000</td>\n",
       "      <td>0.000</td>\n",
       "      <td>0.000</td>\n",
       "      <td>0.000</td>\n",
       "      <td>0.000</td>\n",
       "      <td>12.831</td>\n",
       "    </tr>\n",
       "    <tr>\n",
       "      <th>WPS-2</th>\n",
       "      <td>0.000</td>\n",
       "      <td>0.000</td>\n",
       "      <td>0.000</td>\n",
       "      <td>0.000</td>\n",
       "      <td>0.000</td>\n",
       "      <td>13.288</td>\n",
       "    </tr>\n",
       "  </tbody>\n",
       "</table>\n",
       "</div>"
      ],
      "text/plain": [
       "                   Topic 1  Topic 2  Topic 3  Topic 4  Topic 5  Topic 6\n",
       "Abditibacteriota     0.000    0.000    8.895   14.853    0.000    0.000\n",
       "Acidobacteriota      0.000    0.000   10.365    0.000    7.756    0.000\n",
       "Actinobacteriota     0.000   13.576    0.000    0.000    0.000    0.000\n",
       "Bacteroidota         8.076    0.000    0.000    0.000    0.000    0.000\n",
       "Bdellovibrionota     0.000    0.000    0.000    6.996    0.000    0.000\n",
       "Chloroflexi         16.120    0.000    0.000    0.000    0.000    0.000\n",
       "Crenarchaeota        0.000   14.947    0.000    0.000    0.000    0.000\n",
       "Cyanobacteria        0.000    0.000    0.000    0.000   57.220    0.000\n",
       "Deinococcota         0.000    0.000   33.802    0.000    0.000    0.000\n",
       "Dependentiae         0.000    0.000    5.443    0.000    0.000    0.000\n",
       "Desulfobacterota     0.000    0.000    0.000    0.000    0.000   12.239\n",
       "Elusimicrobiota      0.000    0.000    0.000   19.976    5.367    0.000\n",
       "Fibrobacterota       0.000   16.101    0.000    0.000    0.000    0.000\n",
       "Firmicutes           0.000   11.992    0.000    0.000    0.000    0.000\n",
       "Gemmatimonadota      0.000    0.000    0.000    0.000    0.000   10.736\n",
       "Methylomirabilota    0.000    0.000   17.778    0.000    0.000    0.000\n",
       "Myxococcota          9.070    0.000    0.000    0.000    5.903    0.000\n",
       "Nitrospirota         0.000    0.000    0.000   18.152    0.000    0.000\n",
       "Patescibacteria      0.000   15.099    0.000    0.000    0.000    0.000\n",
       "Planctomycetota     10.631    0.000    0.000    0.000   12.628    0.000\n",
       "Proteobacteria       0.000    0.000    0.000   20.630    0.000    0.000\n",
       "Spirochaetota       15.270    0.000    0.000    0.000    0.000    0.000\n",
       "Sumerlaeota          0.000    0.000    0.000    0.000    0.000   12.329\n",
       "Verrucomicrobiota    0.000    0.000    0.000    0.000    0.000   12.831\n",
       "WPS-2                0.000    0.000    0.000    0.000    0.000   13.288"
      ]
     },
     "execution_count": 25,
     "metadata": {},
     "output_type": "execute_result"
    }
   ],
   "source": [
    "#produce tables in Supplementary; \n",
    "N = 5 #10\n",
    "topdf = np.round(df_norm.mask(df_norm.rank(axis=0, method='min', ascending=False) > N, 0)*100, 3)\n",
    "topdf = topdf.loc[~(topdf==0).all(axis=1)]\n",
    "topdf\n",
    "#top10df.to_csv(r'./csv_lda_files/top_5_most_probable_asvs_in_LDA_topics.csv', header=True, index=True, sep='\\t')\n",
    "#top10df.to_excel(r'./csv_lda_files/top_5_most_probable_asvs_in_LDA_topics.xlsx', header=True, index=True)\n",
    "#print(top10df.to_latex(index=True)) \n",
    "\n",
    "\n",
    "N = 5 #10\n",
    "topreldf = np.round(s.mask(s.rank(axis=0, method='min', ascending=False) > N, 0)*100, 3)\n",
    "topreldf = topreldf.loc[~(topreldf==0).all(axis=1)]\n",
    "topreldf\n",
    "#top10df.to_excel(r'./csv_lda_files/top_5_most_amplified_asvs_in_LDA_topics.xlsx', header=True, index=True)\n",
    "#print(top10df.to_latex(index=True)) \n"
   ]
  },
  {
   "cell_type": "code",
   "execution_count": 26,
   "metadata": {
    "scrolled": true
   },
   "outputs": [
    {
     "name": "stdout",
     "output_type": "stream",
     "text": [
      "LDA probabilities\n",
      "Topic 1\n",
      "Bacteroidota        0.674670\n",
      "Planctomycetota     0.131402\n",
      "Myxococcota         0.082045\n",
      "Acidobacteriota     0.024113\n",
      "Chloroflexi         0.022738\n",
      "Proteobacteria      0.013001\n",
      "Nitrospirota        0.010211\n",
      "Bdellovibrionota    0.009143\n",
      "Gemmatimonadota     0.008808\n",
      "Deinococcota        0.008333\n",
      "Name: Topic 1, dtype: float64\n",
      "----------------------\n",
      "Topic 2\n",
      "Actinobacteriota     0.710423\n",
      "Bacteroidota         0.146891\n",
      "Patescibacteria      0.036035\n",
      "Verrucomicrobiota    0.025856\n",
      "Myxococcota          0.019537\n",
      "Bdellovibrionota     0.018162\n",
      "Cyanobacteria        0.017416\n",
      "Fibrobacterota       0.006584\n",
      "Crenarchaeota        0.005383\n",
      "Firmicutes           0.004782\n",
      "Name: Topic 2, dtype: float64\n",
      "----------------------\n",
      "Topic 3\n",
      "Deinococcota        0.692355\n",
      "Proteobacteria      0.120354\n",
      "Actinobacteriota    0.118673\n",
      "Cyanobacteria       0.025891\n",
      "Acidobacteriota     0.020999\n",
      "Myxococcota         0.011913\n",
      "Abditibacteriota    0.002124\n",
      "Dependentiae        0.002052\n",
      "Armatimonadota      0.001537\n",
      "Gemmatimonadota     0.001324\n",
      "Name: Topic 3, dtype: float64\n",
      "----------------------\n",
      "Topic 4\n",
      "Proteobacteria      0.895857\n",
      "Bacteroidota        0.074466\n",
      "Actinobacteriota    0.013690\n",
      "Nitrospirota        0.006981\n",
      "Bdellovibrionota    0.004356\n",
      "Myxococcota         0.001450\n",
      "Elusimicrobiota     0.001333\n",
      "Abditibacteriota    0.000843\n",
      "Dependentiae        0.000611\n",
      "Firmicutes          0.000279\n",
      "Name: Topic 4, dtype: float64\n",
      "----------------------\n",
      "Topic 5\n",
      "Cyanobacteria       0.757076\n",
      "Proteobacteria      0.121453\n",
      "Actinobacteriota    0.055230\n",
      "Planctomycetota     0.042189\n",
      "Myxococcota         0.014433\n",
      "Acidobacteriota     0.006271\n",
      "Deinococcota        0.000970\n",
      "Bdellovibrionota    0.000802\n",
      "Crenarchaeota       0.000669\n",
      "Elusimicrobiota     0.000602\n",
      "Name: Topic 5, dtype: float64\n",
      "----------------------\n",
      "Topic 6\n",
      "Proteobacteria       0.486676\n",
      "Verrucomicrobiota    0.339290\n",
      "Bacteroidota         0.107039\n",
      "Planctomycetota      0.015658\n",
      "Gemmatimonadota      0.014125\n",
      "Actinobacteriota     0.009751\n",
      "Myxococcota          0.005899\n",
      "WPS-2                0.005022\n",
      "Bdellovibrionota     0.004524\n",
      "Cyanobacteria        0.003942\n",
      "Name: Topic 6, dtype: float64\n",
      "----------------------\n"
     ]
    },
    {
     "data": {
      "text/plain": [
       "[<matplotlib.lines.Line2D at 0x7fa1228698b0>]"
      ]
     },
     "execution_count": 26,
     "metadata": {},
     "output_type": "execute_result"
    },
    {
     "data": {
      "text/plain": [
       "[<matplotlib.lines.Line2D at 0x7fa13288ca60>]"
      ]
     },
     "execution_count": 26,
     "metadata": {},
     "output_type": "execute_result"
    },
    {
     "data": {
      "text/plain": [
       "[<matplotlib.lines.Line2D at 0x7fa160a1fd30>]"
      ]
     },
     "execution_count": 26,
     "metadata": {},
     "output_type": "execute_result"
    },
    {
     "data": {
      "text/plain": [
       "[<matplotlib.lines.Line2D at 0x7fa160a1f370>]"
      ]
     },
     "execution_count": 26,
     "metadata": {},
     "output_type": "execute_result"
    },
    {
     "data": {
      "text/plain": [
       "[<matplotlib.lines.Line2D at 0x7fa160a1f7f0>]"
      ]
     },
     "execution_count": 26,
     "metadata": {},
     "output_type": "execute_result"
    },
    {
     "data": {
      "text/plain": [
       "[<matplotlib.lines.Line2D at 0x7fa12283f3d0>]"
      ]
     },
     "execution_count": 26,
     "metadata": {},
     "output_type": "execute_result"
    },
    {
     "data": {
      "text/plain": [
       "<matplotlib.legend.Legend at 0x7fa160a19160>"
      ]
     },
     "execution_count": 26,
     "metadata": {},
     "output_type": "execute_result"
    },
    {
     "data": {
      "text/plain": [
       "Text(0.5, 0, 'Number of most probable taxa in topics')"
      ]
     },
     "execution_count": 26,
     "metadata": {},
     "output_type": "execute_result"
    },
    {
     "data": {
      "text/plain": [
       "Text(0, 0.5, 'Probability')"
      ]
     },
     "execution_count": 26,
     "metadata": {},
     "output_type": "execute_result"
    },
    {
     "data": {
      "text/plain": [
       "Text(0.5, 1.0, ' ')"
      ]
     },
     "execution_count": 26,
     "metadata": {},
     "output_type": "execute_result"
    },
    {
     "data": {
      "image/png": "[encoded data removed]",
      "text/plain": [
       "<Figure size 640x480 with 1 Axes>"
      ]
     },
     "metadata": {},
     "output_type": "display_data"
    }
   ],
   "source": [
    "#print top 10 most probable taxa in each topic\n",
    "print(\"LDA probabilities\")\n",
    "for i in range(NTOPICS):\n",
    "    topic_name = 'Topic ' + str(i+1)\n",
    "    print(topic_name)\n",
    "    print(df_norm[topic_name].sort_values(ascending = False)[0:10])\n",
    "    print(\"----------------------\")\n",
    "    \n",
    "fig = plt.figure()\n",
    "for i in range(NTOPICS):\n",
    "    label = str(i+1)\n",
    "    topic_name = 'Topic ' + str(i+1)\n",
    "    sorted_probs = []\n",
    "    for i, j in df_norm[topic_name].sort_values(ascending = False)[0:10].items():\n",
    "        sorted_probs.append(j)\n",
    "    plt.plot(range(1, 11), sorted_probs, label=label)\n",
    "    \n",
    "plt.legend()\n",
    "plt.xlabel('Number of most probable taxa in topics', fontsize=14, color='Black')\n",
    "plt.ylabel('Probability', fontsize=14, color='Black')\n",
    "plt.title(\" \")\n",
    "plt.show()"
   ]
  },
  {
   "cell_type": "code",
   "execution_count": 27,
   "metadata": {
    "scrolled": true
   },
   "outputs": [
    {
     "name": "stdout",
     "output_type": "stream",
     "text": [
      "Relative amplification\n",
      "Topic 1\n",
      "Chloroflexi         0.161199\n",
      "Spirochaetota       0.152705\n",
      "Planctomycetota     0.106311\n",
      "Myxococcota         0.090704\n",
      "Bacteroidota        0.080760\n",
      "Acidobacteriota     0.080608\n",
      "Armatimonadota      0.073289\n",
      "Thermoplasmatota    0.063752\n",
      "Nitrospirota        0.042743\n",
      "Gemmatimonadota     0.032006\n",
      "Name: Topic 1, dtype: float64\n",
      "----------------------\n",
      "Topic 2\n",
      "Fibrobacterota       0.161011\n",
      "Patescibacteria      0.150989\n",
      "Crenarchaeota        0.149471\n",
      "Actinobacteriota     0.135763\n",
      "Firmicutes           0.119924\n",
      "Methylomirabilota    0.078079\n",
      "Bdellovibrionota     0.071700\n",
      "Myxococcota          0.032986\n",
      "Nitrospirota         0.027424\n",
      "Bacteroidota         0.026853\n",
      "Name: Topic 2, dtype: float64\n",
      "----------------------\n",
      "Topic 3\n",
      "Deinococcota         0.338018\n",
      "Methylomirabilota    0.177779\n",
      "Acidobacteriota      0.103652\n",
      "Abditibacteriota     0.088949\n",
      "Dependentiae         0.054428\n",
      "Armatimonadota       0.042347\n",
      "Elusimicrobiota      0.030327\n",
      "Sumerlaeota          0.028607\n",
      "Thermoplasmatota     0.028152\n",
      "Firmicutes           0.025880\n",
      "Name: Topic 3, dtype: float64\n",
      "----------------------\n",
      "Topic 4\n",
      "Proteobacteria      0.206298\n",
      "Elusimicrobiota     0.199755\n",
      "Nitrospirota        0.181518\n",
      "Abditibacteriota    0.148533\n",
      "Bdellovibrionota    0.069958\n",
      "Dependentiae        0.068135\n",
      "Bacteroidota        0.055373\n",
      "Firmicutes          0.028473\n",
      "Desulfobacterota    0.018761\n",
      "Actinobacteriota    0.010642\n",
      "Name: Topic 4, dtype: float64\n",
      "----------------------\n",
      "Topic 5\n",
      "Cyanobacteria       0.572198\n",
      "Planctomycetota     0.126275\n",
      "Acidobacteriota     0.077562\n",
      "Myxococcota         0.059031\n",
      "Elusimicrobiota     0.053668\n",
      "Crenarchaeota       0.045007\n",
      "Actinobacteriota    0.025568\n",
      "Proteobacteria      0.016656\n",
      "Dependentiae        0.012666\n",
      "Bdellovibrionota    0.007674\n",
      "Name: Topic 5, dtype: float64\n",
      "----------------------\n",
      "Topic 6\n",
      "WPS-2                0.132881\n",
      "Verrucomicrobiota    0.128305\n",
      "Sumerlaeota          0.123292\n",
      "Desulfobacterota     0.122392\n",
      "Gemmatimonadota      0.107362\n",
      "Thermoplasmatota     0.075307\n",
      "Armatimonadota       0.062637\n",
      "Dependentiae         0.060025\n",
      "Proteobacteria       0.037740\n",
      "Bacteroidota         0.026803\n",
      "Name: Topic 6, dtype: float64\n",
      "----------------------\n"
     ]
    }
   ],
   "source": [
    "#print top 10 most amplified taxa in each topic\n",
    "print(\"Relative amplification\")\n",
    "for i in range(NTOPICS):\n",
    "    topic_name = 'Topic ' + str(i+1)\n",
    "    print(topic_name)\n",
    "    print(s[topic_name].sort_values(ascending = False)[0:10])\n",
    "    print(\"----------------------\")"
   ]
  },
  {
   "cell_type": "code",
   "execution_count": 31,
   "metadata": {
    "scrolled": false
   },
   "outputs": [
    {
     "data": {
      "text/plain": [
       "Text(0.5, 0, 'Topic')"
      ]
     },
     "execution_count": 31,
     "metadata": {},
     "output_type": "execute_result"
    },
    {
     "data": {
      "text/plain": [
       "Text(0, 0.5, 'Abundance')"
      ]
     },
     "execution_count": 31,
     "metadata": {},
     "output_type": "execute_result"
    },
    {
     "data": {
      "text/plain": [
       "(array([0, 1, 2, 3, 4, 5]),\n",
       " [Text(0, 0, '4'),\n",
       "  Text(1, 0, '6'),\n",
       "  Text(2, 0, '2'),\n",
       "  Text(3, 0, '5'),\n",
       "  Text(4, 0, '1'),\n",
       "  Text(5, 0, '3')])"
      ]
     },
     "execution_count": 31,
     "metadata": {},
     "output_type": "execute_result"
    },
    {
     "data": {
      "text/plain": [
       "(-10.0, 10.0)"
      ]
     },
     "execution_count": 31,
     "metadata": {},
     "output_type": "execute_result"
    },
    {
     "data": {
      "text/plain": [
       "(0.0, 10.0)"
      ]
     },
     "execution_count": 31,
     "metadata": {},
     "output_type": "execute_result"
    },
    {
     "data": {
      "text/plain": [
       "<matplotlib.collections.LineCollection at 0x7fa131f04790>"
      ]
     },
     "execution_count": 31,
     "metadata": {},
     "output_type": "execute_result"
    },
    {
     "data": {
      "text/plain": [
       "<matplotlib.collections.LineCollection at 0x7fa121b54460>"
      ]
     },
     "execution_count": 31,
     "metadata": {},
     "output_type": "execute_result"
    },
    {
     "data": {
      "text/plain": [
       "<matplotlib.collections.LineCollection at 0x7fa1228f53d0>"
      ]
     },
     "execution_count": 31,
     "metadata": {},
     "output_type": "execute_result"
    },
    {
     "data": {
      "text/plain": [
       "<matplotlib.collections.LineCollection at 0x7fa132986700>"
      ]
     },
     "execution_count": 31,
     "metadata": {},
     "output_type": "execute_result"
    },
    {
     "data": {
      "text/plain": [
       "[<matplotlib.lines.Line2D at 0x7fa13299ee50>]"
      ]
     },
     "execution_count": 31,
     "metadata": {},
     "output_type": "execute_result"
    },
    {
     "data": {
      "text/plain": [
       "[<matplotlib.lines.Line2D at 0x7fa13299e130>]"
      ]
     },
     "execution_count": 31,
     "metadata": {},
     "output_type": "execute_result"
    },
    {
     "data": {
      "text/plain": [
       "[<matplotlib.lines.Line2D at 0x7fa13299ebb0>]"
      ]
     },
     "execution_count": 31,
     "metadata": {},
     "output_type": "execute_result"
    },
    {
     "data": {
      "text/plain": [
       "[<matplotlib.lines.Line2D at 0x7fa1329adaf0>]"
      ]
     },
     "execution_count": 31,
     "metadata": {},
     "output_type": "execute_result"
    },
    {
     "data": {
      "text/plain": [
       "[<matplotlib.lines.Line2D at 0x7fa1329adb20>]"
      ]
     },
     "execution_count": 31,
     "metadata": {},
     "output_type": "execute_result"
    },
    {
     "data": {
      "text/plain": [
       "[<matplotlib.lines.Line2D at 0x7fa1329ad0a0>]"
      ]
     },
     "execution_count": 31,
     "metadata": {},
     "output_type": "execute_result"
    },
    {
     "data": {
      "text/plain": [
       "Text(1.687663850308907, 5.7, '1')"
      ]
     },
     "execution_count": 31,
     "metadata": {},
     "output_type": "execute_result"
    },
    {
     "data": {
      "text/plain": [
       "Text(-2.7690153193919462, 5.7, '3')"
      ]
     },
     "execution_count": 31,
     "metadata": {},
     "output_type": "execute_result"
    },
    {
     "data": {
      "text/plain": [
       "Text(2.6147768183678446, 5.7, '2')"
      ]
     },
     "execution_count": 31,
     "metadata": {},
     "output_type": "execute_result"
    },
    {
     "data": {
      "text/plain": [
       "Text(3.104930979429976, 5.7, '4')"
      ]
     },
     "execution_count": 31,
     "metadata": {},
     "output_type": "execute_result"
    },
    {
     "data": {
      "text/plain": [
       "Text(3.524107229007154, 5.7, '5')"
      ]
     },
     "execution_count": 31,
     "metadata": {},
     "output_type": "execute_result"
    },
    {
     "data": {
      "text/plain": [
       "Text(3.4701087493238925, 5.7, '6')"
      ]
     },
     "execution_count": 31,
     "metadata": {},
     "output_type": "execute_result"
    },
    {
     "data": {
      "text/plain": [
       "Text(-10.1, 5, 'G0')"
      ]
     },
     "execution_count": 31,
     "metadata": {},
     "output_type": "execute_result"
    },
    {
     "data": {
      "text/plain": [
       "Text(10.1, 5, 'G1')"
      ]
     },
     "execution_count": 31,
     "metadata": {},
     "output_type": "execute_result"
    },
    {
     "data": {
      "text/plain": [
       "(-10.0, 10.0, 0.0, 10.0)"
      ]
     },
     "execution_count": 31,
     "metadata": {},
     "output_type": "execute_result"
    },
    {
     "data": {
      "text/plain": [
       "(-10.0, 10.0)"
      ]
     },
     "execution_count": 31,
     "metadata": {},
     "output_type": "execute_result"
    },
    {
     "data": {
      "text/plain": [
       "(0.0, 10.0)"
      ]
     },
     "execution_count": 31,
     "metadata": {},
     "output_type": "execute_result"
    },
    {
     "data": {
      "text/plain": [
       "<matplotlib.collections.LineCollection at 0x7fa132982640>"
      ]
     },
     "execution_count": 31,
     "metadata": {},
     "output_type": "execute_result"
    },
    {
     "data": {
      "text/plain": [
       "<matplotlib.collections.LineCollection at 0x7fa132982a00>"
      ]
     },
     "execution_count": 31,
     "metadata": {},
     "output_type": "execute_result"
    },
    {
     "data": {
      "text/plain": [
       "<matplotlib.collections.LineCollection at 0x7fa132982a60>"
      ]
     },
     "execution_count": 31,
     "metadata": {},
     "output_type": "execute_result"
    },
    {
     "data": {
      "text/plain": [
       "<matplotlib.collections.LineCollection at 0x7fa132982ee0>"
      ]
     },
     "execution_count": 31,
     "metadata": {},
     "output_type": "execute_result"
    },
    {
     "data": {
      "text/plain": [
       "[<matplotlib.lines.Line2D at 0x7fa132999d30>]"
      ]
     },
     "execution_count": 31,
     "metadata": {},
     "output_type": "execute_result"
    },
    {
     "data": {
      "text/plain": [
       "[<matplotlib.lines.Line2D at 0x7fa132999fd0>]"
      ]
     },
     "execution_count": 31,
     "metadata": {},
     "output_type": "execute_result"
    },
    {
     "data": {
      "text/plain": [
       "[<matplotlib.lines.Line2D at 0x7fa132999eb0>]"
      ]
     },
     "execution_count": 31,
     "metadata": {},
     "output_type": "execute_result"
    },
    {
     "data": {
      "text/plain": [
       "[<matplotlib.lines.Line2D at 0x7fa132999d90>]"
      ]
     },
     "execution_count": 31,
     "metadata": {},
     "output_type": "execute_result"
    },
    {
     "data": {
      "text/plain": [
       "[<matplotlib.lines.Line2D at 0x7fa13298b280>]"
      ]
     },
     "execution_count": 31,
     "metadata": {},
     "output_type": "execute_result"
    },
    {
     "data": {
      "text/plain": [
       "[<matplotlib.lines.Line2D at 0x7fa13298b400>]"
      ]
     },
     "execution_count": 31,
     "metadata": {},
     "output_type": "execute_result"
    },
    {
     "data": {
      "text/plain": [
       "Text(-10.1, 5, 'G0')"
      ]
     },
     "execution_count": 31,
     "metadata": {},
     "output_type": "execute_result"
    },
    {
     "data": {
      "text/plain": [
       "Text(10.1, 5, 'G1')"
      ]
     },
     "execution_count": 31,
     "metadata": {},
     "output_type": "execute_result"
    },
    {
     "data": {
      "text/plain": [
       "(-10.0, 10.0, 0.0, 10.0)"
      ]
     },
     "execution_count": 31,
     "metadata": {},
     "output_type": "execute_result"
    },
    {
     "data": {
      "text/plain": [
       "(-10.0, 10.0)"
      ]
     },
     "execution_count": 31,
     "metadata": {},
     "output_type": "execute_result"
    },
    {
     "data": {
      "text/plain": [
       "(0.0, 10.0)"
      ]
     },
     "execution_count": 31,
     "metadata": {},
     "output_type": "execute_result"
    },
    {
     "data": {
      "text/plain": [
       "<matplotlib.collections.LineCollection at 0x7fa171281160>"
      ]
     },
     "execution_count": 31,
     "metadata": {},
     "output_type": "execute_result"
    },
    {
     "data": {
      "text/plain": [
       "<matplotlib.collections.LineCollection at 0x7fa1328eee20>"
      ]
     },
     "execution_count": 31,
     "metadata": {},
     "output_type": "execute_result"
    },
    {
     "data": {
      "text/plain": [
       "<matplotlib.collections.LineCollection at 0x7fa161032a60>"
      ]
     },
     "execution_count": 31,
     "metadata": {},
     "output_type": "execute_result"
    },
    {
     "data": {
      "text/plain": [
       "<matplotlib.collections.LineCollection at 0x7fa161032e20>"
      ]
     },
     "execution_count": 31,
     "metadata": {},
     "output_type": "execute_result"
    },
    {
     "data": {
      "text/plain": [
       "[<matplotlib.lines.Line2D at 0x7fa1329d7370>]"
      ]
     },
     "execution_count": 31,
     "metadata": {},
     "output_type": "execute_result"
    },
    {
     "data": {
      "text/plain": [
       "[<matplotlib.lines.Line2D at 0x7fa1329d75b0>]"
      ]
     },
     "execution_count": 31,
     "metadata": {},
     "output_type": "execute_result"
    },
    {
     "data": {
      "text/plain": [
       "[<matplotlib.lines.Line2D at 0x7fa1329d78b0>]"
      ]
     },
     "execution_count": 31,
     "metadata": {},
     "output_type": "execute_result"
    },
    {
     "data": {
      "text/plain": [
       "[<matplotlib.lines.Line2D at 0x7fa1329d7be0>]"
      ]
     },
     "execution_count": 31,
     "metadata": {},
     "output_type": "execute_result"
    },
    {
     "data": {
      "text/plain": [
       "[<matplotlib.lines.Line2D at 0x7fa1329d7e20>]"
      ]
     },
     "execution_count": 31,
     "metadata": {},
     "output_type": "execute_result"
    },
    {
     "data": {
      "text/plain": [
       "[<matplotlib.lines.Line2D at 0x7fa1328a8130>]"
      ]
     },
     "execution_count": 31,
     "metadata": {},
     "output_type": "execute_result"
    },
    {
     "data": {
      "text/plain": [
       "Text(-4.3362382673473405, 5.7, '2')"
      ]
     },
     "execution_count": 31,
     "metadata": {},
     "output_type": "execute_result"
    },
    {
     "data": {
      "text/plain": [
       "Text(-0.1512451339480112, 5.7, '3')"
      ]
     },
     "execution_count": 31,
     "metadata": {},
     "output_type": "execute_result"
    },
    {
     "data": {
      "text/plain": [
       "Text(0.4151308392177624, 5.7, '4')"
      ]
     },
     "execution_count": 31,
     "metadata": {},
     "output_type": "execute_result"
    },
    {
     "data": {
      "text/plain": [
       "Text(4.621923116600021, 5.7, '1')"
      ]
     },
     "execution_count": 31,
     "metadata": {},
     "output_type": "execute_result"
    },
    {
     "data": {
      "text/plain": [
       "Text(3.532898607816958, 5.7, '5')"
      ]
     },
     "execution_count": 31,
     "metadata": {},
     "output_type": "execute_result"
    },
    {
     "data": {
      "text/plain": [
       "Text(8.557491986866932, 5.7, '6')"
      ]
     },
     "execution_count": 31,
     "metadata": {},
     "output_type": "execute_result"
    },
    {
     "data": {
      "text/plain": [
       "Text(-10.1, 5, 'Half')"
      ]
     },
     "execution_count": 31,
     "metadata": {},
     "output_type": "execute_result"
    },
    {
     "data": {
      "text/plain": [
       "Text(10.1, 5, 'Full')"
      ]
     },
     "execution_count": 31,
     "metadata": {},
     "output_type": "execute_result"
    },
    {
     "data": {
      "text/plain": [
       "(-10.0, 10.0, 0.0, 10.0)"
      ]
     },
     "execution_count": 31,
     "metadata": {},
     "output_type": "execute_result"
    },
    {
     "data": {
      "text/plain": [
       "(-10.0, 10.0)"
      ]
     },
     "execution_count": 31,
     "metadata": {},
     "output_type": "execute_result"
    },
    {
     "data": {
      "text/plain": [
       "(0.0, 10.0)"
      ]
     },
     "execution_count": 31,
     "metadata": {},
     "output_type": "execute_result"
    },
    {
     "data": {
      "text/plain": [
       "<matplotlib.collections.LineCollection at 0x7fa160a152b0>"
      ]
     },
     "execution_count": 31,
     "metadata": {},
     "output_type": "execute_result"
    },
    {
     "data": {
      "text/plain": [
       "<matplotlib.collections.LineCollection at 0x7fa1329a7bb0>"
      ]
     },
     "execution_count": 31,
     "metadata": {},
     "output_type": "execute_result"
    },
    {
     "data": {
      "text/plain": [
       "<matplotlib.collections.LineCollection at 0x7fa14238f670>"
      ]
     },
     "execution_count": 31,
     "metadata": {},
     "output_type": "execute_result"
    },
    {
     "data": {
      "text/plain": [
       "<matplotlib.collections.LineCollection at 0x7fa1329a71f0>"
      ]
     },
     "execution_count": 31,
     "metadata": {},
     "output_type": "execute_result"
    },
    {
     "data": {
      "text/plain": [
       "[<matplotlib.lines.Line2D at 0x7fa13298bb20>]"
      ]
     },
     "execution_count": 31,
     "metadata": {},
     "output_type": "execute_result"
    },
    {
     "data": {
      "text/plain": [
       "[<matplotlib.lines.Line2D at 0x7fa121ad8d60>]"
      ]
     },
     "execution_count": 31,
     "metadata": {},
     "output_type": "execute_result"
    },
    {
     "data": {
      "text/plain": [
       "[<matplotlib.lines.Line2D at 0x7fa111fb52e0>]"
      ]
     },
     "execution_count": 31,
     "metadata": {},
     "output_type": "execute_result"
    },
    {
     "data": {
      "text/plain": [
       "[<matplotlib.lines.Line2D at 0x7fa111fb59d0>]"
      ]
     },
     "execution_count": 31,
     "metadata": {},
     "output_type": "execute_result"
    },
    {
     "data": {
      "text/plain": [
       "[<matplotlib.lines.Line2D at 0x7fa111fb5fa0>]"
      ]
     },
     "execution_count": 31,
     "metadata": {},
     "output_type": "execute_result"
    },
    {
     "data": {
      "text/plain": [
       "[<matplotlib.lines.Line2D at 0x7fa111fb5850>]"
      ]
     },
     "execution_count": 31,
     "metadata": {},
     "output_type": "execute_result"
    },
    {
     "data": {
      "text/plain": [
       "Text(-10.1, 5, 'Half')"
      ]
     },
     "execution_count": 31,
     "metadata": {},
     "output_type": "execute_result"
    },
    {
     "data": {
      "text/plain": [
       "Text(10.1, 5, 'Full')"
      ]
     },
     "execution_count": 31,
     "metadata": {},
     "output_type": "execute_result"
    },
    {
     "data": {
      "text/plain": [
       "(-10.0, 10.0, 0.0, 10.0)"
      ]
     },
     "execution_count": 31,
     "metadata": {},
     "output_type": "execute_result"
    },
    {
     "data": {
      "image/png": "[encoded data removed]",
      "text/plain": [
       "<Figure size 640x480 with 3 Axes>"
      ]
     },
     "metadata": {},
     "output_type": "display_data"
    },
    {
     "data": {
      "text/plain": [
       "<matplotlib.collections.PathCollection at 0x7fa160cc0070>"
      ]
     },
     "execution_count": 31,
     "metadata": {},
     "output_type": "execute_result"
    },
    {
     "data": {
      "text/plain": [
       "Text(-0.07123361496910931, 0.22219231166000208, '1')"
      ]
     },
     "execution_count": 31,
     "metadata": {},
     "output_type": "execute_result"
    },
    {
     "data": {
      "text/plain": [
       "<matplotlib.collections.PathCollection at 0x7fa1328d9910>"
      ]
     },
     "execution_count": 31,
     "metadata": {},
     "output_type": "execute_result"
    },
    {
     "data": {
      "text/plain": [
       "Text(-0.5169015319391946, -0.25512451339480113, '3')"
      ]
     },
     "execution_count": 31,
     "metadata": {},
     "output_type": "execute_result"
    },
    {
     "data": {
      "text/plain": [
       "<matplotlib.collections.PathCollection at 0x7fa121a00640>"
      ]
     },
     "execution_count": 31,
     "metadata": {},
     "output_type": "execute_result"
    },
    {
     "data": {
      "text/plain": [
       "Text(0.02147768183678444, -0.6736238267347341, '2')"
      ]
     },
     "execution_count": 31,
     "metadata": {},
     "output_type": "execute_result"
    },
    {
     "data": {
      "text/plain": [
       "<matplotlib.collections.PathCollection at 0x7fa1325e96d0>"
      ]
     },
     "execution_count": 31,
     "metadata": {},
     "output_type": "execute_result"
    },
    {
     "data": {
      "text/plain": [
       "Text(0.07049309794299762, -0.19848691607822377, '4')"
      ]
     },
     "execution_count": 31,
     "metadata": {},
     "output_type": "execute_result"
    },
    {
     "data": {
      "text/plain": [
       "<matplotlib.collections.PathCollection at 0x7fa1328ca670>"
      ]
     },
     "execution_count": 31,
     "metadata": {},
     "output_type": "execute_result"
    },
    {
     "data": {
      "text/plain": [
       "Text(0.1124107229007154, 0.11328986078169577, '5')"
      ]
     },
     "execution_count": 31,
     "metadata": {},
     "output_type": "execute_result"
    },
    {
     "data": {
      "text/plain": [
       "<matplotlib.collections.PathCollection at 0x7fa1328ec370>"
      ]
     },
     "execution_count": 31,
     "metadata": {},
     "output_type": "execute_result"
    },
    {
     "data": {
      "text/plain": [
       "Text(0.10701087493238924, 0.6157491986866932, '6')"
      ]
     },
     "execution_count": 31,
     "metadata": {},
     "output_type": "execute_result"
    },
    {
     "data": {
      "text/plain": [
       "Text(0.5, 0, 'Generation: 0 vs 1')"
      ]
     },
     "execution_count": 31,
     "metadata": {},
     "output_type": "execute_result"
    },
    {
     "data": {
      "text/plain": [
       "Text(0, 0.5, 'Watering: Half vs Full')"
      ]
     },
     "execution_count": 31,
     "metadata": {},
     "output_type": "execute_result"
    },
    {
     "data": {
      "image/png": "[encoded data removed]",
      "text/plain": [
       "<Figure size 640x480 with 1 Axes>"
      ]
     },
     "metadata": {},
     "output_type": "display_data"
    }
   ],
   "source": [
    "if tax_level == \"Sequence\":\n",
    "    path = '../gitlab/data/5cv_all_sequence'\n",
    "    sub_data = pd.read_csv(path + '/doc-topic_' + str(NTOPICS) + '.dat', sep='\\s+', header=None).iloc[:, np.r_[2:NTOPICS+2]]\n",
    "    sub_data.columns = [str(i) for i in range(1, NTOPICS+1)] \n",
    "    source_gen = pd.concat([pd.DataFrame(df_gen0_gen1[\"Generation\"]), pd.DataFrame(df_gen0_gen1[\"Watering\"])], axis=1)\n",
    "    source_gen = source_gen.sort_index()\n",
    "    potsvstopics = pd.concat([sub_data, source_gen.reset_index()], axis=1)\n",
    "    del potsvstopics['ID']\n",
    "    del potsvstopics['Watering']\n",
    "\n",
    "    fig = plt.figure()\n",
    "    ax3 = plt.subplot2grid((10, 10), (0, 0),colspan=3, rowspan=8)\n",
    "    test = sub_data\n",
    "    test.columns = [str(i) for i in range(1, NTOPICS+1)] \n",
    "    test = pd.DataFrame(test.mean(axis=0))\n",
    "    test.columns = ['Topic']\n",
    "    test = test.sort_values('Topic',ascending=False)\n",
    "    test = test.plot.bar(stacked=False, width = 1, ax=ax3, color=plt.cm.Paired(np.arange(len(df.T))), rot=0, legend=False)\n",
    "    plt.xlabel('Topic')\n",
    "    plt.ylabel('Abundance') \n",
    "    plt.xticks(rotation=45, fontsize=4)\n",
    "    \n",
    "    ax1 = plt.subplot2grid((10, 10), (0, 5), colspan=5, rowspan=5)\n",
    "    w0 = potsvstopics[potsvstopics['Generation'] == 0]\n",
    "    del w0['Generation']\n",
    "    w1 = potsvstopics[potsvstopics['Generation'] == 1]\n",
    "    del w1['Generation']\n",
    "\n",
    "    wt_df = pd.concat([pd.DataFrame(w0.sum(axis = 0)/np.sum(w0.sum(axis = 0))), pd.DataFrame(w1.sum(axis = 0)/np.sum(w1.sum(axis = 0)))], axis = 1)\n",
    "    wt_df.columns = ['G0', 'G1']\n",
    "    t = wt_df.T\n",
    "    t = t.div(t.sum())\n",
    "    wt_df = t.T\n",
    "    #wt_df\n",
    "    gwt_df = wt_df\n",
    "\n",
    "    w_h = []\n",
    "    w_f = []\n",
    "    w_hi = []\n",
    "    w_fi = []\n",
    "    for i in range(wt_df.shape[0]):\n",
    "        if ((wt_df['G0'][i] - wt_df['G1'][i]) < 1e-10):\n",
    "            w_f.append(1 - wt_df['G0'][i]/wt_df['G1'][i])\n",
    "            w_fi.append(wt_df.index[i])\n",
    "        else:\n",
    "            w_h.append(wt_df['G1'][i]/wt_df['G0'][i] - 1)\n",
    "            w_hi.append(wt_df.index[i])\n",
    "\n",
    "\n",
    "    potsvstopics = pd.concat([sub_data, source_gen.reset_index()], axis=1)\n",
    "    del potsvstopics['ID']\n",
    "    del potsvstopics['Generation']\n",
    "    potsvstopics.columns = [str(i) for i in range(1, NTOPICS+1)] + ['Watering']#topic_names+['Watering']\n",
    "\n",
    "    w0 = potsvstopics[potsvstopics['Watering'] == 0]\n",
    "    del w0['Watering']\n",
    "    w1 = potsvstopics[potsvstopics['Watering'] == 1]\n",
    "    del w1['Watering']\n",
    "\n",
    "    wt_df = pd.concat([pd.DataFrame(w0.sum(axis = 0)/np.sum(w0.sum(axis = 0))), pd.DataFrame(w1.sum(axis = 0)/np.sum(w1.sum(axis = 0)))], axis = 1)\n",
    "    wt_df.columns = ['Half', 'Full']\n",
    "\n",
    "    t = wt_df.T\n",
    "    t = t.div(t.sum())\n",
    "    wt_df = t.T\n",
    "\n",
    "    tw_h = []\n",
    "    tw_f = []\n",
    "    tw_hi = []\n",
    "    tw_fi = []\n",
    "    for i in range(wt_df.shape[0]):\n",
    "        if ((wt_df['Half'][i] - wt_df['Full'][i]) < 1e-10):\n",
    "            tw_f.append(1 - wt_df['Half'][i]/wt_df['Full'][i])\n",
    "            tw_fi.append(wt_df.index[i])\n",
    "        else:\n",
    "            tw_h.append(wt_df['Full'][i]/wt_df['Half'][i] - 1)\n",
    "            tw_hi.append(wt_df.index[i])\n",
    "\n",
    "    sp_ = pd.DataFrame(\n",
    "        {'Topic': w_hi + w_fi,\n",
    "         'Generation': w_h + w_f\n",
    "        })\n",
    "\n",
    "    tr_ = pd.DataFrame(\n",
    "        {'Topic': tw_hi + tw_fi,\n",
    "         'Watering': tw_h + tw_f\n",
    "        })\n",
    "\n",
    "    sptr = sp_.merge(tr_, left_on='Topic', right_on='Topic', how = 'left')\n",
    "\n",
    "\n",
    "    fig, ax = plt.subplots()\n",
    "\n",
    "    x_c = sptr['Generation']\n",
    "    y_c = sptr['Watering']\n",
    "    types = sptr['Topic']\n",
    "\n",
    "    for i,type in enumerate(types):\n",
    "        x = x_c[i]\n",
    "        y = y_c[i]\n",
    "\n",
    "        if int(type) == 3 or int(type) == 4 or int(type) == 8 or int(type) == 12 or int(type) == 21 or int(type) == 22:\n",
    "            plt.scatter(x, y, marker='s', color='black', s = 10)\n",
    "        if int(type) == 1 or int(type) == 15 or int(type) == 18 or int(type) == 19 or int(type) == 23 or int(type) == 24 or int(type) == 25:\n",
    "            plt.scatter(x, y, marker='>', color='black', s = 10)\n",
    "        else:\n",
    "            plt.scatter(x, y, marker='.', color='black', s = 10)\n",
    "\n",
    "        #G1, FW   \n",
    "        if int(type) == 2:\n",
    "            plt.text(x-0.02, y-0.12, type, fontsize=12, color = 'blue')\n",
    "        elif int(type) == 4:\n",
    "            plt.text(x+0.05, y-0.05, type, fontsize=12, color = 'red')\n",
    "        elif int(type) == 6:\n",
    "            plt.text(x+0.03, y-0.05, type, fontsize=12, color = 'green')    \n",
    "        elif int(type) == 16:\n",
    "            plt.text(x+0.03, y-0.05, type, fontsize=12, color = 'blue')\n",
    "        elif int(type) == 21:\n",
    "            plt.text(x-0.05, y+0.05, type, fontsize=12, color = 'green')\n",
    "        elif int(type) == 19:\n",
    "            plt.text(x+0.01, y, type, fontsize=12, color = 'red')\n",
    "        elif int(type) == 23:\n",
    "            plt.text(x+0.02, y+0.05, type, fontsize=12, color = 'green')\n",
    "        #G1, HW    \n",
    "        elif int(type) == 20:\n",
    "            plt.text(x+0.02, y+0.05, type, fontsize=12, color = 'green')  \n",
    "        elif int(type) == 18:\n",
    "            plt.text(x-0.09, y-0.06, type, fontsize=12, color = 'blue')  \n",
    "        elif int(type) == 12:\n",
    "            plt.text(x-0.06, y+0.05, type, fontsize=12, color = 'red')  \n",
    "        elif int(type) == 3:\n",
    "            plt.text(x+0.02, y-0.01, type, fontsize=12, color = 'red')  \n",
    "        elif int(type) == 1:\n",
    "            plt.text(x+0.02, y-0.05, type, fontsize=12, color = 'red')\n",
    "        #all other\n",
    "        elif int(type) == 7:\n",
    "            plt.text(x, y, type, fontsize=12, color = 'green')\n",
    "        elif int(type) == 14:\n",
    "            plt.text(x, y, type, fontsize=12, color = 'red')\n",
    "        elif int(type) == 22:\n",
    "            plt.text(x+0.02, y, type, fontsize=12, color = 'black')\n",
    "        elif int(type) == 15:\n",
    "            plt.text(x, y, type, fontsize=12, color = 'red')\n",
    "        elif int(type) == 8:\n",
    "            plt.text(x+0.02, y, type, fontsize=12, color = 'blue')\n",
    "        elif int(type) == 10:\n",
    "            plt.text(x, y, type, fontsize=12, color = 'black')\n",
    "        elif int(type) == 24:\n",
    "            plt.text(x, y, type, fontsize=12, color = 'red')\n",
    "        elif int(type) == 25:\n",
    "            plt.text(x, y, type, fontsize=12, color = 'black')\n",
    "        elif int(type) == 11:\n",
    "            plt.text(x, y, type, fontsize=12, color = 'green')\n",
    "        elif int(type) == 5:\n",
    "            plt.text(x, y, type, fontsize=12, color = 'blue')\n",
    "        elif int(type) == 13:\n",
    "            plt.text(x, y, type, fontsize=12, color = 'green')\n",
    "        elif int(type) == 17:\n",
    "            plt.text(x, y, type, fontsize=12, color = 'green')\n",
    "        elif int(type) == 9:\n",
    "            plt.text(x, y, type, fontsize=12, color = 'red')\n",
    "\n",
    "\n",
    "    legend_elements1 = [Line2D([0], [0], marker='s', color = 'white', label='Stable', markersize=8, markerfacecolor='black'),\n",
    "                       Line2D([0], [0], marker='>', color = 'white', label='Switched',\n",
    "                               markerfacecolor='black', markersize=8),\n",
    "                        Line2D([0], [0], marker='.', color = 'white', label='No association',\n",
    "                               markerfacecolor='black', markersize=12)]\n",
    "\n",
    "    legend_elements2 = [Line2D([0], [0], color = 'red', label='Agriculture',\n",
    "                              markerfacecolor='black', markersize=10),\n",
    "                       Line2D([0], [0], color = 'green', label='Forest',\n",
    "                              markerfacecolor='black', markersize=10),\n",
    "                       Line2D([0], [0], color = 'blue', label='No inoculation',\n",
    "                              markerfacecolor='black', markersize=10),\n",
    "                       Line2D([0], [0], color = 'black', label='No association',\n",
    "                              markerfacecolor='black', markersize=10)]\n",
    "\n",
    "    leg1 = ax.legend(handles=legend_elements1, loc = 'center left', bbox_to_anchor = (1.02, 0.87), ncol = 1, title = 'Topic Watering Stability Associations')\n",
    "    leg2 = ax.legend(handles=legend_elements2, loc = 'center left', bbox_to_anchor = (1.02, 0.5), ncol = 1, title = 'Topic Soil Inoculation Associations')\n",
    "    ax.add_artist(leg1)\n",
    "\n",
    "    plt.xlabel('Generation: 0 vs 1', fontsize = 14);\n",
    "    plt.ylabel('Watering: Half vs Full', fontsize = 14);\n",
    "    #plt.savefig('./upd_images/seq_1.eps', format='eps', bbox_inches='tight')\n",
    "    plt.show();\n",
    "    \n",
    "else:\n",
    "    sub_data = pd.read_csv(path + '/doc-topic_' + str(NTOPICS) + '.dat', sep='\\s+', header=None).iloc[:, np.r_[2:NTOPICS+2]]\n",
    "    sub_data.columns = [str(i) for i in range(1, NTOPICS+1)] #topic_names\n",
    "    source_gen = pd.concat([pd.DataFrame(df_gen0_gen1[\"Generation\"]), pd.DataFrame(df_gen0_gen1[\"Watering\"])], axis=1)\n",
    "    source_gen = source_gen.sort_index()\n",
    "    potsvstopics = pd.concat([sub_data, source_gen.reset_index()], axis=1)\n",
    "    del potsvstopics['ID']\n",
    "    del potsvstopics['Watering']\n",
    "\n",
    "\n",
    "    fig = plt.figure()\n",
    "    ax3 = plt.subplot2grid((10, 10), (0, 0),colspan=3, rowspan=8)\n",
    "    test = sub_data\n",
    "    test.columns = [str(i) for i in range(1, NTOPICS+1)] \n",
    "    test = pd.DataFrame(test.mean(axis=0))\n",
    "    test.columns = ['Topic']\n",
    "    test = test.sort_values('Topic',ascending=False)\n",
    "    test = test.plot.bar(stacked=False, width = 1, ax=ax3, color=plt.cm.Paired(np.arange(len(df.T))), rot=0, legend=False)\n",
    "    plt.xlabel('Topic')\n",
    "    plt.ylabel('Abundance') \n",
    "    plt.xticks(rotation=45, fontsize=8)\n",
    "\n",
    "    \n",
    "    ax1 = plt.subplot2grid((10, 10), (0, 5), colspan=5, rowspan=5)\n",
    "    w0 = potsvstopics[potsvstopics['Generation'] == 0]\n",
    "    del w0['Generation']\n",
    "    w1 = potsvstopics[potsvstopics['Generation'] == 1]\n",
    "    del w1['Generation']\n",
    "\n",
    "    wt_df = pd.concat([pd.DataFrame(w0.sum(axis = 0)/np.sum(w0.sum(axis = 0))), pd.DataFrame(w1.sum(axis = 0)/np.sum(w1.sum(axis = 0)))], axis = 1)\n",
    "    wt_df.columns = ['G0', 'G1']\n",
    "    t = wt_df.T\n",
    "    t = t.div(t.sum())\n",
    "    wt_df = t.T\n",
    "    gwt_df = wt_df\n",
    "\n",
    "    w_h = []\n",
    "    w_f = []\n",
    "    w_hi = []\n",
    "    w_fi = []\n",
    "    for i in range(wt_df.shape[0]):\n",
    "        if ((wt_df['G0'][i] - wt_df['G1'][i]) < 1e-10):\n",
    "            w_f.append(1 - wt_df['G0'][i]/wt_df['G1'][i])\n",
    "            w_fi.append(wt_df.index[i])\n",
    "        else:\n",
    "            w_h.append(wt_df['G1'][i]/wt_df['G0'][i] - 1)\n",
    "            w_hi.append(wt_df.index[i])\n",
    "\n",
    "\n",
    "    ax1.set_xlim(-10,10)\n",
    "    ax1.set_ylim(0,10)\n",
    "\n",
    "    xmin = -10\n",
    "    xmax = 10\n",
    "    y = 5\n",
    "    height = 1\n",
    "\n",
    "    ax1.hlines(y, xmin, xmax)\n",
    "    ax1.vlines(xmin, y - height / 2., y + height / 2.)\n",
    "    ax1.vlines(xmax, y - height / 2., y + height / 2.)\n",
    "\n",
    "    ax1.vlines(0, y - height / 2., y + height / 2.)\n",
    "    for i in range(len(w_h)):\n",
    "        ax1.plot(w_h[i]*10, y, 'ro', ms = 8, mfc = 'r')\n",
    "    for i in range(len(w_f)):\n",
    "        ax1.plot(w_f[i]*10, y, 'bo', ms = 8, mfc = 'b')\n",
    "\n",
    "\n",
    "    for i in range(len(w_hi)):\n",
    "        ax1.annotate(w_hi[i], (w_h[i]*10,y), xytext = (w_h[i]*10 + 2.5, y + 0.7),  \n",
    "                  rotation = 45, ha=\"right\")\n",
    "\n",
    "\n",
    "    for i in range(len(w_fi)):   \n",
    "        ax1.annotate(w_fi[i], (w_f[i]*10,y), xytext = (w_f[i]*10 + 2.5, y + 0.7),  \n",
    "                      rotation = 45, ha=\"right\")\n",
    "\n",
    "\n",
    "    ax1.text(xmin - 0.1, y, 'G0', horizontalalignment='right')\n",
    "    ax1.text(xmax + 0.1, y, 'G1', horizontalalignment='left')\n",
    "    ax1.axis('off')      \n",
    "\n",
    "    ax1.set_xlim(-10,10)\n",
    "    ax1.set_ylim(0,10)\n",
    "\n",
    "    xmin = -10\n",
    "    xmax = 10\n",
    "    y = 5\n",
    "    height = 1\n",
    "\n",
    "    ax1.hlines(y, xmin, xmax)\n",
    "    ax1.vlines(xmin, y - height / 2., y + height / 2.)\n",
    "    ax1.vlines(xmax, y - height / 2., y + height / 2.)\n",
    "\n",
    "    ax1.vlines(0, y - height / 2., y + height / 2.)\n",
    "    for i in range(len(w_h)):\n",
    "        ax1.plot(w_h[i]*10, y, 'ro', ms = 8, mfc = 'r')\n",
    "    for i in range(len(w_f)):\n",
    "        ax1.plot(w_f[i]*10, y, 'bo', ms = 8, mfc = 'b')\n",
    "\n",
    "    ax1.text(xmin - 0.1, y, 'G0', horizontalalignment='right')\n",
    "    ax1.text(xmax + 0.1, y, 'G1', horizontalalignment='left')\n",
    "    ax1.axis('off')\n",
    "\n",
    "\n",
    "\n",
    "    ax2 = plt.subplot2grid((10, 10), (5, 5), colspan=5, rowspan=5)\n",
    "    potsvstopics = pd.concat([sub_data, source_gen.reset_index()], axis=1)\n",
    "    del potsvstopics['ID']\n",
    "    del potsvstopics['Generation']\n",
    "    potsvstopics.columns = [str(i) for i in range(1, NTOPICS+1)] + ['Watering']#topic_names+['Watering']\n",
    "\n",
    "    w0 = potsvstopics[potsvstopics['Watering'] == 0]\n",
    "    del w0['Watering']\n",
    "    w1 = potsvstopics[potsvstopics['Watering'] == 1]\n",
    "    del w1['Watering']\n",
    "\n",
    "    wt_df = pd.concat([pd.DataFrame(w0.sum(axis = 0)/np.sum(w0.sum(axis = 0))), pd.DataFrame(w1.sum(axis = 0)/np.sum(w1.sum(axis = 0)))], axis = 1)\n",
    "    wt_df.columns = ['Half', 'Full']\n",
    "\n",
    "    t = wt_df.T\n",
    "    t = t.div(t.sum())\n",
    "    wt_df = t.T\n",
    "\n",
    "    tw_h = []\n",
    "    tw_f = []\n",
    "    tw_hi = []\n",
    "    tw_fi = []\n",
    "    for i in range(wt_df.shape[0]):\n",
    "        if ((wt_df['Half'][i] - wt_df['Full'][i]) < 1e-10):\n",
    "            tw_f.append(1 - wt_df['Half'][i]/wt_df['Full'][i])\n",
    "            tw_fi.append(wt_df.index[i])\n",
    "        else:\n",
    "            tw_h.append(wt_df['Full'][i]/wt_df['Half'][i] - 1)\n",
    "            tw_hi.append(wt_df.index[i])\n",
    "\n",
    "\n",
    "    ax2.set_xlim(-10,10)\n",
    "    ax2.set_ylim(0,10)\n",
    "\n",
    "    xmin = -10\n",
    "    xmax = 10\n",
    "    y = 5\n",
    "    height = 1\n",
    "\n",
    "    ax2.hlines(y, xmin, xmax)\n",
    "    ax2.vlines(xmin, y - height / 2., y + height / 2.)\n",
    "    ax2.vlines(xmax, y - height / 2., y + height / 2.)\n",
    "\n",
    "    ax2.vlines(0, y - height / 2., y + height / 2.)\n",
    "    for i in range(len(tw_h)):\n",
    "        ax2.plot(tw_h[i]*10, y, 'ro', ms = 8, mfc = 'r')\n",
    "    for i in range(len(tw_f)):\n",
    "        ax2.plot(tw_f[i]*10, y, 'bo', ms = 8, mfc = 'b')\n",
    "\n",
    "\n",
    "    for i in range(len(tw_hi)):\n",
    "        ax2.annotate(tw_hi[i], (tw_h[i]*10,y), xytext = (tw_h[i]*10 + 2.5, y + 0.7),  \n",
    "                  rotation = 45, ha=\"right\")\n",
    "\n",
    "    for i in range(len(tw_fi)):   \n",
    "        ax2.annotate(tw_fi[i], (tw_f[i]*10,y), xytext = (tw_f[i]*10 + 2.5, y + 0.7),  \n",
    "                      rotation = 45, ha=\"right\")\n",
    "\n",
    "\n",
    "    ax2.text(xmin - 0.1, y, 'Half', horizontalalignment='right')\n",
    "    ax2.text(xmax + 0.1, y, 'Full', horizontalalignment='left')\n",
    "    ax2.axis('off')      \n",
    "\n",
    "    ax2.set_xlim(-10,10)\n",
    "    ax2.set_ylim(0,10)\n",
    "\n",
    "    xmin = -10\n",
    "    xmax = 10\n",
    "    y = 5\n",
    "    height = 1\n",
    "\n",
    "    ax2.hlines(y, xmin, xmax)\n",
    "    ax2.vlines(xmin, y - height / 2., y + height / 2.)\n",
    "    ax2.vlines(xmax, y - height / 2., y + height / 2.)\n",
    "\n",
    "    ax2.vlines(0, y - height / 2., y + height / 2.)\n",
    "    for i in range(len(tw_h)):\n",
    "        ax2.plot(tw_h[i]*10, y, 'ro', ms = 8, mfc = 'r')\n",
    "    for i in range(len(tw_f)):\n",
    "        ax2.plot(tw_f[i]*10, y, 'bo', ms = 8, mfc = 'b')\n",
    "\n",
    "\n",
    "\n",
    "    ax2.text(xmin - 0.1, y, 'Half', horizontalalignment='right')\n",
    "    ax2.text(xmax + 0.1, y, 'Full', horizontalalignment='left')\n",
    "    ax2.axis('off')\n",
    "\n",
    "    fig.tight_layout()\n",
    "    plt.subplots_adjust(top=0.6, left=-0.3)\n",
    "    plt.show();\n",
    "\n",
    "\n",
    "    sp_ = pd.DataFrame(\n",
    "        {'Topic': w_hi + w_fi,\n",
    "         'Generation': w_h + w_f\n",
    "        })\n",
    "\n",
    "    tr_ = pd.DataFrame(\n",
    "        {'Topic': tw_hi + tw_fi,\n",
    "         'Watering': tw_h + tw_f\n",
    "        })\n",
    "\n",
    "    sptr = sp_.merge(tr_, left_on='Topic', right_on='Topic', how = 'left')\n",
    "\n",
    "\n",
    "    x_c = sptr['Generation']\n",
    "    y_c = sptr['Watering']\n",
    "    types = sptr['Topic']\n",
    "    for i,type in enumerate(types):\n",
    "        x = x_c[i]\n",
    "        y = y_c[i]\n",
    "        plt.scatter(x, y, marker='.', color='black')\n",
    "        plt.text(x+0.01, y+0.01, type, fontsize=12)\n",
    "\n",
    "    plt.xlabel('Generation: 0 vs 1');\n",
    "    plt.ylabel('Watering: Half vs Full');\n",
    "    #plt.savefig('./upd_images/plot_2d_' + str(tax_level) + '.eps', format='eps', bbox_inches='tight')\n",
    "    plt.show();"
   ]
  },
  {
   "cell_type": "code",
   "execution_count": 32,
   "metadata": {
    "scrolled": false
   },
   "outputs": [
    {
     "data": {
      "text/plain": [
       "Topic 6    0.422841\n",
       "Topic 5    0.376197\n",
       "Topic 2    0.322951\n",
       "Topic 4    0.282843\n",
       "Topic 1    0.272917\n",
       "Topic 3    0.220938\n",
       "Name: None, dtype: float64"
      ]
     },
     "execution_count": 32,
     "metadata": {},
     "output_type": "execute_result"
    },
    {
     "data": {
      "application/vnd.plotly.v1+json": {
       "config": {
        "plotlyServerURL": "https://plot.ly"
       },
       "data": [
        {
         "a": [
          0.3949182979833892,
          0.33361890911301567,
          0.3527553544477946,
          0.3689977608866536,
          0.33335197180169424,
          0.2703430962730638
         ],
         "b": [
          0.33216425281887074,
          0.34342994654755343,
          0.4263067034764932,
          0.3481591965093428,
          0.29045149440701556,
          0.30681562160490183
         ],
         "c": [
          0.27291744919774,
          0.3229511443394308,
          0.2209379420757122,
          0.2828430426040036,
          0.3761965337912902,
          0.4228412821220344
         ],
         "hovertemplate": "AG=%{a}<br>FR=%{b}<br>None=%{c}<br>Topic=%{text}<extra></extra>",
         "legendgroup": "",
         "marker": {
          "color": "lightblue",
          "symbol": "circle"
         },
         "mode": "markers+text",
         "name": "",
         "showlegend": false,
         "subplot": "ternary",
         "text": [
          1,
          2,
          3,
          4,
          5,
          6
         ],
         "textfont": {
          "size": 12
         },
         "textposition": "bottom center",
         "type": "scatterternary"
        }
       ],
       "layout": {
        "coloraxis": {
         "colorbar": {
          "title": {
           "side": "bottom"
          }
         }
        },
        "legend": {
         "tracegroupgap": 0
        },
        "margin": {
         "t": 60
        },
        "template": {
         "data": {
          "bar": [
           {
            "error_x": {
             "color": "#2a3f5f"
            },
            "error_y": {
             "color": "#2a3f5f"
            },
            "marker": {
             "line": {
              "color": "#E5ECF6",
              "width": 0.5
             },
             "pattern": {
              "fillmode": "overlay",
              "size": 10,
              "solidity": 0.2
             }
            },
            "type": "bar"
           }
          ],
          "barpolar": [
           {
            "marker": {
             "line": {
              "color": "#E5ECF6",
              "width": 0.5
             },
             "pattern": {
              "fillmode": "overlay",
              "size": 10,
              "solidity": 0.2
             }
            },
            "type": "barpolar"
           }
          ],
          "carpet": [
           {
            "aaxis": {
             "endlinecolor": "#2a3f5f",
             "gridcolor": "white",
             "linecolor": "white",
             "minorgridcolor": "white",
             "startlinecolor": "#2a3f5f"
            },
            "baxis": {
             "endlinecolor": "#2a3f5f",
             "gridcolor": "white",
             "linecolor": "white",
             "minorgridcolor": "white",
             "startlinecolor": "#2a3f5f"
            },
            "type": "carpet"
           }
          ],
          "choropleth": [
           {
            "colorbar": {
             "outlinewidth": 0,
             "ticks": ""
            },
            "type": "choropleth"
           }
          ],
          "contour": [
           {
            "colorbar": {
             "outlinewidth": 0,
             "ticks": ""
            },
            "colorscale": [
             [
              0,
              "#0d0887"
             ],
             [
              0.1111111111111111,
              "#46039f"
             ],
             [
              0.2222222222222222,
              "#7201a8"
             ],
             [
              0.3333333333333333,
              "#9c179e"
             ],
             [
              0.4444444444444444,
              "#bd3786"
             ],
             [
              0.5555555555555556,
              "#d8576b"
             ],
             [
              0.6666666666666666,
              "#ed7953"
             ],
             [
              0.7777777777777778,
              "#fb9f3a"
             ],
             [
              0.8888888888888888,
              "#fdca26"
             ],
             [
              1,
              "#f0f921"
             ]
            ],
            "type": "contour"
           }
          ],
          "contourcarpet": [
           {
            "colorbar": {
             "outlinewidth": 0,
             "ticks": ""
            },
            "type": "contourcarpet"
           }
          ],
          "heatmap": [
           {
            "colorbar": {
             "outlinewidth": 0,
             "ticks": ""
            },
            "colorscale": [
             [
              0,
              "#0d0887"
             ],
             [
              0.1111111111111111,
              "#46039f"
             ],
             [
              0.2222222222222222,
              "#7201a8"
             ],
             [
              0.3333333333333333,
              "#9c179e"
             ],
             [
              0.4444444444444444,
              "#bd3786"
             ],
             [
              0.5555555555555556,
              "#d8576b"
             ],
             [
              0.6666666666666666,
              "#ed7953"
             ],
             [
              0.7777777777777778,
              "#fb9f3a"
             ],
             [
              0.8888888888888888,
              "#fdca26"
             ],
             [
              1,
              "#f0f921"
             ]
            ],
            "type": "heatmap"
           }
          ],
          "heatmapgl": [
           {
            "colorbar": {
             "outlinewidth": 0,
             "ticks": ""
            },
            "colorscale": [
             [
              0,
              "#0d0887"
             ],
             [
              0.1111111111111111,
              "#46039f"
             ],
             [
              0.2222222222222222,
              "#7201a8"
             ],
             [
              0.3333333333333333,
              "#9c179e"
             ],
             [
              0.4444444444444444,
              "#bd3786"
             ],
             [
              0.5555555555555556,
              "#d8576b"
             ],
             [
              0.6666666666666666,
              "#ed7953"
             ],
             [
              0.7777777777777778,
              "#fb9f3a"
             ],
             [
              0.8888888888888888,
              "#fdca26"
             ],
             [
              1,
              "#f0f921"
             ]
            ],
            "type": "heatmapgl"
           }
          ],
          "histogram": [
           {
            "marker": {
             "pattern": {
              "fillmode": "overlay",
              "size": 10,
              "solidity": 0.2
             }
            },
            "type": "histogram"
           }
          ],
          "histogram2d": [
           {
            "colorbar": {
             "outlinewidth": 0,
             "ticks": ""
            },
            "colorscale": [
             [
              0,
              "#0d0887"
             ],
             [
              0.1111111111111111,
              "#46039f"
             ],
             [
              0.2222222222222222,
              "#7201a8"
             ],
             [
              0.3333333333333333,
              "#9c179e"
             ],
             [
              0.4444444444444444,
              "#bd3786"
             ],
             [
              0.5555555555555556,
              "#d8576b"
             ],
             [
              0.6666666666666666,
              "#ed7953"
             ],
             [
              0.7777777777777778,
              "#fb9f3a"
             ],
             [
              0.8888888888888888,
              "#fdca26"
             ],
             [
              1,
              "#f0f921"
             ]
            ],
            "type": "histogram2d"
           }
          ],
          "histogram2dcontour": [
           {
            "colorbar": {
             "outlinewidth": 0,
             "ticks": ""
            },
            "colorscale": [
             [
              0,
              "#0d0887"
             ],
             [
              0.1111111111111111,
              "#46039f"
             ],
             [
              0.2222222222222222,
              "#7201a8"
             ],
             [
              0.3333333333333333,
              "#9c179e"
             ],
             [
              0.4444444444444444,
              "#bd3786"
             ],
             [
              0.5555555555555556,
              "#d8576b"
             ],
             [
              0.6666666666666666,
              "#ed7953"
             ],
             [
              0.7777777777777778,
              "#fb9f3a"
             ],
             [
              0.8888888888888888,
              "#fdca26"
             ],
             [
              1,
              "#f0f921"
             ]
            ],
            "type": "histogram2dcontour"
           }
          ],
          "mesh3d": [
           {
            "colorbar": {
             "outlinewidth": 0,
             "ticks": ""
            },
            "type": "mesh3d"
           }
          ],
          "parcoords": [
           {
            "line": {
             "colorbar": {
              "outlinewidth": 0,
              "ticks": ""
             }
            },
            "type": "parcoords"
           }
          ],
          "pie": [
           {
            "automargin": true,
            "type": "pie"
           }
          ],
          "scatter": [
           {
            "fillpattern": {
             "fillmode": "overlay",
             "size": 10,
             "solidity": 0.2
            },
            "type": "scatter"
           }
          ],
          "scatter3d": [
           {
            "line": {
             "colorbar": {
              "outlinewidth": 0,
              "ticks": ""
             }
            },
            "marker": {
             "colorbar": {
              "outlinewidth": 0,
              "ticks": ""
             }
            },
            "type": "scatter3d"
           }
          ],
          "scattercarpet": [
           {
            "marker": {
             "colorbar": {
              "outlinewidth": 0,
              "ticks": ""
             }
            },
            "type": "scattercarpet"
           }
          ],
          "scattergeo": [
           {
            "marker": {
             "colorbar": {
              "outlinewidth": 0,
              "ticks": ""
             }
            },
            "type": "scattergeo"
           }
          ],
          "scattergl": [
           {
            "marker": {
             "colorbar": {
              "outlinewidth": 0,
              "ticks": ""
             }
            },
            "type": "scattergl"
           }
          ],
          "scattermapbox": [
           {
            "marker": {
             "colorbar": {
              "outlinewidth": 0,
              "ticks": ""
             }
            },
            "type": "scattermapbox"
           }
          ],
          "scatterpolar": [
           {
            "marker": {
             "colorbar": {
              "outlinewidth": 0,
              "ticks": ""
             }
            },
            "type": "scatterpolar"
           }
          ],
          "scatterpolargl": [
           {
            "marker": {
             "colorbar": {
              "outlinewidth": 0,
              "ticks": ""
             }
            },
            "type": "scatterpolargl"
           }
          ],
          "scatterternary": [
           {
            "marker": {
             "colorbar": {
              "outlinewidth": 0,
              "ticks": ""
             }
            },
            "type": "scatterternary"
           }
          ],
          "surface": [
           {
            "colorbar": {
             "outlinewidth": 0,
             "ticks": ""
            },
            "colorscale": [
             [
              0,
              "#0d0887"
             ],
             [
              0.1111111111111111,
              "#46039f"
             ],
             [
              0.2222222222222222,
              "#7201a8"
             ],
             [
              0.3333333333333333,
              "#9c179e"
             ],
             [
              0.4444444444444444,
              "#bd3786"
             ],
             [
              0.5555555555555556,
              "#d8576b"
             ],
             [
              0.6666666666666666,
              "#ed7953"
             ],
             [
              0.7777777777777778,
              "#fb9f3a"
             ],
             [
              0.8888888888888888,
              "#fdca26"
             ],
             [
              1,
              "#f0f921"
             ]
            ],
            "type": "surface"
           }
          ],
          "table": [
           {
            "cells": {
             "fill": {
              "color": "#EBF0F8"
             },
             "line": {
              "color": "white"
             }
            },
            "header": {
             "fill": {
              "color": "#C8D4E3"
             },
             "line": {
              "color": "white"
             }
            },
            "type": "table"
           }
          ]
         },
         "layout": {
          "annotationdefaults": {
           "arrowcolor": "#2a3f5f",
           "arrowhead": 0,
           "arrowwidth": 1
          },
          "autotypenumbers": "strict",
          "coloraxis": {
           "colorbar": {
            "outlinewidth": 0,
            "ticks": ""
           }
          },
          "colorscale": {
           "diverging": [
            [
             0,
             "#8e0152"
            ],
            [
             0.1,
             "#c51b7d"
            ],
            [
             0.2,
             "#de77ae"
            ],
            [
             0.3,
             "#f1b6da"
            ],
            [
             0.4,
             "#fde0ef"
            ],
            [
             0.5,
             "#f7f7f7"
            ],
            [
             0.6,
             "#e6f5d0"
            ],
            [
             0.7,
             "#b8e186"
            ],
            [
             0.8,
             "#7fbc41"
            ],
            [
             0.9,
             "#4d9221"
            ],
            [
             1,
             "#276419"
            ]
           ],
           "sequential": [
            [
             0,
             "#0d0887"
            ],
            [
             0.1111111111111111,
             "#46039f"
            ],
            [
             0.2222222222222222,
             "#7201a8"
            ],
            [
             0.3333333333333333,
             "#9c179e"
            ],
            [
             0.4444444444444444,
             "#bd3786"
            ],
            [
             0.5555555555555556,
             "#d8576b"
            ],
            [
             0.6666666666666666,
             "#ed7953"
            ],
            [
             0.7777777777777778,
             "#fb9f3a"
            ],
            [
             0.8888888888888888,
             "#fdca26"
            ],
            [
             1,
             "#f0f921"
            ]
           ],
           "sequentialminus": [
            [
             0,
             "#0d0887"
            ],
            [
             0.1111111111111111,
             "#46039f"
            ],
            [
             0.2222222222222222,
             "#7201a8"
            ],
            [
             0.3333333333333333,
             "#9c179e"
            ],
            [
             0.4444444444444444,
             "#bd3786"
            ],
            [
             0.5555555555555556,
             "#d8576b"
            ],
            [
             0.6666666666666666,
             "#ed7953"
            ],
            [
             0.7777777777777778,
             "#fb9f3a"
            ],
            [
             0.8888888888888888,
             "#fdca26"
            ],
            [
             1,
             "#f0f921"
            ]
           ]
          },
          "colorway": [
           "#636efa",
           "#EF553B",
           "#00cc96",
           "#ab63fa",
           "#FFA15A",
           "#19d3f3",
           "#FF6692",
           "#B6E880",
           "#FF97FF",
           "#FECB52"
          ],
          "font": {
           "color": "#2a3f5f"
          },
          "geo": {
           "bgcolor": "white",
           "lakecolor": "white",
           "landcolor": "#E5ECF6",
           "showlakes": true,
           "showland": true,
           "subunitcolor": "white"
          },
          "hoverlabel": {
           "align": "left"
          },
          "hovermode": "closest",
          "mapbox": {
           "style": "light"
          },
          "paper_bgcolor": "white",
          "plot_bgcolor": "#E5ECF6",
          "polar": {
           "angularaxis": {
            "gridcolor": "white",
            "linecolor": "white",
            "ticks": ""
           },
           "bgcolor": "#E5ECF6",
           "radialaxis": {
            "gridcolor": "white",
            "linecolor": "white",
            "ticks": ""
           }
          },
          "scene": {
           "xaxis": {
            "backgroundcolor": "#E5ECF6",
            "gridcolor": "white",
            "gridwidth": 2,
            "linecolor": "white",
            "showbackground": true,
            "ticks": "",
            "zerolinecolor": "white"
           },
           "yaxis": {
            "backgroundcolor": "#E5ECF6",
            "gridcolor": "white",
            "gridwidth": 2,
            "linecolor": "white",
            "showbackground": true,
            "ticks": "",
            "zerolinecolor": "white"
           },
           "zaxis": {
            "backgroundcolor": "#E5ECF6",
            "gridcolor": "white",
            "gridwidth": 2,
            "linecolor": "white",
            "showbackground": true,
            "ticks": "",
            "zerolinecolor": "white"
           }
          },
          "shapedefaults": {
           "line": {
            "color": "#2a3f5f"
           }
          },
          "ternary": {
           "aaxis": {
            "gridcolor": "white",
            "linecolor": "white",
            "ticks": ""
           },
           "baxis": {
            "gridcolor": "white",
            "linecolor": "white",
            "ticks": ""
           },
           "bgcolor": "#E5ECF6",
           "caxis": {
            "gridcolor": "white",
            "linecolor": "white",
            "ticks": ""
           }
          },
          "title": {
           "x": 0.05
          },
          "xaxis": {
           "automargin": true,
           "gridcolor": "white",
           "linecolor": "white",
           "ticks": "",
           "title": {
            "standoff": 15
           },
           "zerolinecolor": "white",
           "zerolinewidth": 2
          },
          "yaxis": {
           "automargin": true,
           "gridcolor": "white",
           "linecolor": "white",
           "ticks": "",
           "title": {
            "standoff": 15
           },
           "zerolinecolor": "white",
           "zerolinewidth": 2
          }
         }
        },
        "ternary": {
         "aaxis": {
          "title": {
           "text": "AG"
          }
         },
         "baxis": {
          "title": {
           "text": "FR"
          }
         },
         "caxis": {
          "title": {
           "text": "None"
          }
         },
         "domain": {
          "x": [
           0,
           1
          ],
          "y": [
           0,
           1
          ]
         }
        },
        "title": {
         "x": 0.5
        }
       }
      },
      "text/html": [
       "<div>                            <div id=\"f9cb351c-72f7-4c65-9a41-43958da08097\" class=\"plotly-graph-div\" style=\"height:525px; width:100%;\"></div>            <script type=\"text/javascript\">                require([\"plotly\"], function(Plotly) {                    window.PLOTLYENV=window.PLOTLYENV || {};                                    if (document.getElementById(\"f9cb351c-72f7-4c65-9a41-43958da08097\")) {                    Plotly.newPlot(                        \"f9cb351c-72f7-4c65-9a41-43958da08097\",                        [{\"a\":[0.3949182979833892,0.33361890911301567,0.3527553544477946,0.3689977608866536,0.33335197180169424,0.2703430962730638],\"b\":[0.33216425281887074,0.34342994654755343,0.4263067034764932,0.3481591965093428,0.29045149440701556,0.30681562160490183],\"c\":[0.27291744919774,0.3229511443394308,0.2209379420757122,0.2828430426040036,0.3761965337912902,0.4228412821220344],\"hovertemplate\":\"AG=%{a}<br>FR=%{b}<br>None=%{c}<br>Topic=%{text}<extra></extra>\",\"legendgroup\":\"\",\"marker\":{\"color\":\"lightblue\",\"symbol\":\"circle\"},\"mode\":\"markers+text\",\"name\":\"\",\"showlegend\":false,\"subplot\":\"ternary\",\"text\":[1.0,2.0,3.0,4.0,5.0,6.0],\"type\":\"scatterternary\",\"textfont\":{\"size\":12},\"textposition\":\"bottom center\"}],                        {\"template\":{\"data\":{\"histogram2dcontour\":[{\"type\":\"histogram2dcontour\",\"colorbar\":{\"outlinewidth\":0,\"ticks\":\"\"},\"colorscale\":[[0.0,\"#0d0887\"],[0.1111111111111111,\"#46039f\"],[0.2222222222222222,\"#7201a8\"],[0.3333333333333333,\"#9c179e\"],[0.4444444444444444,\"#bd3786\"],[0.5555555555555556,\"#d8576b\"],[0.6666666666666666,\"#ed7953\"],[0.7777777777777778,\"#fb9f3a\"],[0.8888888888888888,\"#fdca26\"],[1.0,\"#f0f921\"]]}],\"choropleth\":[{\"type\":\"choropleth\",\"colorbar\":{\"outlinewidth\":0,\"ticks\":\"\"}}],\"histogram2d\":[{\"type\":\"histogram2d\",\"colorbar\":{\"outlinewidth\":0,\"ticks\":\"\"},\"colorscale\":[[0.0,\"#0d0887\"],[0.1111111111111111,\"#46039f\"],[0.2222222222222222,\"#7201a8\"],[0.3333333333333333,\"#9c179e\"],[0.4444444444444444,\"#bd3786\"],[0.5555555555555556,\"#d8576b\"],[0.6666666666666666,\"#ed7953\"],[0.7777777777777778,\"#fb9f3a\"],[0.8888888888888888,\"#fdca26\"],[1.0,\"#f0f921\"]]}],\"heatmap\":[{\"type\":\"heatmap\",\"colorbar\":{\"outlinewidth\":0,\"ticks\":\"\"},\"colorscale\":[[0.0,\"#0d0887\"],[0.1111111111111111,\"#46039f\"],[0.2222222222222222,\"#7201a8\"],[0.3333333333333333,\"#9c179e\"],[0.4444444444444444,\"#bd3786\"],[0.5555555555555556,\"#d8576b\"],[0.6666666666666666,\"#ed7953\"],[0.7777777777777778,\"#fb9f3a\"],[0.8888888888888888,\"#fdca26\"],[1.0,\"#f0f921\"]]}],\"heatmapgl\":[{\"type\":\"heatmapgl\",\"colorbar\":{\"outlinewidth\":0,\"ticks\":\"\"},\"colorscale\":[[0.0,\"#0d0887\"],[0.1111111111111111,\"#46039f\"],[0.2222222222222222,\"#7201a8\"],[0.3333333333333333,\"#9c179e\"],[0.4444444444444444,\"#bd3786\"],[0.5555555555555556,\"#d8576b\"],[0.6666666666666666,\"#ed7953\"],[0.7777777777777778,\"#fb9f3a\"],[0.8888888888888888,\"#fdca26\"],[1.0,\"#f0f921\"]]}],\"contourcarpet\":[{\"type\":\"contourcarpet\",\"colorbar\":{\"outlinewidth\":0,\"ticks\":\"\"}}],\"contour\":[{\"type\":\"contour\",\"colorbar\":{\"outlinewidth\":0,\"ticks\":\"\"},\"colorscale\":[[0.0,\"#0d0887\"],[0.1111111111111111,\"#46039f\"],[0.2222222222222222,\"#7201a8\"],[0.3333333333333333,\"#9c179e\"],[0.4444444444444444,\"#bd3786\"],[0.5555555555555556,\"#d8576b\"],[0.6666666666666666,\"#ed7953\"],[0.7777777777777778,\"#fb9f3a\"],[0.8888888888888888,\"#fdca26\"],[1.0,\"#f0f921\"]]}],\"surface\":[{\"type\":\"surface\",\"colorbar\":{\"outlinewidth\":0,\"ticks\":\"\"},\"colorscale\":[[0.0,\"#0d0887\"],[0.1111111111111111,\"#46039f\"],[0.2222222222222222,\"#7201a8\"],[0.3333333333333333,\"#9c179e\"],[0.4444444444444444,\"#bd3786\"],[0.5555555555555556,\"#d8576b\"],[0.6666666666666666,\"#ed7953\"],[0.7777777777777778,\"#fb9f3a\"],[0.8888888888888888,\"#fdca26\"],[1.0,\"#f0f921\"]]}],\"mesh3d\":[{\"type\":\"mesh3d\",\"colorbar\":{\"outlinewidth\":0,\"ticks\":\"\"}}],\"scatter\":[{\"fillpattern\":{\"fillmode\":\"overlay\",\"size\":10,\"solidity\":0.2},\"type\":\"scatter\"}],\"parcoords\":[{\"type\":\"parcoords\",\"line\":{\"colorbar\":{\"outlinewidth\":0,\"ticks\":\"\"}}}],\"scatterpolargl\":[{\"type\":\"scatterpolargl\",\"marker\":{\"colorbar\":{\"outlinewidth\":0,\"ticks\":\"\"}}}],\"bar\":[{\"error_x\":{\"color\":\"#2a3f5f\"},\"error_y\":{\"color\":\"#2a3f5f\"},\"marker\":{\"line\":{\"color\":\"#E5ECF6\",\"width\":0.5},\"pattern\":{\"fillmode\":\"overlay\",\"size\":10,\"solidity\":0.2}},\"type\":\"bar\"}],\"scattergeo\":[{\"type\":\"scattergeo\",\"marker\":{\"colorbar\":{\"outlinewidth\":0,\"ticks\":\"\"}}}],\"scatterpolar\":[{\"type\":\"scatterpolar\",\"marker\":{\"colorbar\":{\"outlinewidth\":0,\"ticks\":\"\"}}}],\"histogram\":[{\"marker\":{\"pattern\":{\"fillmode\":\"overlay\",\"size\":10,\"solidity\":0.2}},\"type\":\"histogram\"}],\"scattergl\":[{\"type\":\"scattergl\",\"marker\":{\"colorbar\":{\"outlinewidth\":0,\"ticks\":\"\"}}}],\"scatter3d\":[{\"type\":\"scatter3d\",\"line\":{\"colorbar\":{\"outlinewidth\":0,\"ticks\":\"\"}},\"marker\":{\"colorbar\":{\"outlinewidth\":0,\"ticks\":\"\"}}}],\"scattermapbox\":[{\"type\":\"scattermapbox\",\"marker\":{\"colorbar\":{\"outlinewidth\":0,\"ticks\":\"\"}}}],\"scatterternary\":[{\"type\":\"scatterternary\",\"marker\":{\"colorbar\":{\"outlinewidth\":0,\"ticks\":\"\"}}}],\"scattercarpet\":[{\"type\":\"scattercarpet\",\"marker\":{\"colorbar\":{\"outlinewidth\":0,\"ticks\":\"\"}}}],\"carpet\":[{\"aaxis\":{\"endlinecolor\":\"#2a3f5f\",\"gridcolor\":\"white\",\"linecolor\":\"white\",\"minorgridcolor\":\"white\",\"startlinecolor\":\"#2a3f5f\"},\"baxis\":{\"endlinecolor\":\"#2a3f5f\",\"gridcolor\":\"white\",\"linecolor\":\"white\",\"minorgridcolor\":\"white\",\"startlinecolor\":\"#2a3f5f\"},\"type\":\"carpet\"}],\"table\":[{\"cells\":{\"fill\":{\"color\":\"#EBF0F8\"},\"line\":{\"color\":\"white\"}},\"header\":{\"fill\":{\"color\":\"#C8D4E3\"},\"line\":{\"color\":\"white\"}},\"type\":\"table\"}],\"barpolar\":[{\"marker\":{\"line\":{\"color\":\"#E5ECF6\",\"width\":0.5},\"pattern\":{\"fillmode\":\"overlay\",\"size\":10,\"solidity\":0.2}},\"type\":\"barpolar\"}],\"pie\":[{\"automargin\":true,\"type\":\"pie\"}]},\"layout\":{\"autotypenumbers\":\"strict\",\"colorway\":[\"#636efa\",\"#EF553B\",\"#00cc96\",\"#ab63fa\",\"#FFA15A\",\"#19d3f3\",\"#FF6692\",\"#B6E880\",\"#FF97FF\",\"#FECB52\"],\"font\":{\"color\":\"#2a3f5f\"},\"hovermode\":\"closest\",\"hoverlabel\":{\"align\":\"left\"},\"paper_bgcolor\":\"white\",\"plot_bgcolor\":\"#E5ECF6\",\"polar\":{\"bgcolor\":\"#E5ECF6\",\"angularaxis\":{\"gridcolor\":\"white\",\"linecolor\":\"white\",\"ticks\":\"\"},\"radialaxis\":{\"gridcolor\":\"white\",\"linecolor\":\"white\",\"ticks\":\"\"}},\"ternary\":{\"bgcolor\":\"#E5ECF6\",\"aaxis\":{\"gridcolor\":\"white\",\"linecolor\":\"white\",\"ticks\":\"\"},\"baxis\":{\"gridcolor\":\"white\",\"linecolor\":\"white\",\"ticks\":\"\"},\"caxis\":{\"gridcolor\":\"white\",\"linecolor\":\"white\",\"ticks\":\"\"}},\"coloraxis\":{\"colorbar\":{\"outlinewidth\":0,\"ticks\":\"\"}},\"colorscale\":{\"sequential\":[[0.0,\"#0d0887\"],[0.1111111111111111,\"#46039f\"],[0.2222222222222222,\"#7201a8\"],[0.3333333333333333,\"#9c179e\"],[0.4444444444444444,\"#bd3786\"],[0.5555555555555556,\"#d8576b\"],[0.6666666666666666,\"#ed7953\"],[0.7777777777777778,\"#fb9f3a\"],[0.8888888888888888,\"#fdca26\"],[1.0,\"#f0f921\"]],\"sequentialminus\":[[0.0,\"#0d0887\"],[0.1111111111111111,\"#46039f\"],[0.2222222222222222,\"#7201a8\"],[0.3333333333333333,\"#9c179e\"],[0.4444444444444444,\"#bd3786\"],[0.5555555555555556,\"#d8576b\"],[0.6666666666666666,\"#ed7953\"],[0.7777777777777778,\"#fb9f3a\"],[0.8888888888888888,\"#fdca26\"],[1.0,\"#f0f921\"]],\"diverging\":[[0,\"#8e0152\"],[0.1,\"#c51b7d\"],[0.2,\"#de77ae\"],[0.3,\"#f1b6da\"],[0.4,\"#fde0ef\"],[0.5,\"#f7f7f7\"],[0.6,\"#e6f5d0\"],[0.7,\"#b8e186\"],[0.8,\"#7fbc41\"],[0.9,\"#4d9221\"],[1,\"#276419\"]]},\"xaxis\":{\"gridcolor\":\"white\",\"linecolor\":\"white\",\"ticks\":\"\",\"title\":{\"standoff\":15},\"zerolinecolor\":\"white\",\"automargin\":true,\"zerolinewidth\":2},\"yaxis\":{\"gridcolor\":\"white\",\"linecolor\":\"white\",\"ticks\":\"\",\"title\":{\"standoff\":15},\"zerolinecolor\":\"white\",\"automargin\":true,\"zerolinewidth\":2},\"scene\":{\"xaxis\":{\"backgroundcolor\":\"#E5ECF6\",\"gridcolor\":\"white\",\"linecolor\":\"white\",\"showbackground\":true,\"ticks\":\"\",\"zerolinecolor\":\"white\",\"gridwidth\":2},\"yaxis\":{\"backgroundcolor\":\"#E5ECF6\",\"gridcolor\":\"white\",\"linecolor\":\"white\",\"showbackground\":true,\"ticks\":\"\",\"zerolinecolor\":\"white\",\"gridwidth\":2},\"zaxis\":{\"backgroundcolor\":\"#E5ECF6\",\"gridcolor\":\"white\",\"linecolor\":\"white\",\"showbackground\":true,\"ticks\":\"\",\"zerolinecolor\":\"white\",\"gridwidth\":2}},\"shapedefaults\":{\"line\":{\"color\":\"#2a3f5f\"}},\"annotationdefaults\":{\"arrowcolor\":\"#2a3f5f\",\"arrowhead\":0,\"arrowwidth\":1},\"geo\":{\"bgcolor\":\"white\",\"landcolor\":\"#E5ECF6\",\"subunitcolor\":\"white\",\"showland\":true,\"showlakes\":true,\"lakecolor\":\"white\"},\"title\":{\"x\":0.05},\"mapbox\":{\"style\":\"light\"}}},\"ternary\":{\"domain\":{\"x\":[0.0,1.0],\"y\":[0.0,1.0]},\"aaxis\":{\"title\":{\"text\":\"AG\"}},\"baxis\":{\"title\":{\"text\":\"FR\"}},\"caxis\":{\"title\":{\"text\":\"None\"}}},\"legend\":{\"tracegroupgap\":0},\"margin\":{\"t\":60},\"title\":{\"x\":0.5},\"coloraxis\":{\"colorbar\":{\"title\":{\"side\":\"bottom\"}}}},                        {\"responsive\": true}                    ).then(function(){\n",
       "                            \n",
       "var gd = document.getElementById('f9cb351c-72f7-4c65-9a41-43958da08097');\n",
       "var x = new MutationObserver(function (mutations, observer) {{\n",
       "        var display = window.getComputedStyle(gd).display;\n",
       "        if (!display || display === 'none') {{\n",
       "            console.log([gd, 'removed!']);\n",
       "            Plotly.purge(gd);\n",
       "            observer.disconnect();\n",
       "        }}\n",
       "}});\n",
       "\n",
       "// Listen for the removal of the full notebook cells\n",
       "var notebookContainer = gd.closest('#notebook-container');\n",
       "if (notebookContainer) {{\n",
       "    x.observe(notebookContainer, {childList: true});\n",
       "}}\n",
       "\n",
       "// Listen for the clearing of the current output cell\n",
       "var outputEl = gd.closest('.output');\n",
       "if (outputEl) {{\n",
       "    x.observe(outputEl, {childList: true});\n",
       "}}\n",
       "\n",
       "                        })                };                });            </script>        </div>"
      ]
     },
     "metadata": {},
     "output_type": "display_data"
    },
    {
     "data": {
      "text/plain": [
       "Topic 3    0.513823\n",
       "Topic 1    0.352419\n",
       "Topic 2    0.330773\n",
       "Topic 4    0.319614\n",
       "Topic 6    0.311055\n",
       "Topic 5    0.309771\n",
       "Name: Gen 0, dtype: float64"
      ]
     },
     "execution_count": 32,
     "metadata": {},
     "output_type": "execute_result"
    },
    {
     "data": {
      "text/plain": [
       "Topic 6    0.377758\n",
       "Topic 2    0.356143\n",
       "Topic 4    0.340955\n",
       "Topic 1    0.327746\n",
       "Topic 5    0.266705\n",
       "Topic 3    0.167664\n",
       "Name: Stable, dtype: float64"
      ]
     },
     "execution_count": 32,
     "metadata": {},
     "output_type": "execute_result"
    },
    {
     "data": {
      "text/plain": [
       "Topic 5    0.423524\n",
       "Topic 4    0.339431\n",
       "Topic 1    0.319835\n",
       "Topic 3    0.318513\n",
       "Topic 2    0.313085\n",
       "Topic 6    0.311187\n",
       "Name: Switched, dtype: float64"
      ]
     },
     "execution_count": 32,
     "metadata": {},
     "output_type": "execute_result"
    },
    {
     "data": {
      "application/vnd.plotly.v1+json": {
       "config": {
        "plotlyServerURL": "https://plot.ly"
       },
       "data": [
        {
         "a": [
          0.35241883743186764,
          0.33077294158230486,
          0.5138226155020078,
          0.31961377651454265,
          0.309771051471395,
          0.3110549458384829
         ],
         "b": [
          0.32774619016690604,
          0.35614254728489264,
          0.1676640569301716,
          0.3409554538220562,
          0.2667053173332283,
          0.37775847081072383
         ],
         "c": [
          0.31983497240122627,
          0.3130845111328025,
          0.31851332756782064,
          0.33943076966340113,
          0.42352363119537667,
          0.3111865833507932
         ],
         "hovertemplate": "G0=%{a}<br>ST=%{b}<br>SW=%{c}<br>Topic=%{text}<extra></extra>",
         "legendgroup": "",
         "marker": {
          "color": "lightblue",
          "symbol": "circle"
         },
         "mode": "markers+text",
         "name": "",
         "showlegend": false,
         "subplot": "ternary",
         "text": [
          1,
          2,
          3,
          4,
          5,
          6
         ],
         "textfont": {
          "size": 12
         },
         "textposition": "bottom center",
         "type": "scatterternary"
        }
       ],
       "layout": {
        "coloraxis": {
         "colorbar": {
          "title": {
           "side": "bottom"
          }
         }
        },
        "legend": {
         "tracegroupgap": 0
        },
        "margin": {
         "t": 60
        },
        "template": {
         "data": {
          "bar": [
           {
            "error_x": {
             "color": "#2a3f5f"
            },
            "error_y": {
             "color": "#2a3f5f"
            },
            "marker": {
             "line": {
              "color": "#E5ECF6",
              "width": 0.5
             },
             "pattern": {
              "fillmode": "overlay",
              "size": 10,
              "solidity": 0.2
             }
            },
            "type": "bar"
           }
          ],
          "barpolar": [
           {
            "marker": {
             "line": {
              "color": "#E5ECF6",
              "width": 0.5
             },
             "pattern": {
              "fillmode": "overlay",
              "size": 10,
              "solidity": 0.2
             }
            },
            "type": "barpolar"
           }
          ],
          "carpet": [
           {
            "aaxis": {
             "endlinecolor": "#2a3f5f",
             "gridcolor": "white",
             "linecolor": "white",
             "minorgridcolor": "white",
             "startlinecolor": "#2a3f5f"
            },
            "baxis": {
             "endlinecolor": "#2a3f5f",
             "gridcolor": "white",
             "linecolor": "white",
             "minorgridcolor": "white",
             "startlinecolor": "#2a3f5f"
            },
            "type": "carpet"
           }
          ],
          "choropleth": [
           {
            "colorbar": {
             "outlinewidth": 0,
             "ticks": ""
            },
            "type": "choropleth"
           }
          ],
          "contour": [
           {
            "colorbar": {
             "outlinewidth": 0,
             "ticks": ""
            },
            "colorscale": [
             [
              0,
              "#0d0887"
             ],
             [
              0.1111111111111111,
              "#46039f"
             ],
             [
              0.2222222222222222,
              "#7201a8"
             ],
             [
              0.3333333333333333,
              "#9c179e"
             ],
             [
              0.4444444444444444,
              "#bd3786"
             ],
             [
              0.5555555555555556,
              "#d8576b"
             ],
             [
              0.6666666666666666,
              "#ed7953"
             ],
             [
              0.7777777777777778,
              "#fb9f3a"
             ],
             [
              0.8888888888888888,
              "#fdca26"
             ],
             [
              1,
              "#f0f921"
             ]
            ],
            "type": "contour"
           }
          ],
          "contourcarpet": [
           {
            "colorbar": {
             "outlinewidth": 0,
             "ticks": ""
            },
            "type": "contourcarpet"
           }
          ],
          "heatmap": [
           {
            "colorbar": {
             "outlinewidth": 0,
             "ticks": ""
            },
            "colorscale": [
             [
              0,
              "#0d0887"
             ],
             [
              0.1111111111111111,
              "#46039f"
             ],
             [
              0.2222222222222222,
              "#7201a8"
             ],
             [
              0.3333333333333333,
              "#9c179e"
             ],
             [
              0.4444444444444444,
              "#bd3786"
             ],
             [
              0.5555555555555556,
              "#d8576b"
             ],
             [
              0.6666666666666666,
              "#ed7953"
             ],
             [
              0.7777777777777778,
              "#fb9f3a"
             ],
             [
              0.8888888888888888,
              "#fdca26"
             ],
             [
              1,
              "#f0f921"
             ]
            ],
            "type": "heatmap"
           }
          ],
          "heatmapgl": [
           {
            "colorbar": {
             "outlinewidth": 0,
             "ticks": ""
            },
            "colorscale": [
             [
              0,
              "#0d0887"
             ],
             [
              0.1111111111111111,
              "#46039f"
             ],
             [
              0.2222222222222222,
              "#7201a8"
             ],
             [
              0.3333333333333333,
              "#9c179e"
             ],
             [
              0.4444444444444444,
              "#bd3786"
             ],
             [
              0.5555555555555556,
              "#d8576b"
             ],
             [
              0.6666666666666666,
              "#ed7953"
             ],
             [
              0.7777777777777778,
              "#fb9f3a"
             ],
             [
              0.8888888888888888,
              "#fdca26"
             ],
             [
              1,
              "#f0f921"
             ]
            ],
            "type": "heatmapgl"
           }
          ],
          "histogram": [
           {
            "marker": {
             "pattern": {
              "fillmode": "overlay",
              "size": 10,
              "solidity": 0.2
             }
            },
            "type": "histogram"
           }
          ],
          "histogram2d": [
           {
            "colorbar": {
             "outlinewidth": 0,
             "ticks": ""
            },
            "colorscale": [
             [
              0,
              "#0d0887"
             ],
             [
              0.1111111111111111,
              "#46039f"
             ],
             [
              0.2222222222222222,
              "#7201a8"
             ],
             [
              0.3333333333333333,
              "#9c179e"
             ],
             [
              0.4444444444444444,
              "#bd3786"
             ],
             [
              0.5555555555555556,
              "#d8576b"
             ],
             [
              0.6666666666666666,
              "#ed7953"
             ],
             [
              0.7777777777777778,
              "#fb9f3a"
             ],
             [
              0.8888888888888888,
              "#fdca26"
             ],
             [
              1,
              "#f0f921"
             ]
            ],
            "type": "histogram2d"
           }
          ],
          "histogram2dcontour": [
           {
            "colorbar": {
             "outlinewidth": 0,
             "ticks": ""
            },
            "colorscale": [
             [
              0,
              "#0d0887"
             ],
             [
              0.1111111111111111,
              "#46039f"
             ],
             [
              0.2222222222222222,
              "#7201a8"
             ],
             [
              0.3333333333333333,
              "#9c179e"
             ],
             [
              0.4444444444444444,
              "#bd3786"
             ],
             [
              0.5555555555555556,
              "#d8576b"
             ],
             [
              0.6666666666666666,
              "#ed7953"
             ],
             [
              0.7777777777777778,
              "#fb9f3a"
             ],
             [
              0.8888888888888888,
              "#fdca26"
             ],
             [
              1,
              "#f0f921"
             ]
            ],
            "type": "histogram2dcontour"
           }
          ],
          "mesh3d": [
           {
            "colorbar": {
             "outlinewidth": 0,
             "ticks": ""
            },
            "type": "mesh3d"
           }
          ],
          "parcoords": [
           {
            "line": {
             "colorbar": {
              "outlinewidth": 0,
              "ticks": ""
             }
            },
            "type": "parcoords"
           }
          ],
          "pie": [
           {
            "automargin": true,
            "type": "pie"
           }
          ],
          "scatter": [
           {
            "fillpattern": {
             "fillmode": "overlay",
             "size": 10,
             "solidity": 0.2
            },
            "type": "scatter"
           }
          ],
          "scatter3d": [
           {
            "line": {
             "colorbar": {
              "outlinewidth": 0,
              "ticks": ""
             }
            },
            "marker": {
             "colorbar": {
              "outlinewidth": 0,
              "ticks": ""
             }
            },
            "type": "scatter3d"
           }
          ],
          "scattercarpet": [
           {
            "marker": {
             "colorbar": {
              "outlinewidth": 0,
              "ticks": ""
             }
            },
            "type": "scattercarpet"
           }
          ],
          "scattergeo": [
           {
            "marker": {
             "colorbar": {
              "outlinewidth": 0,
              "ticks": ""
             }
            },
            "type": "scattergeo"
           }
          ],
          "scattergl": [
           {
            "marker": {
             "colorbar": {
              "outlinewidth": 0,
              "ticks": ""
             }
            },
            "type": "scattergl"
           }
          ],
          "scattermapbox": [
           {
            "marker": {
             "colorbar": {
              "outlinewidth": 0,
              "ticks": ""
             }
            },
            "type": "scattermapbox"
           }
          ],
          "scatterpolar": [
           {
            "marker": {
             "colorbar": {
              "outlinewidth": 0,
              "ticks": ""
             }
            },
            "type": "scatterpolar"
           }
          ],
          "scatterpolargl": [
           {
            "marker": {
             "colorbar": {
              "outlinewidth": 0,
              "ticks": ""
             }
            },
            "type": "scatterpolargl"
           }
          ],
          "scatterternary": [
           {
            "marker": {
             "colorbar": {
              "outlinewidth": 0,
              "ticks": ""
             }
            },
            "type": "scatterternary"
           }
          ],
          "surface": [
           {
            "colorbar": {
             "outlinewidth": 0,
             "ticks": ""
            },
            "colorscale": [
             [
              0,
              "#0d0887"
             ],
             [
              0.1111111111111111,
              "#46039f"
             ],
             [
              0.2222222222222222,
              "#7201a8"
             ],
             [
              0.3333333333333333,
              "#9c179e"
             ],
             [
              0.4444444444444444,
              "#bd3786"
             ],
             [
              0.5555555555555556,
              "#d8576b"
             ],
             [
              0.6666666666666666,
              "#ed7953"
             ],
             [
              0.7777777777777778,
              "#fb9f3a"
             ],
             [
              0.8888888888888888,
              "#fdca26"
             ],
             [
              1,
              "#f0f921"
             ]
            ],
            "type": "surface"
           }
          ],
          "table": [
           {
            "cells": {
             "fill": {
              "color": "#EBF0F8"
             },
             "line": {
              "color": "white"
             }
            },
            "header": {
             "fill": {
              "color": "#C8D4E3"
             },
             "line": {
              "color": "white"
             }
            },
            "type": "table"
           }
          ]
         },
         "layout": {
          "annotationdefaults": {
           "arrowcolor": "#2a3f5f",
           "arrowhead": 0,
           "arrowwidth": 1
          },
          "autotypenumbers": "strict",
          "coloraxis": {
           "colorbar": {
            "outlinewidth": 0,
            "ticks": ""
           }
          },
          "colorscale": {
           "diverging": [
            [
             0,
             "#8e0152"
            ],
            [
             0.1,
             "#c51b7d"
            ],
            [
             0.2,
             "#de77ae"
            ],
            [
             0.3,
             "#f1b6da"
            ],
            [
             0.4,
             "#fde0ef"
            ],
            [
             0.5,
             "#f7f7f7"
            ],
            [
             0.6,
             "#e6f5d0"
            ],
            [
             0.7,
             "#b8e186"
            ],
            [
             0.8,
             "#7fbc41"
            ],
            [
             0.9,
             "#4d9221"
            ],
            [
             1,
             "#276419"
            ]
           ],
           "sequential": [
            [
             0,
             "#0d0887"
            ],
            [
             0.1111111111111111,
             "#46039f"
            ],
            [
             0.2222222222222222,
             "#7201a8"
            ],
            [
             0.3333333333333333,
             "#9c179e"
            ],
            [
             0.4444444444444444,
             "#bd3786"
            ],
            [
             0.5555555555555556,
             "#d8576b"
            ],
            [
             0.6666666666666666,
             "#ed7953"
            ],
            [
             0.7777777777777778,
             "#fb9f3a"
            ],
            [
             0.8888888888888888,
             "#fdca26"
            ],
            [
             1,
             "#f0f921"
            ]
           ],
           "sequentialminus": [
            [
             0,
             "#0d0887"
            ],
            [
             0.1111111111111111,
             "#46039f"
            ],
            [
             0.2222222222222222,
             "#7201a8"
            ],
            [
             0.3333333333333333,
             "#9c179e"
            ],
            [
             0.4444444444444444,
             "#bd3786"
            ],
            [
             0.5555555555555556,
             "#d8576b"
            ],
            [
             0.6666666666666666,
             "#ed7953"
            ],
            [
             0.7777777777777778,
             "#fb9f3a"
            ],
            [
             0.8888888888888888,
             "#fdca26"
            ],
            [
             1,
             "#f0f921"
            ]
           ]
          },
          "colorway": [
           "#636efa",
           "#EF553B",
           "#00cc96",
           "#ab63fa",
           "#FFA15A",
           "#19d3f3",
           "#FF6692",
           "#B6E880",
           "#FF97FF",
           "#FECB52"
          ],
          "font": {
           "color": "#2a3f5f"
          },
          "geo": {
           "bgcolor": "white",
           "lakecolor": "white",
           "landcolor": "#E5ECF6",
           "showlakes": true,
           "showland": true,
           "subunitcolor": "white"
          },
          "hoverlabel": {
           "align": "left"
          },
          "hovermode": "closest",
          "mapbox": {
           "style": "light"
          },
          "paper_bgcolor": "white",
          "plot_bgcolor": "#E5ECF6",
          "polar": {
           "angularaxis": {
            "gridcolor": "white",
            "linecolor": "white",
            "ticks": ""
           },
           "bgcolor": "#E5ECF6",
           "radialaxis": {
            "gridcolor": "white",
            "linecolor": "white",
            "ticks": ""
           }
          },
          "scene": {
           "xaxis": {
            "backgroundcolor": "#E5ECF6",
            "gridcolor": "white",
            "gridwidth": 2,
            "linecolor": "white",
            "showbackground": true,
            "ticks": "",
            "zerolinecolor": "white"
           },
           "yaxis": {
            "backgroundcolor": "#E5ECF6",
            "gridcolor": "white",
            "gridwidth": 2,
            "linecolor": "white",
            "showbackground": true,
            "ticks": "",
            "zerolinecolor": "white"
           },
           "zaxis": {
            "backgroundcolor": "#E5ECF6",
            "gridcolor": "white",
            "gridwidth": 2,
            "linecolor": "white",
            "showbackground": true,
            "ticks": "",
            "zerolinecolor": "white"
           }
          },
          "shapedefaults": {
           "line": {
            "color": "#2a3f5f"
           }
          },
          "ternary": {
           "aaxis": {
            "gridcolor": "white",
            "linecolor": "white",
            "ticks": ""
           },
           "baxis": {
            "gridcolor": "white",
            "linecolor": "white",
            "ticks": ""
           },
           "bgcolor": "#E5ECF6",
           "caxis": {
            "gridcolor": "white",
            "linecolor": "white",
            "ticks": ""
           }
          },
          "title": {
           "x": 0.05
          },
          "xaxis": {
           "automargin": true,
           "gridcolor": "white",
           "linecolor": "white",
           "ticks": "",
           "title": {
            "standoff": 15
           },
           "zerolinecolor": "white",
           "zerolinewidth": 2
          },
          "yaxis": {
           "automargin": true,
           "gridcolor": "white",
           "linecolor": "white",
           "ticks": "",
           "title": {
            "standoff": 15
           },
           "zerolinecolor": "white",
           "zerolinewidth": 2
          }
         }
        },
        "ternary": {
         "aaxis": {
          "title": {
           "text": "G0"
          }
         },
         "baxis": {
          "title": {
           "text": "ST"
          }
         },
         "caxis": {
          "title": {
           "text": "SW"
          }
         },
         "domain": {
          "x": [
           0,
           1
          ],
          "y": [
           0,
           1
          ]
         }
        },
        "title": {
         "x": 0.5
        }
       }
      },
      "text/html": [
       "<div>                            <div id=\"88dc3221-ffc9-4f15-9f0e-48843bdd4056\" class=\"plotly-graph-div\" style=\"height:525px; width:100%;\"></div>            <script type=\"text/javascript\">                require([\"plotly\"], function(Plotly) {                    window.PLOTLYENV=window.PLOTLYENV || {};                                    if (document.getElementById(\"88dc3221-ffc9-4f15-9f0e-48843bdd4056\")) {                    Plotly.newPlot(                        \"88dc3221-ffc9-4f15-9f0e-48843bdd4056\",                        [{\"a\":[0.35241883743186764,0.33077294158230486,0.5138226155020078,0.31961377651454265,0.309771051471395,0.3110549458384829],\"b\":[0.32774619016690604,0.35614254728489264,0.1676640569301716,0.3409554538220562,0.2667053173332283,0.37775847081072383],\"c\":[0.31983497240122627,0.3130845111328025,0.31851332756782064,0.33943076966340113,0.42352363119537667,0.3111865833507932],\"hovertemplate\":\"G0=%{a}<br>ST=%{b}<br>SW=%{c}<br>Topic=%{text}<extra></extra>\",\"legendgroup\":\"\",\"marker\":{\"color\":\"lightblue\",\"symbol\":\"circle\"},\"mode\":\"markers+text\",\"name\":\"\",\"showlegend\":false,\"subplot\":\"ternary\",\"text\":[1.0,2.0,3.0,4.0,5.0,6.0],\"type\":\"scatterternary\",\"textfont\":{\"size\":12},\"textposition\":\"bottom center\"}],                        {\"template\":{\"data\":{\"histogram2dcontour\":[{\"type\":\"histogram2dcontour\",\"colorbar\":{\"outlinewidth\":0,\"ticks\":\"\"},\"colorscale\":[[0.0,\"#0d0887\"],[0.1111111111111111,\"#46039f\"],[0.2222222222222222,\"#7201a8\"],[0.3333333333333333,\"#9c179e\"],[0.4444444444444444,\"#bd3786\"],[0.5555555555555556,\"#d8576b\"],[0.6666666666666666,\"#ed7953\"],[0.7777777777777778,\"#fb9f3a\"],[0.8888888888888888,\"#fdca26\"],[1.0,\"#f0f921\"]]}],\"choropleth\":[{\"type\":\"choropleth\",\"colorbar\":{\"outlinewidth\":0,\"ticks\":\"\"}}],\"histogram2d\":[{\"type\":\"histogram2d\",\"colorbar\":{\"outlinewidth\":0,\"ticks\":\"\"},\"colorscale\":[[0.0,\"#0d0887\"],[0.1111111111111111,\"#46039f\"],[0.2222222222222222,\"#7201a8\"],[0.3333333333333333,\"#9c179e\"],[0.4444444444444444,\"#bd3786\"],[0.5555555555555556,\"#d8576b\"],[0.6666666666666666,\"#ed7953\"],[0.7777777777777778,\"#fb9f3a\"],[0.8888888888888888,\"#fdca26\"],[1.0,\"#f0f921\"]]}],\"heatmap\":[{\"type\":\"heatmap\",\"colorbar\":{\"outlinewidth\":0,\"ticks\":\"\"},\"colorscale\":[[0.0,\"#0d0887\"],[0.1111111111111111,\"#46039f\"],[0.2222222222222222,\"#7201a8\"],[0.3333333333333333,\"#9c179e\"],[0.4444444444444444,\"#bd3786\"],[0.5555555555555556,\"#d8576b\"],[0.6666666666666666,\"#ed7953\"],[0.7777777777777778,\"#fb9f3a\"],[0.8888888888888888,\"#fdca26\"],[1.0,\"#f0f921\"]]}],\"heatmapgl\":[{\"type\":\"heatmapgl\",\"colorbar\":{\"outlinewidth\":0,\"ticks\":\"\"},\"colorscale\":[[0.0,\"#0d0887\"],[0.1111111111111111,\"#46039f\"],[0.2222222222222222,\"#7201a8\"],[0.3333333333333333,\"#9c179e\"],[0.4444444444444444,\"#bd3786\"],[0.5555555555555556,\"#d8576b\"],[0.6666666666666666,\"#ed7953\"],[0.7777777777777778,\"#fb9f3a\"],[0.8888888888888888,\"#fdca26\"],[1.0,\"#f0f921\"]]}],\"contourcarpet\":[{\"type\":\"contourcarpet\",\"colorbar\":{\"outlinewidth\":0,\"ticks\":\"\"}}],\"contour\":[{\"type\":\"contour\",\"colorbar\":{\"outlinewidth\":0,\"ticks\":\"\"},\"colorscale\":[[0.0,\"#0d0887\"],[0.1111111111111111,\"#46039f\"],[0.2222222222222222,\"#7201a8\"],[0.3333333333333333,\"#9c179e\"],[0.4444444444444444,\"#bd3786\"],[0.5555555555555556,\"#d8576b\"],[0.6666666666666666,\"#ed7953\"],[0.7777777777777778,\"#fb9f3a\"],[0.8888888888888888,\"#fdca26\"],[1.0,\"#f0f921\"]]}],\"surface\":[{\"type\":\"surface\",\"colorbar\":{\"outlinewidth\":0,\"ticks\":\"\"},\"colorscale\":[[0.0,\"#0d0887\"],[0.1111111111111111,\"#46039f\"],[0.2222222222222222,\"#7201a8\"],[0.3333333333333333,\"#9c179e\"],[0.4444444444444444,\"#bd3786\"],[0.5555555555555556,\"#d8576b\"],[0.6666666666666666,\"#ed7953\"],[0.7777777777777778,\"#fb9f3a\"],[0.8888888888888888,\"#fdca26\"],[1.0,\"#f0f921\"]]}],\"mesh3d\":[{\"type\":\"mesh3d\",\"colorbar\":{\"outlinewidth\":0,\"ticks\":\"\"}}],\"scatter\":[{\"fillpattern\":{\"fillmode\":\"overlay\",\"size\":10,\"solidity\":0.2},\"type\":\"scatter\"}],\"parcoords\":[{\"type\":\"parcoords\",\"line\":{\"colorbar\":{\"outlinewidth\":0,\"ticks\":\"\"}}}],\"scatterpolargl\":[{\"type\":\"scatterpolargl\",\"marker\":{\"colorbar\":{\"outlinewidth\":0,\"ticks\":\"\"}}}],\"bar\":[{\"error_x\":{\"color\":\"#2a3f5f\"},\"error_y\":{\"color\":\"#2a3f5f\"},\"marker\":{\"line\":{\"color\":\"#E5ECF6\",\"width\":0.5},\"pattern\":{\"fillmode\":\"overlay\",\"size\":10,\"solidity\":0.2}},\"type\":\"bar\"}],\"scattergeo\":[{\"type\":\"scattergeo\",\"marker\":{\"colorbar\":{\"outlinewidth\":0,\"ticks\":\"\"}}}],\"scatterpolar\":[{\"type\":\"scatterpolar\",\"marker\":{\"colorbar\":{\"outlinewidth\":0,\"ticks\":\"\"}}}],\"histogram\":[{\"marker\":{\"pattern\":{\"fillmode\":\"overlay\",\"size\":10,\"solidity\":0.2}},\"type\":\"histogram\"}],\"scattergl\":[{\"type\":\"scattergl\",\"marker\":{\"colorbar\":{\"outlinewidth\":0,\"ticks\":\"\"}}}],\"scatter3d\":[{\"type\":\"scatter3d\",\"line\":{\"colorbar\":{\"outlinewidth\":0,\"ticks\":\"\"}},\"marker\":{\"colorbar\":{\"outlinewidth\":0,\"ticks\":\"\"}}}],\"scattermapbox\":[{\"type\":\"scattermapbox\",\"marker\":{\"colorbar\":{\"outlinewidth\":0,\"ticks\":\"\"}}}],\"scatterternary\":[{\"type\":\"scatterternary\",\"marker\":{\"colorbar\":{\"outlinewidth\":0,\"ticks\":\"\"}}}],\"scattercarpet\":[{\"type\":\"scattercarpet\",\"marker\":{\"colorbar\":{\"outlinewidth\":0,\"ticks\":\"\"}}}],\"carpet\":[{\"aaxis\":{\"endlinecolor\":\"#2a3f5f\",\"gridcolor\":\"white\",\"linecolor\":\"white\",\"minorgridcolor\":\"white\",\"startlinecolor\":\"#2a3f5f\"},\"baxis\":{\"endlinecolor\":\"#2a3f5f\",\"gridcolor\":\"white\",\"linecolor\":\"white\",\"minorgridcolor\":\"white\",\"startlinecolor\":\"#2a3f5f\"},\"type\":\"carpet\"}],\"table\":[{\"cells\":{\"fill\":{\"color\":\"#EBF0F8\"},\"line\":{\"color\":\"white\"}},\"header\":{\"fill\":{\"color\":\"#C8D4E3\"},\"line\":{\"color\":\"white\"}},\"type\":\"table\"}],\"barpolar\":[{\"marker\":{\"line\":{\"color\":\"#E5ECF6\",\"width\":0.5},\"pattern\":{\"fillmode\":\"overlay\",\"size\":10,\"solidity\":0.2}},\"type\":\"barpolar\"}],\"pie\":[{\"automargin\":true,\"type\":\"pie\"}]},\"layout\":{\"autotypenumbers\":\"strict\",\"colorway\":[\"#636efa\",\"#EF553B\",\"#00cc96\",\"#ab63fa\",\"#FFA15A\",\"#19d3f3\",\"#FF6692\",\"#B6E880\",\"#FF97FF\",\"#FECB52\"],\"font\":{\"color\":\"#2a3f5f\"},\"hovermode\":\"closest\",\"hoverlabel\":{\"align\":\"left\"},\"paper_bgcolor\":\"white\",\"plot_bgcolor\":\"#E5ECF6\",\"polar\":{\"bgcolor\":\"#E5ECF6\",\"angularaxis\":{\"gridcolor\":\"white\",\"linecolor\":\"white\",\"ticks\":\"\"},\"radialaxis\":{\"gridcolor\":\"white\",\"linecolor\":\"white\",\"ticks\":\"\"}},\"ternary\":{\"bgcolor\":\"#E5ECF6\",\"aaxis\":{\"gridcolor\":\"white\",\"linecolor\":\"white\",\"ticks\":\"\"},\"baxis\":{\"gridcolor\":\"white\",\"linecolor\":\"white\",\"ticks\":\"\"},\"caxis\":{\"gridcolor\":\"white\",\"linecolor\":\"white\",\"ticks\":\"\"}},\"coloraxis\":{\"colorbar\":{\"outlinewidth\":0,\"ticks\":\"\"}},\"colorscale\":{\"sequential\":[[0.0,\"#0d0887\"],[0.1111111111111111,\"#46039f\"],[0.2222222222222222,\"#7201a8\"],[0.3333333333333333,\"#9c179e\"],[0.4444444444444444,\"#bd3786\"],[0.5555555555555556,\"#d8576b\"],[0.6666666666666666,\"#ed7953\"],[0.7777777777777778,\"#fb9f3a\"],[0.8888888888888888,\"#fdca26\"],[1.0,\"#f0f921\"]],\"sequentialminus\":[[0.0,\"#0d0887\"],[0.1111111111111111,\"#46039f\"],[0.2222222222222222,\"#7201a8\"],[0.3333333333333333,\"#9c179e\"],[0.4444444444444444,\"#bd3786\"],[0.5555555555555556,\"#d8576b\"],[0.6666666666666666,\"#ed7953\"],[0.7777777777777778,\"#fb9f3a\"],[0.8888888888888888,\"#fdca26\"],[1.0,\"#f0f921\"]],\"diverging\":[[0,\"#8e0152\"],[0.1,\"#c51b7d\"],[0.2,\"#de77ae\"],[0.3,\"#f1b6da\"],[0.4,\"#fde0ef\"],[0.5,\"#f7f7f7\"],[0.6,\"#e6f5d0\"],[0.7,\"#b8e186\"],[0.8,\"#7fbc41\"],[0.9,\"#4d9221\"],[1,\"#276419\"]]},\"xaxis\":{\"gridcolor\":\"white\",\"linecolor\":\"white\",\"ticks\":\"\",\"title\":{\"standoff\":15},\"zerolinecolor\":\"white\",\"automargin\":true,\"zerolinewidth\":2},\"yaxis\":{\"gridcolor\":\"white\",\"linecolor\":\"white\",\"ticks\":\"\",\"title\":{\"standoff\":15},\"zerolinecolor\":\"white\",\"automargin\":true,\"zerolinewidth\":2},\"scene\":{\"xaxis\":{\"backgroundcolor\":\"#E5ECF6\",\"gridcolor\":\"white\",\"linecolor\":\"white\",\"showbackground\":true,\"ticks\":\"\",\"zerolinecolor\":\"white\",\"gridwidth\":2},\"yaxis\":{\"backgroundcolor\":\"#E5ECF6\",\"gridcolor\":\"white\",\"linecolor\":\"white\",\"showbackground\":true,\"ticks\":\"\",\"zerolinecolor\":\"white\",\"gridwidth\":2},\"zaxis\":{\"backgroundcolor\":\"#E5ECF6\",\"gridcolor\":\"white\",\"linecolor\":\"white\",\"showbackground\":true,\"ticks\":\"\",\"zerolinecolor\":\"white\",\"gridwidth\":2}},\"shapedefaults\":{\"line\":{\"color\":\"#2a3f5f\"}},\"annotationdefaults\":{\"arrowcolor\":\"#2a3f5f\",\"arrowhead\":0,\"arrowwidth\":1},\"geo\":{\"bgcolor\":\"white\",\"landcolor\":\"#E5ECF6\",\"subunitcolor\":\"white\",\"showland\":true,\"showlakes\":true,\"lakecolor\":\"white\"},\"title\":{\"x\":0.05},\"mapbox\":{\"style\":\"light\"}}},\"ternary\":{\"domain\":{\"x\":[0.0,1.0],\"y\":[0.0,1.0]},\"aaxis\":{\"title\":{\"text\":\"G0\"}},\"baxis\":{\"title\":{\"text\":\"ST\"}},\"caxis\":{\"title\":{\"text\":\"SW\"}}},\"legend\":{\"tracegroupgap\":0},\"margin\":{\"t\":60},\"title\":{\"x\":0.5},\"coloraxis\":{\"colorbar\":{\"title\":{\"side\":\"bottom\"}}}},                        {\"responsive\": true}                    ).then(function(){\n",
       "                            \n",
       "var gd = document.getElementById('88dc3221-ffc9-4f15-9f0e-48843bdd4056');\n",
       "var x = new MutationObserver(function (mutations, observer) {{\n",
       "        var display = window.getComputedStyle(gd).display;\n",
       "        if (!display || display === 'none') {{\n",
       "            console.log([gd, 'removed!']);\n",
       "            Plotly.purge(gd);\n",
       "            observer.disconnect();\n",
       "        }}\n",
       "}});\n",
       "\n",
       "// Listen for the removal of the full notebook cells\n",
       "var notebookContainer = gd.closest('#notebook-container');\n",
       "if (notebookContainer) {{\n",
       "    x.observe(notebookContainer, {childList: true});\n",
       "}}\n",
       "\n",
       "// Listen for the clearing of the current output cell\n",
       "var outputEl = gd.closest('.output');\n",
       "if (outputEl) {{\n",
       "    x.observe(outputEl, {childList: true});\n",
       "}}\n",
       "\n",
       "                        })                };                });            </script>        </div>"
      ]
     },
     "metadata": {},
     "output_type": "display_data"
    }
   ],
   "source": [
    "#ternary plots, association with soil type and stability of water treatment\n",
    "sub_data = pd.read_csv(path + '/doc-topic_' + str(NTOPICS) + '.dat', sep='\\s+', header=None).iloc[:, np.r_[2:NTOPICS+2]]\n",
    "sub_data.columns = topic_names\n",
    "source_gen = pd.concat([pd.DataFrame(df_gen0_gen1[\"SoilSource\"]), pd.DataFrame(df_gen0_gen1[\"WateringStability\"])], axis=1)\n",
    "source_gen = source_gen.sort_index()\n",
    "potsvstopics = pd.concat([sub_data, source_gen.reset_index()], axis=1)\n",
    "del potsvstopics['ID']\n",
    "del potsvstopics['WateringStability']\n",
    "\n",
    "\n",
    "s0 = potsvstopics[potsvstopics['SoilSource'] == 0]\n",
    "del s0['SoilSource']\n",
    "s1 = potsvstopics[potsvstopics['SoilSource'] == 1]\n",
    "del s1['SoilSource']\n",
    "s2 = potsvstopics[potsvstopics['SoilSource'] == 2]\n",
    "del s2['SoilSource']\n",
    "\n",
    "\n",
    "st_df = pd.concat([pd.DataFrame(s0.sum(axis = 0)/np.sum(s0.sum(axis = 0))), pd.DataFrame(s1.sum(axis = 0)/np.sum(s1.sum(axis = 0))), pd.DataFrame(s2.sum(axis = 0)/np.sum(s2.sum(axis = 0)))], axis = 1)\n",
    "st_df.columns = ['AG', 'FR', 'None'] \n",
    "t = st_df.T\n",
    "t = t.div(t.sum())\n",
    "t = t.T\n",
    "c = t\n",
    "\n",
    "c.loc[:, 'None'].sort_values(ascending = False)\n",
    "\n",
    "sns.set_style(\"whitegrid\")\n",
    "c['Topic'] = range(1,NTOPICS+1)\n",
    "c.columns = ['AG', 'FR', 'None', 'Topic']\n",
    "color_discrete_map={\"CustomColor\": 'red'}\n",
    "fig = px.scatter_ternary(c, a=\"AG\", b=\"FR\", c=\"None\", size_max=15, text=\"Topic\")#, color=\"Abundance\", color_continuous_scale='RdYlBu_r')#, title = \"Colored by the topic abundance\")\n",
    "fig = fig.update(layout=dict(title=dict(x=0.5)))\n",
    "fig = fig.update_coloraxes(colorbar_title_side=\"bottom\")\n",
    "fig = fig.update_traces(textposition='bottom center', textfont=dict(size=12), selector=dict(type='scatterternary'), marker=dict(color='lightblue'))\n",
    "#fig.write_image(\"./upd_images/plot_ternary_\" + str(tax_level) + '.eps')\n",
    "fig.show()\n",
    "\n",
    "\n",
    "\n",
    "sub_data = pd.read_csv(path + \"/doc-topic_\" + str(NTOPICS) + '.dat', sep='\\s+', header=None).iloc[:, np.r_[2:NTOPICS+2]]\n",
    "sub_data.columns = topic_names\n",
    "source_gen = pd.concat([pd.DataFrame(df_gen0_gen1[\"SoilSource\"]), pd.DataFrame(df_gen0_gen1[\"WateringStability\"])], axis=1)\n",
    "source_gen = source_gen.sort_index()\n",
    "potsvstopics = pd.concat([sub_data, source_gen.reset_index()], axis=1)\n",
    "del potsvstopics['ID']\n",
    "del potsvstopics['SoilSource']\n",
    "\n",
    "\n",
    "ws0 = potsvstopics[potsvstopics['WateringStability'] == 0]\n",
    "del ws0['WateringStability']\n",
    "ws1 = potsvstopics[potsvstopics['WateringStability'] == 1]\n",
    "del ws1['WateringStability']\n",
    "ws2 = potsvstopics[potsvstopics['WateringStability'] == 2]\n",
    "del ws2['WateringStability']\n",
    "\n",
    "\n",
    "ws_df = pd.concat([pd.DataFrame(ws0.sum(axis = 0)/np.sum(ws0.sum(axis = 0))), pd.DataFrame(ws1.sum(axis = 0)/np.sum(ws1.sum(axis = 0))), pd.DataFrame(ws2.sum(axis = 0)/np.sum(ws2.sum(axis = 0)))], axis = 1)\n",
    "ws_df.columns = ['Gen 0', 'Stable', 'Switched']\n",
    "\n",
    "\n",
    "t = ws_df.T\n",
    "t = t.div(t.sum())\n",
    "t = t.T\n",
    "c = t\n",
    "\n",
    "c.loc[:, 'Gen 0'].sort_values(ascending = False)\n",
    "c.loc[:, 'Stable'].sort_values(ascending = False)\n",
    "c.loc[:, 'Switched'].sort_values(ascending = False)\n",
    "\n",
    "sns.set_style(\"whitegrid\")   \n",
    "c['Topic'] = range(1, NTOPICS + 1)\n",
    "c.columns = [\"G0\", \"ST\", \"SW\", 'Topic']\n",
    "color_discrete_map={\"CustomColor\": 'red'}\n",
    "#fig = plt.subplots(figsize=(10,10))\n",
    "fig = px.scatter_ternary(c, a=\"G0\", b=\"ST\", c=\"SW\", size_max=15, text=\"Topic\")#, color=\"Abundance\", color_continuous_scale='RdYlBu_r')#, title = \"Colored by the topic abundance\")\n",
    "fig = fig.update(layout=dict(title=dict(x=0.5)))\n",
    "fig = fig.update_coloraxes(colorbar_title_side=\"bottom\")\n",
    "fig = fig.update_traces(textposition='bottom center', textfont_size=12, selector=dict(type='scatterternary'), marker=dict(color='lightblue'))\n",
    "#fig.write_image(\"./upd_images/plot_ternary2_\" + str(tax_level) + '.eps')\n",
    "fig.show()\n"
   ]
  },
  {
   "cell_type": "code",
   "execution_count": 14,
   "metadata": {},
   "outputs": [
    {
     "name": "stdout",
     "output_type": "stream",
     "text": [
      "\\begin{tabular}{llrr}\n",
      "\\toprule\n",
      "  topic &  response &  correlation &  p-value \\\\\n",
      "\\midrule\n",
      "Topic 3 & RootDry\\_g &     0.381000 & 0.000019 \\\\\n",
      "Topic 2 &       LMA &     0.325778 & 0.000300 \\\\\n",
      "Topic 3 & Stem\\_Diam &     0.324194 & 0.000322 \\\\\n",
      "Topic 3 & Height\\_cm &    -0.314657 & 0.000492 \\\\\n",
      "Topic 4 & Stem\\_Diam &    -0.309939 & 0.000603 \\\\\n",
      "Topic 4 &      Cond &    -0.307107 & 0.000681 \\\\\n",
      "Topic 2 & Stem\\_Diam &    -0.301852 & 0.000849 \\\\\n",
      "\\bottomrule\n",
      "\\end{tabular}\n",
      "\n"
     ]
    }
   ],
   "source": [
    "#Spearman's rank correlation with plant traits\n",
    "ntopics = NTOPICS\n",
    "response_list = ['WUEi', \"Amax\", 'Cond', 'SCP_Curve', 'Stem_Diam', 'DroughtTime', 'RootDry_g', \"Height_cm\", \"LWC\", \"LMA\"]\n",
    "store_cor = []\n",
    "store_pval = []\n",
    "topic_list = topic_names\n",
    "alpha = 0.05\n",
    "\n",
    "if tax_level == 'Sequence':\n",
    "    sub_data = pd.read_csv('../gitlab/data/5cv_all_sequence' + \"/doc-topic_\" + str(NTOPICS) + '.dat', sep='\\s+', header=None).iloc[:, np.r_[2:NTOPICS+2]]\n",
    "    sub_data.columns = topic_names\n",
    "    for i in response_list:\n",
    "        store_cor.append(spearmanr_topic_vs_trait_holmbonf(i, ntopics, 0.05, len(response_list)*ntopics)[0])\n",
    "        store_pval.append(spearmanr_topic_vs_trait_holmbonf(i, ntopics, 0.05, len(response_list)*ntopics)[1])\n",
    "\n",
    "    store_pval = [item for sublist in store_pval for item in sublist]\n",
    "    store_cor = [item for sublist in store_cor for item in sublist]\n",
    "    store_names = [item for item in response_list for i in range(ntopics)]\n",
    "    store_topics = topic_list*len(response_list)\n",
    "    df_p = pd.DataFrame(\n",
    "        {'topic': store_topics,\n",
    "         'response': store_names,   \n",
    "         'correlation': store_cor,\n",
    "         'p-value': store_pval\n",
    "        })\n",
    "    cor_alpha = len(df_p.sort_values(\"p-value\"))\n",
    "    df_p = df_p.sort_values(\"p-value\", ascending=True).reset_index()\n",
    "    save_ix = []\n",
    "    for i in range(len(df_p)):\n",
    "        if (df_p['p-value'][i] <= alpha/cor_alpha):\n",
    "            cor_alpha -= 1\n",
    "            save_ix.append(df_p.index[i])\n",
    "    df_p = df_p.iloc[save_ix, 1:5]\n",
    "    print(df_p.to_latex(index=False))  \n",
    "else:\n",
    "    #response_list = ['Water use efficiency', \"Maximum rate of photosynthesis\", 'Stomatal conductance', 'Stomatal closure point', 'Stem diameter', 'Drought time', 'Root biomass', \"Stem height\", \"% Leaf water content\", \"Leaf mass per area\"]\n",
    "    for i in response_list:\n",
    "        store_cor.append(spearmanr_topic_vs_trait_holmbonf(i, ntopics, 0.05, len(response_list)*ntopics)[0])\n",
    "        store_pval.append(spearmanr_topic_vs_trait_holmbonf(i, ntopics, 0.05, len(response_list)*ntopics)[1])\n",
    "    store_pval = [item for sublist in store_pval for item in sublist]\n",
    "    store_cor = [item for sublist in store_cor for item in sublist]\n",
    "    store_names = [item for item in response_list for i in range(ntopics)]\n",
    "    store_topics = topic_list*len(response_list)\n",
    "    df_p = pd.DataFrame(\n",
    "        {'topic': store_topics,\n",
    "         'response': store_names,   \n",
    "         'correlation': store_cor,\n",
    "         'p-value': store_pval\n",
    "        })\n",
    "    cor_alpha = len(df_p.sort_values(\"p-value\"))\n",
    "    df_p = df_p.sort_values(\"p-value\", ascending=True).reset_index()\n",
    "    save_ix = []\n",
    "    for i in range(len(df_p)):\n",
    "        if (df_p['p-value'][i] <= alpha/cor_alpha):\n",
    "            cor_alpha -= 1\n",
    "            #print(i, alpha/cor_alpha, df_p['topic'][i], df_p['response'][i], df_p['correlation'][i], df_p['p-value'][i])\n",
    "            save_ix.append(df_p.index[i])\n",
    "\n",
    "    df_p = df_p.iloc[save_ix, 1:5]\n",
    "    print(df_p.to_latex(index=False))  \n",
    "\n"
   ]
  },
  {
   "cell_type": "code",
   "execution_count": null,
   "metadata": {},
   "outputs": [],
   "source": []
  },
  {
   "cell_type": "code",
   "execution_count": null,
   "metadata": {},
   "outputs": [],
   "source": []
  }
 ],
 "metadata": {
  "kernelspec": {
   "display_name": "Python 3",
   "language": "python",
   "name": "python3"
  },
  "language_info": {
   "codemirror_mode": {
    "name": "ipython",
    "version": 3
   },
   "file_extension": ".py",
   "mimetype": "text/x-python",
   "name": "python",
   "nbconvert_exporter": "python",
   "pygments_lexer": "ipython3",
   "version": "3.8.13"
  }
 },
 "nbformat": 4,
 "nbformat_minor": 4
}
